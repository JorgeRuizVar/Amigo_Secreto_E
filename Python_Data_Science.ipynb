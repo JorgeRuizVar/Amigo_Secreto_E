{
  "nbformat": 4,
  "nbformat_minor": 0,
  "metadata": {
    "colab": {
      "provenance": [],
      "include_colab_link": true
    },
    "kernelspec": {
      "name": "python3",
      "display_name": "Python 3"
    },
    "language_info": {
      "name": "python"
    }
  },
  "cells": [
    {
      "cell_type": "markdown",
      "metadata": {
        "id": "view-in-github",
        "colab_type": "text"
      },
      "source": [
        "<a href=\"https://colab.research.google.com/github/JorgeRuizVar/Amigo_Secreto_E/blob/main/Python_Data_Science.ipynb\" target=\"_parent\"><img src=\"https://colab.research.google.com/assets/colab-badge.svg\" alt=\"Open In Colab\"/></a>"
      ]
    },
    {
      "cell_type": "markdown",
      "source": [
        "# Python para Data Science\n",
        "\n",
        "Notebook para el curso de Python para Data Science publicado en la plataforma de [Alura Latam](https://www.aluracursos.com/)"
      ],
      "metadata": {
        "id": "lQx6Mmv0OJyT"
      }
    },
    {
      "cell_type": "markdown",
      "source": [
        "# Introducción a Python\n",
        "¡Vamos a conocer Python, nuestro ambiente de estudio, y también generaremos nuestro primer código en este lenguaje!"
      ],
      "metadata": {
        "id": "7SiB6JIpYKmY"
      }
    },
    {
      "cell_type": "markdown",
      "source": [
        "## Google Colaboratory\n",
        "\n",
        "Ya aprendimos qué es [Python](https://www.python.org/) y ahora aprenderemos a usar nuestra herramienta de ejecución [Google Colaboratory](https://colab.research.google.com/) para programar en un notebook interactivo.\n",
        "\n",
        "Vamos a probar algunas funciones de este ambiente."
      ],
      "metadata": {
        "id": "Yugfb3fCOYY9"
      }
    },
    {
      "cell_type": "markdown",
      "source": [
        " **`>>> Usa esta celda para mover <<<`**"
      ],
      "metadata": {
        "id": "2iUHQsJasJAk"
      }
    },
    {
      "cell_type": "code",
      "source": [],
      "metadata": {
        "id": "o7jrX_iKhdkU"
      },
      "execution_count": null,
      "outputs": []
    },
    {
      "cell_type": "markdown",
      "source": [
        "## ¡Hola mundo!\n",
        "\n",
        "Vamos a conocer un poco más de cerca nuestro notebook. Para ello ejecutaremos nuestro primer comando en Python: [`print()`](https://docs.python.org/3/library/functions.html#print)"
      ],
      "metadata": {
        "id": "aLSFP2V7XTfe"
      }
    },
    {
      "cell_type": "code",
      "source": [
        "print (\"¡Hola Mundo!\")"
      ],
      "metadata": {
        "id": "0qZX8_ZQBYyk",
        "outputId": "466e226a-cbe3-4b16-8954-6d766f46bf3b",
        "colab": {
          "base_uri": "https://localhost:8080/"
        }
      },
      "execution_count": null,
      "outputs": [
        {
          "output_type": "stream",
          "name": "stdout",
          "text": [
            "¡Hola Mundo!\n"
          ]
        }
      ]
    },
    {
      "cell_type": "code",
      "source": [
        "15"
      ],
      "metadata": {
        "id": "GLMzF_AKBY7a",
        "outputId": "7e778515-3331-4652-cd3f-56878c0de038",
        "colab": {
          "base_uri": "https://localhost:8080/"
        }
      },
      "execution_count": null,
      "outputs": [
        {
          "output_type": "execute_result",
          "data": {
            "text/plain": [
              "15"
            ]
          },
          "metadata": {},
          "execution_count": 2
        }
      ]
    },
    {
      "cell_type": "code",
      "source": [
        "print (\"Mi Nombre es Jorge Ruíz, tengo 29 años y me encanta la Data Science\")"
      ],
      "metadata": {
        "id": "qMBVwcamQ0w_",
        "outputId": "a4babb69-6282-4ac7-ae13-c284292c8b17",
        "colab": {
          "base_uri": "https://localhost:8080/"
        }
      },
      "execution_count": null,
      "outputs": [
        {
          "output_type": "stream",
          "name": "stdout",
          "text": [
            "Mi Nombre es Jorge Ruíz, tengo 29 años y me encanta la Data Science\n"
          ]
        }
      ]
    },
    {
      "cell_type": "code",
      "source": [
        "print (\"Escuela de Datos de Alura\")\n",
        "print (\"Nombre: Jorge\")\n",
        "print (\"Apellido: Ruíz\")"
      ],
      "metadata": {
        "id": "Delt2N2PRMsv",
        "outputId": "27eac52f-6bb2-4168-b1b6-1a7f5c27cad2",
        "colab": {
          "base_uri": "https://localhost:8080/"
        }
      },
      "execution_count": null,
      "outputs": [
        {
          "output_type": "stream",
          "name": "stdout",
          "text": [
            "Escuela de Datos de Alura\n",
            "Nombre: Jorge\n",
            "Apellido: Ruíz\n"
          ]
        }
      ]
    },
    {
      "cell_type": "code",
      "source": [
        "print (\"J\")\n",
        "print (\"O\")\n",
        "print (\"R\")\n",
        "print (\"G\")\n",
        "print (\"E\")"
      ],
      "metadata": {
        "id": "vCGgHTeJRbuX",
        "outputId": "61b8780b-3dc7-4815-debe-3e95c60361c4",
        "colab": {
          "base_uri": "https://localhost:8080/"
        }
      },
      "execution_count": null,
      "outputs": [
        {
          "output_type": "stream",
          "name": "stdout",
          "text": [
            "J\n",
            "O\n",
            "R\n",
            "G\n",
            "E\n"
          ]
        }
      ]
    },
    {
      "cell_type": "code",
      "source": [
        "print (22, \"de Septiembre de\", 1995)"
      ],
      "metadata": {
        "id": "pFBhef8vRpGu",
        "outputId": "74376e97-6622-4339-ebf1-b57d0287a070",
        "colab": {
          "base_uri": "https://localhost:8080/"
        }
      },
      "execution_count": null,
      "outputs": [
        {
          "output_type": "stream",
          "name": "stdout",
          "text": [
            "22 de Septiembre de 1995\n"
          ]
        }
      ]
    },
    {
      "cell_type": "code",
      "source": [
        "print (\"Año actual:\", 2025008)"
      ],
      "metadata": {
        "id": "z2Mbkz3PRz1e",
        "outputId": "94198d80-09f6-460f-ddc0-0fc454100258",
        "colab": {
          "base_uri": "https://localhost:8080/"
        }
      },
      "execution_count": null,
      "outputs": [
        {
          "output_type": "stream",
          "name": "stdout",
          "text": [
            "Año actual: 2025008\n"
          ]
        }
      ]
    },
    {
      "cell_type": "markdown",
      "source": [
        "# Manipulando los datos\n",
        "\n",
        "Vamos a aprender sobre las variables en Python, cómo declararlas y utilizarlas además de conocer otros comandos de este lenguaje. :D"
      ],
      "metadata": {
        "id": "iP8uWQmFYFRs"
      }
    },
    {
      "cell_type": "markdown",
      "source": [
        "## Variables\n",
        "\n",
        "En Data Science trabajamos con varios tipos de datos e informaciones, entonces es esencial saber cómo trabajar con las variables."
      ],
      "metadata": {
        "id": "sLNVmnTbag1Z"
      }
    },
    {
      "cell_type": "markdown",
      "source": [
        "Las variables en Python se crean cuando atribuimos un valor a ella.\n",
        "\n",
        "Para esto, colocamos el nombre de la variable, el signo de igual (`=`) y el valor que queremos atribuirle."
      ],
      "metadata": {
        "id": "lsCY0wahAbf6"
      }
    },
    {
      "cell_type": "code",
      "source": [
        "5"
      ],
      "metadata": {
        "id": "vsHh5buZADND",
        "outputId": "0fb6e59a-0703-4a80-84ac-1dc15443b34d",
        "colab": {
          "base_uri": "https://localhost:8080/"
        }
      },
      "execution_count": null,
      "outputs": [
        {
          "output_type": "execute_result",
          "data": {
            "text/plain": [
              "5"
            ]
          },
          "metadata": {},
          "execution_count": 8
        }
      ]
    },
    {
      "cell_type": "code",
      "source": [
        "id (5)"
      ],
      "metadata": {
        "id": "sivPtqSjADQV",
        "outputId": "e52c41f7-740e-49c5-99ac-8a1de4839771",
        "colab": {
          "base_uri": "https://localhost:8080/"
        }
      },
      "execution_count": null,
      "outputs": [
        {
          "output_type": "execute_result",
          "data": {
            "text/plain": [
              "10750984"
            ]
          },
          "metadata": {},
          "execution_count": 9
        }
      ]
    },
    {
      "cell_type": "code",
      "source": [
        "edad = 5"
      ],
      "metadata": {
        "id": "JC8jO47wADlm"
      },
      "execution_count": null,
      "outputs": []
    },
    {
      "cell_type": "code",
      "source": [
        "print (id(edad))\n",
        "print (id(5))"
      ],
      "metadata": {
        "id": "YD5VKwdFTJKn",
        "outputId": "7b6f29c4-b255-4d8e-9760-eaf5f5c8d6bd",
        "colab": {
          "base_uri": "https://localhost:8080/"
        }
      },
      "execution_count": null,
      "outputs": [
        {
          "output_type": "stream",
          "name": "stdout",
          "text": [
            "10750984\n",
            "10750984\n"
          ]
        }
      ]
    },
    {
      "cell_type": "code",
      "source": [
        "numerocinco= 5"
      ],
      "metadata": {
        "id": "O-XzxCTNTJcO"
      },
      "execution_count": null,
      "outputs": []
    },
    {
      "cell_type": "code",
      "source": [
        "id(numerocinco)"
      ],
      "metadata": {
        "id": "z20RLDVjTJm-",
        "outputId": "5912067d-ed07-435a-a656-7b753ffbe3e7",
        "colab": {
          "base_uri": "https://localhost:8080/"
        }
      },
      "execution_count": null,
      "outputs": [
        {
          "output_type": "execute_result",
          "data": {
            "text/plain": [
              "10750984"
            ]
          },
          "metadata": {},
          "execution_count": 14
        }
      ]
    },
    {
      "cell_type": "code",
      "source": [
        "nombre = \"Jorge\""
      ],
      "metadata": {
        "id": "P_hHfZ_0Tei_"
      },
      "execution_count": null,
      "outputs": []
    },
    {
      "cell_type": "code",
      "source": [
        "id (\"Jorge\")"
      ],
      "metadata": {
        "id": "xYkxz1jDTifO",
        "outputId": "78f314b8-4922-48fd-9fd0-b7321febd8a0",
        "colab": {
          "base_uri": "https://localhost:8080/"
        }
      },
      "execution_count": null,
      "outputs": [
        {
          "output_type": "execute_result",
          "data": {
            "text/plain": [
              "136873428528176"
            ]
          },
          "metadata": {},
          "execution_count": 17
        }
      ]
    },
    {
      "cell_type": "code",
      "source": [
        "id (nombre)"
      ],
      "metadata": {
        "id": "xavIE3O2Tq7e",
        "outputId": "c36de4fc-84ff-4bfb-d908-dcfc90596167",
        "colab": {
          "base_uri": "https://localhost:8080/"
        }
      },
      "execution_count": null,
      "outputs": [
        {
          "output_type": "execute_result",
          "data": {
            "text/plain": [
              "136873428528176"
            ]
          },
          "metadata": {},
          "execution_count": 18
        }
      ]
    },
    {
      "cell_type": "markdown",
      "source": [
        "Existen algunos tipos de nomes que **no** podemos definir para las variables:\n",
        "\n",
        "- **Nombres que comiencen con números**\n",
        "  - Ejemplos: `10_notas`, `2_nombre_casa`, etc.\n",
        "- **Palabras separadas por espacio**\n",
        "  - Ejemplos: `Nombre escuela`, `notas estudiantes`, etc.\n",
        "- **Nombres de funciones de Python**\n",
        "  - Ejemplos: `print`, `type`, etc."
      ],
      "metadata": {
        "id": "om2N0jHKAzwL"
      }
    },
    {
      "cell_type": "markdown",
      "source": [
        "> Las letras mayúsculas y minúsculas generarán diferentes variables. La variable `edad` es diferente de `Edad` que a su vez es diferente de `EDAD`:\n",
        "``` Python\n",
        "edad = 1\n",
        "Edad = 2\n",
        "EDAD = 3\n",
        "_edad = 4\n",
        "_edad_ = 5\n",
        "print(edad, Edad, EDAD, _edad, _edad_)\n",
        "1 2 3 4 5\n",
        "```"
      ],
      "metadata": {
        "id": "A19vY2GVMujB"
      }
    },
    {
      "cell_type": "markdown",
      "source": [
        "## Tipos de variables\n",
        "\n",
        "Cada variable contiene una clase específica con respecto al tipo de objeto al cual esta hace referencia. Estas clases serán diferentes de acuerdo con el tipo de dato que le sea atribuido a una variable.\n",
        "\n",
        "Para conocer la clase de cada elemento usamos la función [`type()`](https://docs.python.org/3/library/functions.html#type)"
      ],
      "metadata": {
        "id": "UqhzuBhBHsps"
      }
    },
    {
      "cell_type": "code",
      "source": [
        "edad = 5"
      ],
      "metadata": {
        "id": "J5a9t73A_-PX"
      },
      "execution_count": null,
      "outputs": []
    },
    {
      "cell_type": "code",
      "source": [
        "type (edad)"
      ],
      "metadata": {
        "id": "rqmO1ew-_-So",
        "outputId": "79e9d860-5fa9-491f-fa39-e2f1def747bf",
        "colab": {
          "base_uri": "https://localhost:8080/"
        }
      },
      "execution_count": null,
      "outputs": [
        {
          "output_type": "execute_result",
          "data": {
            "text/plain": [
              "int"
            ]
          },
          "metadata": {},
          "execution_count": 20
        }
      ]
    },
    {
      "cell_type": "code",
      "source": [
        "promedio = 9.5\n",
        "type (promedio)"
      ],
      "metadata": {
        "id": "xkrPMkeY_-cP",
        "outputId": "09a3eb5d-4f63-489c-d0a8-2e18bf0c4b61",
        "colab": {
          "base_uri": "https://localhost:8080/"
        }
      },
      "execution_count": null,
      "outputs": [
        {
          "output_type": "execute_result",
          "data": {
            "text/plain": [
              "float"
            ]
          },
          "metadata": {},
          "execution_count": 21
        }
      ]
    },
    {
      "cell_type": "code",
      "source": [
        "nombre = (\"Jorge\")\n",
        "type (nombre)"
      ],
      "metadata": {
        "id": "MZSnc1bFXS0P",
        "outputId": "7d5f8c93-2747-4bd0-e31c-f1cd0b4a9cf0",
        "colab": {
          "base_uri": "https://localhost:8080/"
        }
      },
      "execution_count": null,
      "outputs": [
        {
          "output_type": "execute_result",
          "data": {
            "text/plain": [
              "str"
            ]
          },
          "metadata": {},
          "execution_count": 23
        }
      ]
    },
    {
      "cell_type": "code",
      "source": [
        "v = True\n",
        "type (v)"
      ],
      "metadata": {
        "id": "CpzMuBFsXacf",
        "outputId": "375c6ab2-721c-4692-bbb4-b34274a8a666",
        "colab": {
          "base_uri": "https://localhost:8080/"
        }
      },
      "execution_count": null,
      "outputs": [
        {
          "output_type": "execute_result",
          "data": {
            "text/plain": [
              "bool"
            ]
          },
          "metadata": {},
          "execution_count": 26
        }
      ]
    },
    {
      "cell_type": "markdown",
      "source": [
        "En un conjunto de datos escolares podemos tener varios tipos de informaciones. Supongamos que tenemos acceso a la ficha de datos del alumno *Penélope Camacho*, cómo transformamos este nombre en variables de Python?\n",
        "\n",
        "#### Ficha:\n",
        "\n",
        "- Nombre: Penélope Camacho\n",
        "- Edad: 11 años\n",
        "- Promedio del semestre: 9,75\n",
        "- Situación de aprobación: Verdadera (aprobado)"
      ],
      "metadata": {
        "id": "O-FxDumfWu0C"
      }
    },
    {
      "cell_type": "code",
      "source": [
        "nombre_estudiante = \"Penélope Camacho\"\n",
        "edad_estudiante = 11\n",
        "promedio_estudiante = 9.75\n",
        "aprobado = True\n",
        "\n",
        "print (nombre_estudiante, edad_estudiante, promedio_estudiante, aprobado)\n",
        "print (type(nombre_estudiante), type(edad_estudiante), type(promedio_estudiante), type(aprobado))"
      ],
      "metadata": {
        "id": "FabQ7jQf_8Xt",
        "outputId": "6314db3c-ae2b-410a-dfbb-87400267319f",
        "colab": {
          "base_uri": "https://localhost:8080/"
        }
      },
      "execution_count": null,
      "outputs": [
        {
          "output_type": "stream",
          "name": "stdout",
          "text": [
            "Penélope Camacho 11 9.75 True\n",
            "<class 'str'> <class 'int'> <class 'float'> <class 'bool'>\n"
          ]
        }
      ]
    },
    {
      "cell_type": "markdown",
      "source": [
        "## Variables numéricas\n",
        "\n",
        "Entre los tipos de datos numéricos vamos a enfocarnos en los tipos `entero` y `float`."
      ],
      "metadata": {
        "id": "KFq_8Sxf-OG0"
      }
    },
    {
      "cell_type": "markdown",
      "source": [
        "Tenemos una tabla de información sobre los diversos cargos, cantidad de personas empleadas y el salario correspondiente:\n",
        "\n",
        "|Cargo | Cantidad | Salario|\n",
        "|---|---|---|\n",
        "|Vigilante | 5 | 300 |\n",
        "|Docente | 16| 500|\n",
        "|Coordinador| 2 |600|\n",
        "\n",
        "Necesitamos trabajar con estos datos para obtener:\n",
        "\n",
        "- La cantidad total de empleados;\n",
        "- La diferencia entre el salario más bajo y más alto; y\n",
        "- El promedio ponderado de los salarios de los empleados de la escuela."
      ],
      "metadata": {
        "id": "8_HYUbkVYdQY"
      }
    },
    {
      "cell_type": "code",
      "source": [
        "c_vigilante = 5\n",
        "s_vigilante = 300\n",
        "\n",
        "c_docente = 16\n",
        "s_docente = 500\n",
        "\n",
        "c_coordinador = 2\n",
        "s_coordinador = 600\n",
        "\n",
        "total_empleados = c_vigilante + c_docente + c_coordinador\n",
        "total_empleados"
      ],
      "metadata": {
        "id": "F_X-wxdm_5Ys",
        "outputId": "b6a0e8df-b7fe-489e-9c96-5bcd2dbc465b",
        "colab": {
          "base_uri": "https://localhost:8080/"
        }
      },
      "execution_count": null,
      "outputs": [
        {
          "output_type": "execute_result",
          "data": {
            "text/plain": [
              "23"
            ]
          },
          "metadata": {},
          "execution_count": 5
        }
      ]
    },
    {
      "cell_type": "code",
      "source": [
        "diferencia_salario = s_coordinador - s_vigilante\n",
        "diferencia_salario"
      ],
      "metadata": {
        "id": "gKmBbhII_5b9",
        "outputId": "a58fcb17-31da-4372-bf7e-ba435de32988",
        "colab": {
          "base_uri": "https://localhost:8080/"
        }
      },
      "execution_count": null,
      "outputs": [
        {
          "output_type": "execute_result",
          "data": {
            "text/plain": [
              "300"
            ]
          },
          "metadata": {},
          "execution_count": 7
        }
      ]
    },
    {
      "cell_type": "code",
      "source": [
        "promedio_salarios = (c_vigilante * s_vigilante + c_docente * s_docente +\n",
        "                   c_coordinador * s_coordinador) / total_empleados\n",
        "promedio_salarios"
      ],
      "metadata": {
        "id": "fIugsxNy_53j",
        "outputId": "b8cd9333-a987-49c9-aed8-6f22044a9afd",
        "colab": {
          "base_uri": "https://localhost:8080/"
        }
      },
      "execution_count": null,
      "outputs": [
        {
          "output_type": "execute_result",
          "data": {
            "text/plain": [
              "465.2173913043478"
            ]
          },
          "metadata": {},
          "execution_count": 10
        }
      ]
    },
    {
      "cell_type": "markdown",
      "source": [
        "## Strings"
      ],
      "metadata": {
        "id": "yQy7b0ZWoD-P"
      }
    },
    {
      "cell_type": "markdown",
      "source": [
        "Strings hace referencia a un conjunto de caracteres formando un texto.\n",
        "\n",
        "Podemos crear Strings cuando atribuimos un dato a una variable entre comillas sencillas (`'`) o comillas dobles (`\"`)."
      ],
      "metadata": {
        "id": "vlo2-DXusv3s"
      }
    },
    {
      "cell_type": "code",
      "source": [
        "curso = \"Alura\"\n",
        "type (curso)"
      ],
      "metadata": {
        "id": "ityEWqvh_2wK",
        "outputId": "00927bcf-baa3-498b-a672-19d67d3bbdf8",
        "colab": {
          "base_uri": "https://localhost:8080/"
        }
      },
      "execution_count": null,
      "outputs": [
        {
          "output_type": "execute_result",
          "data": {
            "text/plain": [
              "str"
            ]
          },
          "metadata": {},
          "execution_count": 14
        }
      ]
    },
    {
      "cell_type": "markdown",
      "source": [
        "Las variables textuales son objetos que poseen métodos que nos ayudan a formatear strings. Los métodos los podemos ejecutar al definir un objeto de acuerdo con la siguiente estructura:\n",
        "\n",
        "```\n",
        "objeto.metodo()\n",
        "```\n",
        "\n",
        "Existen métodos que no necesitan los `()`, siempre es una buena práctica verificar la documentación para cada caso."
      ],
      "metadata": {
        "id": "2e9UD_CCxqz_"
      }
    },
    {
      "cell_type": "markdown",
      "source": [
        "---\n",
        "**Situación:**\n",
        "\n",
        "Recibimos una variable con el nombre de una profesora de la escuela para añadirla a los registros. Sin embargo, necesitamos darle un tratamiento a este texto antes de insertarlo al sistema."
      ],
      "metadata": {
        "id": "p6aPmMGP4tf9"
      }
    },
    {
      "cell_type": "code",
      "source": [
        "texto = '  Micaela de los Sanyos '\n",
        "id (texto)"
      ],
      "metadata": {
        "id": "icDWtYTjBO0n",
        "outputId": "1b242fbe-b68e-473f-8474-28664ae789d8",
        "colab": {
          "base_uri": "https://localhost:8080/"
        }
      },
      "execution_count": null,
      "outputs": [
        {
          "output_type": "execute_result",
          "data": {
            "text/plain": [
              "135299213212480"
            ]
          },
          "metadata": {},
          "execution_count": 17
        }
      ]
    },
    {
      "cell_type": "markdown",
      "source": [
        "El objetivo final es que el nombre aparezca de la siguiente forma:\n",
        "\n",
        "```\n",
        "'MICAELA DE LOS SANTOS'\n",
        "```"
      ],
      "metadata": {
        "id": "Dg2ZXSZOGzjC"
      }
    },
    {
      "cell_type": "markdown",
      "source": [
        "### [`str.upper()` ](https://docs.python.org/3/library/stdtypes.html#str.upper)\n",
        "Convierte una string a mayúsculas."
      ],
      "metadata": {
        "id": "iVTAD8q702eN"
      }
    },
    {
      "cell_type": "code",
      "source": [
        "texto.upper()"
      ],
      "metadata": {
        "id": "wMVshJrY_ZXh",
        "outputId": "20979a34-4eb4-4549-df1a-d3b4e1de30a2",
        "colab": {
          "base_uri": "https://localhost:8080/",
          "height": 35
        }
      },
      "execution_count": null,
      "outputs": [
        {
          "output_type": "execute_result",
          "data": {
            "text/plain": [
              "'  MICAELA DE LOS SANYOS '"
            ],
            "application/vnd.google.colaboratory.intrinsic+json": {
              "type": "string"
            }
          },
          "metadata": {},
          "execution_count": 19
        }
      ]
    },
    {
      "cell_type": "markdown",
      "source": [
        "### [`str.lower()`](https://docs.python.org/3/library/stdtypes.html#str.lower)\n",
        "Convierte una string a minúsculas."
      ],
      "metadata": {
        "id": "hbDSBtMV1TpG"
      }
    },
    {
      "cell_type": "code",
      "source": [
        "texto.lower()"
      ],
      "metadata": {
        "id": "px3yEeNH_YK4",
        "outputId": "cc553c1a-5a59-42d9-e684-12af9de08a5b",
        "colab": {
          "base_uri": "https://localhost:8080/",
          "height": 35
        }
      },
      "execution_count": null,
      "outputs": [
        {
          "output_type": "execute_result",
          "data": {
            "text/plain": [
              "'  micaela de los sanyos '"
            ],
            "application/vnd.google.colaboratory.intrinsic+json": {
              "type": "string"
            }
          },
          "metadata": {},
          "execution_count": 21
        }
      ]
    },
    {
      "cell_type": "markdown",
      "source": [
        "### [`str.strip()`](https://docs.python.org/3/library/stdtypes.html#str.strip)\n",
        "Elimina los espacios en blanco al inicio y al final de una string."
      ],
      "metadata": {
        "id": "kz47eWM11gii"
      }
    },
    {
      "cell_type": "code",
      "source": [
        "texto.strip()"
      ],
      "metadata": {
        "id": "76dLgNa4_XAe",
        "outputId": "4fd8e014-937a-4650-da38-f783f81ac6ed",
        "colab": {
          "base_uri": "https://localhost:8080/",
          "height": 35
        }
      },
      "execution_count": null,
      "outputs": [
        {
          "output_type": "execute_result",
          "data": {
            "text/plain": [
              "'Micaela de los Sanyos'"
            ],
            "application/vnd.google.colaboratory.intrinsic+json": {
              "type": "string"
            }
          },
          "metadata": {},
          "execution_count": 22
        }
      ]
    },
    {
      "cell_type": "markdown",
      "source": [
        "### [`str.replace(antiguo, nuevo)`](https://docs.python.org/3/library/stdtypes.html#str.replace)\n",
        "\n",
        "Sustituye todas las ocurrencias del texto \"antiguo\" en la string por el  \"nuevo\"."
      ],
      "metadata": {
        "id": "m6notiyS1SCV"
      }
    },
    {
      "cell_type": "code",
      "source": [
        "texto.replace('y', 't')"
      ],
      "metadata": {
        "id": "PNXAixtE_V6R",
        "outputId": "7625057a-7d66-4d3b-fd42-ab3388a669d8",
        "colab": {
          "base_uri": "https://localhost:8080/",
          "height": 35
        }
      },
      "execution_count": null,
      "outputs": [
        {
          "output_type": "execute_result",
          "data": {
            "text/plain": [
              "'  Micaela de los Santos '"
            ],
            "application/vnd.google.colaboratory.intrinsic+json": {
              "type": "string"
            }
          },
          "metadata": {},
          "execution_count": 23
        }
      ]
    },
    {
      "cell_type": "markdown",
      "source": [
        "### Observaciones\n",
        "\n",
        "1. Los métodos devuelven una **tranformación**, no son ejecutados directamente sobre la variable donde está almacenado el texto.\n",
        "\n",
        "2. Adicionalmente, podemos acumular la ejecución de los métodos."
      ],
      "metadata": {
        "id": "zukvEjhG2Rcn"
      }
    },
    {
      "cell_type": "code",
      "source": [
        "texto"
      ],
      "metadata": {
        "id": "JjkBRklr_T5n",
        "outputId": "f283ffc7-8a46-4298-9d1c-899a7f108584",
        "colab": {
          "base_uri": "https://localhost:8080/",
          "height": 35
        }
      },
      "execution_count": null,
      "outputs": [
        {
          "output_type": "execute_result",
          "data": {
            "text/plain": [
              "'  Micaela de los Sanyos '"
            ],
            "application/vnd.google.colaboratory.intrinsic+json": {
              "type": "string"
            }
          },
          "metadata": {},
          "execution_count": 24
        }
      ]
    },
    {
      "cell_type": "markdown",
      "source": [
        "Para que la transformación se pueda ejecutar debemos atribuir la salida de las transformaciones a las variables"
      ],
      "metadata": {
        "id": "1KbwfVut2h6I"
      }
    },
    {
      "cell_type": "code",
      "source": [
        "nuevo_texto = texto.strip().replace('y', 't').upper()\n",
        "print (nuevo_texto)\n",
        "print (id(nuevo_texto), id(texto))"
      ],
      "metadata": {
        "id": "ocPP-Jaj_SJI",
        "outputId": "e17d965a-b1f9-4f2b-b8c0-d92d8f9fe54b",
        "colab": {
          "base_uri": "https://localhost:8080/"
        }
      },
      "execution_count": null,
      "outputs": [
        {
          "output_type": "stream",
          "name": "stdout",
          "text": [
            "MICAELA DE LOS SANTOS\n",
            "135299221567040 135299213212480\n"
          ]
        }
      ]
    },
    {
      "cell_type": "code",
      "source": [
        "texto.strip().replace('y', 't').upper()\n",
        "print (texto)\n",
        "print (id(nuevo_texto), id(texto))"
      ],
      "metadata": {
        "id": "m1RvLGZZ_SP3",
        "outputId": "b506ac37-d6e7-4c86-89eb-5299c0056a9f",
        "colab": {
          "base_uri": "https://localhost:8080/"
        }
      },
      "execution_count": null,
      "outputs": [
        {
          "output_type": "stream",
          "name": "stdout",
          "text": [
            "  Micaela de los Sanyos \n",
            "135299221567040 135299213212480\n"
          ]
        }
      ]
    },
    {
      "cell_type": "markdown",
      "source": [
        "## Capturando datos\n",
        "\n",
        "En algunas aplicaciones necesitamos capturar los valores del usuario de nuestro proyecto. En python, logramos capturar los datos del usuario a través del comando [`input()`](https://docs.python.org/3/library/functions.html#input).\n",
        "\n",
        "Para ejecutar la captura debemos atribuir el resultado de esta función a una variable."
      ],
      "metadata": {
        "id": "0h9Fh5G9kHCa"
      }
    },
    {
      "cell_type": "code",
      "source": [
        "nombre = input(\"Escribe tu nombre: \")"
      ],
      "metadata": {
        "id": "zbH_9i3q_PdY",
        "outputId": "d7ee7fab-04eb-46ad-da42-49c4545ca828",
        "colab": {
          "base_uri": "https://localhost:8080/"
        }
      },
      "execution_count": null,
      "outputs": [
        {
          "name": "stdout",
          "output_type": "stream",
          "text": [
            "Escribe tu nombre: Jorge\n"
          ]
        }
      ]
    },
    {
      "cell_type": "code",
      "source": [
        "type(nombre)"
      ],
      "metadata": {
        "id": "JZy1Q9Tl_PgL",
        "outputId": "5c42aa66-72ea-4b7f-f70b-d63f927dba30",
        "colab": {
          "base_uri": "https://localhost:8080/"
        }
      },
      "execution_count": null,
      "outputs": [
        {
          "output_type": "execute_result",
          "data": {
            "text/plain": [
              "str"
            ]
          },
          "metadata": {},
          "execution_count": 29
        }
      ]
    },
    {
      "cell_type": "markdown",
      "source": [
        "La salida de este comando siempre será una *string*. Esto quiere decir que aunque capturemos un valor de variable numérica, este será de tipo string.\n",
        "\n",
        "Entonces, será necesario **convertir el resultado cuando no se desea utilizar el valor como tipo string**."
      ],
      "metadata": {
        "id": "7z7hcLCk_aCY"
      }
    },
    {
      "cell_type": "markdown",
      "source": [
        "Existen funciones para la conversión de valores:\n",
        "\n",
        "- Enteros: [`int(dato_para_conversion)`](https://docs.python.org/3/library/functions.html#int)\n",
        "- Coma flotante: [`float(dato_para_conversion)`](https://docs.python.org/3/library/functions.html#float)\n",
        "- String: [`str(dato_para_conversion)`](https://docs.python.org/3/library/functions.html#func-str)\n",
        "- Booleano: [`bool(dato_para_conversion)`](https://docs.python.org/3/library/functions.html#bool)"
      ],
      "metadata": {
        "id": "TOlegATj1Jfp"
      }
    },
    {
      "cell_type": "code",
      "source": [
        "ano_admision = int(input (\"Digita el año de admisión: \"))"
      ],
      "metadata": {
        "id": "M2ueeH6l_NMe",
        "outputId": "cb3705b6-807b-421f-f593-98d9ea0030f5",
        "colab": {
          "base_uri": "https://localhost:8080/"
        }
      },
      "execution_count": null,
      "outputs": [
        {
          "name": "stdout",
          "output_type": "stream",
          "text": [
            "Digita el año de admisión: 2022\n"
          ]
        }
      ]
    },
    {
      "cell_type": "code",
      "source": [
        "type (ano_admision)"
      ],
      "metadata": {
        "id": "xfWwuViK_NUn",
        "outputId": "e2bfe178-2467-4bc0-d22a-ee205c2c75bb",
        "colab": {
          "base_uri": "https://localhost:8080/"
        }
      },
      "execution_count": null,
      "outputs": [
        {
          "output_type": "execute_result",
          "data": {
            "text/plain": [
              "int"
            ]
          },
          "metadata": {},
          "execution_count": 38
        }
      ]
    },
    {
      "cell_type": "code",
      "source": [
        "ano_salida = int(input(\"Digita el año de salida: \"))"
      ],
      "metadata": {
        "id": "uFCHDyew_NZm",
        "outputId": "d509997e-2d20-47ea-fe09-309c9183b08d",
        "colab": {
          "base_uri": "https://localhost:8080/"
        }
      },
      "execution_count": null,
      "outputs": [
        {
          "name": "stdout",
          "output_type": "stream",
          "text": [
            "Digita el año de salida: 2026\n"
          ]
        }
      ]
    },
    {
      "cell_type": "code",
      "source": [
        "type (ano_salida)"
      ],
      "metadata": {
        "id": "fXppDZIW8L_D",
        "outputId": "7e2242a9-1f47-41c1-8d08-8737ef915fcb",
        "colab": {
          "base_uri": "https://localhost:8080/"
        }
      },
      "execution_count": null,
      "outputs": [
        {
          "output_type": "execute_result",
          "data": {
            "text/plain": [
              "int"
            ]
          },
          "metadata": {},
          "execution_count": 40
        }
      ]
    },
    {
      "cell_type": "code",
      "source": [
        "nota_admision = float(input(\"Digita la nota de admisión: \"))"
      ],
      "metadata": {
        "id": "hF_f3Fyw-BgJ",
        "outputId": "cfb28c2a-51c1-484c-c3be-c2ae87d40176",
        "colab": {
          "base_uri": "https://localhost:8080/"
        }
      },
      "execution_count": null,
      "outputs": [
        {
          "name": "stdout",
          "output_type": "stream",
          "text": [
            "Digita la nota de admisión: 9.5\n"
          ]
        }
      ]
    },
    {
      "cell_type": "code",
      "source": [
        "type (nota_admision)"
      ],
      "metadata": {
        "id": "HUj6QQgg-L4R",
        "outputId": "dabecda8-d7d2-4918-b601-c74d810e6628",
        "colab": {
          "base_uri": "https://localhost:8080/"
        }
      },
      "execution_count": null,
      "outputs": [
        {
          "output_type": "execute_result",
          "data": {
            "text/plain": [
              "float"
            ]
          },
          "metadata": {},
          "execution_count": 42
        }
      ]
    },
    {
      "cell_type": "code",
      "source": [
        "ano_admision + ano_salida"
      ],
      "metadata": {
        "id": "MPkH2XSi8Ti0",
        "outputId": "c920dbf2-a4a9-4f7e-a072-c1b0cdf1ae58",
        "colab": {
          "base_uri": "https://localhost:8080/"
        }
      },
      "execution_count": null,
      "outputs": [
        {
          "output_type": "execute_result",
          "data": {
            "text/plain": [
              "4048"
            ]
          },
          "metadata": {},
          "execution_count": 43
        }
      ]
    },
    {
      "cell_type": "markdown",
      "source": [
        "Trataremos de representar mejor ahora el resultado de la transformación que obtuvimos. Nosotros podemos formatear y presentar nuestro resultado mezclando strings con valores no textuales.\n",
        "\n",
        "Para ello utilizamos la estructura de formatación `f` con strings."
      ],
      "metadata": {
        "id": "yNI2-XTbB3aS"
      }
    },
    {
      "cell_type": "code",
      "source": [
        "print (f'\\tEl año de admisión fue: {ano_admision} \\n\\tLa nota de admisión fue: {nota_admision} ')"
      ],
      "metadata": {
        "id": "keJjA5N9_K5i",
        "outputId": "8d789650-8a9c-4128-9ee4-b817f79afc47",
        "colab": {
          "base_uri": "https://localhost:8080/"
        }
      },
      "execution_count": null,
      "outputs": [
        {
          "output_type": "stream",
          "name": "stdout",
          "text": [
            "\tEl año de admisión fue: 2022 \n",
            "\tLa nota de admisión fue: 9.5 \n"
          ]
        }
      ]
    },
    {
      "cell_type": "code",
      "source": [
        "nombre = \"Juan\"\n",
        "edad = 25\n",
        "mensaje = f\"Hola, mi nombre es {nombre} y tengo {edad} años.\"\n",
        "print(mensaje)"
      ],
      "metadata": {
        "id": "TXLaKbj-BRzL",
        "outputId": "fe985fa3-ffec-4d4a-8f89-02417d648d33",
        "colab": {
          "base_uri": "https://localhost:8080/"
        }
      },
      "execution_count": null,
      "outputs": [
        {
          "output_type": "stream",
          "name": "stdout",
          "text": [
            "Hola, mi nombre es Juan y tengo 25 años.\n"
          ]
        }
      ]
    },
    {
      "cell_type": "code",
      "source": [
        "precio = 19.99\n",
        "mensaje = f\"El precio es {precio:.2f} dólares.\"\n",
        "print(mensaje)"
      ],
      "metadata": {
        "id": "NTRN_CbhB0SK",
        "outputId": "33c586b5-895b-4243-de36-743878c9cf3e",
        "colab": {
          "base_uri": "https://localhost:8080/"
        }
      },
      "execution_count": null,
      "outputs": [
        {
          "output_type": "stream",
          "name": "stdout",
          "text": [
            "El precio es 19.99 dólares.\n"
          ]
        }
      ]
    },
    {
      "cell_type": "code",
      "source": [
        "type(precio)"
      ],
      "metadata": {
        "id": "VLKpM4M-CFQo",
        "outputId": "f910a02e-0b88-4528-8e6e-44154e79435b",
        "colab": {
          "base_uri": "https://localhost:8080/"
        }
      },
      "execution_count": null,
      "outputs": [
        {
          "output_type": "execute_result",
          "data": {
            "text/plain": [
              "float"
            ]
          },
          "metadata": {},
          "execution_count": 51
        }
      ]
    },
    {
      "cell_type": "code",
      "source": [
        "precio = 19.99\n",
        "mensaje = f\"El precio es {precio} dólares.\"\n",
        "print(mensaje)"
      ],
      "metadata": {
        "id": "ZjI94YYpCOwJ",
        "outputId": "62173fc4-90ad-4850-b4a2-db26cbe060e4",
        "colab": {
          "base_uri": "https://localhost:8080/"
        }
      },
      "execution_count": null,
      "outputs": [
        {
          "output_type": "stream",
          "name": "stdout",
          "text": [
            "El precio es 19.99 dólares.\n"
          ]
        }
      ]
    },
    {
      "cell_type": "code",
      "source": [
        "nombre = \"Juan\"\n",
        "edad = 25\n",
        "mensaje = f\"Nombre: {nombre}\\nEdad: {edad}\\n\"\n",
        "print(mensaje)"
      ],
      "metadata": {
        "id": "zz6AgXxACjiJ",
        "outputId": "cbf0902d-c7dd-47fb-8fbe-511b4c3df98e",
        "colab": {
          "base_uri": "https://localhost:8080/"
        }
      },
      "execution_count": null,
      "outputs": [
        {
          "output_type": "stream",
          "name": "stdout",
          "text": [
            "Nombre: Juan\n",
            "Edad: 25\n",
            "\n"
          ]
        }
      ]
    },
    {
      "cell_type": "code",
      "source": [
        "chr(64)"
      ],
      "metadata": {
        "id": "xs3HOHY9EF2u",
        "outputId": "4c595ad6-6abc-4107-95ae-bcf93b572366",
        "colab": {
          "base_uri": "https://localhost:8080/",
          "height": 35
        }
      },
      "execution_count": null,
      "outputs": [
        {
          "output_type": "execute_result",
          "data": {
            "text/plain": [
              "'@'"
            ],
            "application/vnd.google.colaboratory.intrinsic+json": {
              "type": "string"
            }
          },
          "metadata": {},
          "execution_count": 57
        }
      ]
    },
    {
      "cell_type": "code",
      "source": [
        "chr(72) + chr(111) +  chr(108) + chr(97)"
      ],
      "metadata": {
        "id": "8UncEkO_EPUl",
        "outputId": "3b9b499d-8024-44d1-8735-e79583bf74b1",
        "colab": {
          "base_uri": "https://localhost:8080/",
          "height": 35
        }
      },
      "execution_count": null,
      "outputs": [
        {
          "output_type": "execute_result",
          "data": {
            "text/plain": [
              "'Hola'"
            ],
            "application/vnd.google.colaboratory.intrinsic+json": {
              "type": "string"
            }
          },
          "metadata": {},
          "execution_count": 58
        }
      ]
    },
    {
      "cell_type": "code",
      "source": [
        "nombre = \"Jorge Doussett\"\n",
        "edad = 29\n",
        "mensaje = f\"El nombre del alumno es {nombre} y, su edad es {edad}\"\n",
        "print (mensaje)"
      ],
      "metadata": {
        "id": "cBA7twtv97vu",
        "outputId": "83b18c67-9752-4a2d-f74d-38b6b5d5e7cb",
        "colab": {
          "base_uri": "https://localhost:8080/"
        }
      },
      "execution_count": null,
      "outputs": [
        {
          "output_type": "stream",
          "name": "stdout",
          "text": [
            "El nombre del alumno es Jorge Doussett y, su edad es 29\n"
          ]
        }
      ]
    },
    {
      "cell_type": "code",
      "source": [
        "nombre_alumno = 'Penélope Camacho'\n",
        "print('Nombre del alumno: %s' %(nombre_alumno))"
      ],
      "metadata": {
        "id": "rsMHoz4K_YdO",
        "outputId": "e275bfce-5d06-4211-8d67-47ba2c3507ff",
        "colab": {
          "base_uri": "https://localhost:8080/"
        }
      },
      "execution_count": null,
      "outputs": [
        {
          "output_type": "stream",
          "name": "stdout",
          "text": [
            "Nombre del alumno: Penélope Camacho\n"
          ]
        }
      ]
    },
    {
      "cell_type": "code",
      "source": [
        "nombre_alumno = 'Penélope Camacho'\n",
        "edad_alumno = 11\n",
        "media_alumno = 9.95\n",
        "print('Nombre del alumno es %s, tiene %d años y su media es %f.'\n",
        "      %(nombre_alumno, edad_alumno, media_alumno))"
      ],
      "metadata": {
        "id": "yWQPGApH_lzk",
        "outputId": "3f05a6b5-9b46-41dc-a9fc-b010fd94f495",
        "colab": {
          "base_uri": "https://localhost:8080/"
        }
      },
      "execution_count": null,
      "outputs": [
        {
          "output_type": "stream",
          "name": "stdout",
          "text": [
            "Nombre del alumno es Penélope Camacho, tiene 11 años y su media es 9.950000.\n"
          ]
        }
      ]
    },
    {
      "cell_type": "code",
      "source": [
        "print('Nombre del alumno es %s, tiene %d años y su media es %.2f.'\n",
        "      %(nombre_alumno, edad_alumno, media_alumno))"
      ],
      "metadata": {
        "id": "sbjaMysk__9l",
        "outputId": "35ff6816-c207-48b6-e774-d53757a7dc6c",
        "colab": {
          "base_uri": "https://localhost:8080/"
        }
      },
      "execution_count": null,
      "outputs": [
        {
          "output_type": "stream",
          "name": "stdout",
          "text": [
            "Nombre del alumno es Penélope Camacho, tiene 11 años y su media es 9.95.\n"
          ]
        }
      ]
    },
    {
      "cell_type": "code",
      "source": [
        "print('Nombre del alumno es %s, tiene %d años y su media es %.f.'\n",
        "      %(nombre_alumno, edad_alumno, media_alumno))"
      ],
      "metadata": {
        "id": "pdlNJKC3AAGN",
        "outputId": "2f7b6785-99e0-4263-efb4-9bd551481bae",
        "colab": {
          "base_uri": "https://localhost:8080/"
        }
      },
      "execution_count": null,
      "outputs": [
        {
          "output_type": "stream",
          "name": "stdout",
          "text": [
            "Nombre del alumno es Penélope Camacho, tiene 11 años y su media es 10.\n"
          ]
        }
      ]
    },
    {
      "cell_type": "code",
      "source": [
        "x = True\n",
        "print(\"Valor de x: %s\" % (x))\n",
        "type(x)"
      ],
      "metadata": {
        "id": "zrHf_aLOAuGU",
        "outputId": "9c472ac5-f272-4d2e-82db-9c840bcaab59",
        "colab": {
          "base_uri": "https://localhost:8080/"
        }
      },
      "execution_count": null,
      "outputs": [
        {
          "output_type": "stream",
          "name": "stdout",
          "text": [
            "Valor de x: True\n"
          ]
        },
        {
          "output_type": "execute_result",
          "data": {
            "text/plain": [
              "bool"
            ]
          },
          "metadata": {},
          "execution_count": 13
        }
      ]
    },
    {
      "cell_type": "code",
      "source": [
        "x = True\n",
        "print(\"Valor de x: %s\" % str(x))\n",
        "type(x)"
      ],
      "metadata": {
        "id": "aYC5dnQyAAM8",
        "outputId": "fef335a4-2f0f-487a-a501-f86a37dcd55c",
        "colab": {
          "base_uri": "https://localhost:8080/"
        }
      },
      "execution_count": null,
      "outputs": [
        {
          "output_type": "stream",
          "name": "stdout",
          "text": [
            "Valor de x: True\n"
          ]
        },
        {
          "output_type": "execute_result",
          "data": {
            "text/plain": [
              "bool"
            ]
          },
          "metadata": {},
          "execution_count": 14
        }
      ]
    },
    {
      "cell_type": "code",
      "source": [
        "nombre_alumno = 'Penélope Camacho'\n",
        "print ('Nombre del alumno: {}'.format(nombre_alumno))"
      ],
      "metadata": {
        "id": "yRljt2jlAAUV",
        "outputId": "239cdbcd-50ce-499a-af5d-169abdc798cf",
        "colab": {
          "base_uri": "https://localhost:8080/"
        }
      },
      "execution_count": null,
      "outputs": [
        {
          "output_type": "stream",
          "name": "stdout",
          "text": [
            "Nombre del alumno: Penélope Camacho\n"
          ]
        }
      ]
    },
    {
      "cell_type": "code",
      "source": [
        "nombre_alumno = 'Fabricio Daniel'\n",
        "edad_alumno = 15\n",
        "media_alumno = 9.95\n",
        "print ('El nombre del alumno es {} tiene una edad de {} y su media es de {}'\n",
        "      .format(nombre_alumno, edad_alumno, media_alumno))"
      ],
      "metadata": {
        "id": "J3BlCVllAAbd",
        "outputId": "856e9c47-70e5-4698-df91-45dccb69364f",
        "colab": {
          "base_uri": "https://localhost:8080/"
        }
      },
      "execution_count": null,
      "outputs": [
        {
          "output_type": "stream",
          "name": "stdout",
          "text": [
            "El nombre del alumno es Fabricio Daniel tiene una edad de 15 y su media es de 9.95\n"
          ]
        }
      ]
    },
    {
      "cell_type": "code",
      "source": [
        "print(\"Estudiar es un esfuerzo constante,\\nEs como cultivar una planta,\\nNecesitamos dedicación y paciencia,\\nPara ver madurar el fruto.\")"
      ],
      "metadata": {
        "id": "hdi2m7vBAAiE",
        "outputId": "c9e1ddd0-db50-4038-a923-3a99c5d1daae",
        "colab": {
          "base_uri": "https://localhost:8080/"
        }
      },
      "execution_count": null,
      "outputs": [
        {
          "output_type": "stream",
          "name": "stdout",
          "text": [
            "Estudiar es un esfuerzo constante,\n",
            "Es como cultivar una planta,\n",
            "Necesitamos dedicación y paciencia,\n",
            "Para ver madurar el fruto.\n"
          ]
        }
      ]
    },
    {
      "cell_type": "code",
      "source": [
        "print('Cantidad\\tCalidad\\n5 muestras\\tAlta\\n3 muestras\\tBaja')"
      ],
      "metadata": {
        "id": "3zxXTUC7AAo0",
        "outputId": "2e198b76-0da6-4cd0-c77e-48ec16d0e5fd",
        "colab": {
          "base_uri": "https://localhost:8080/"
        }
      },
      "execution_count": null,
      "outputs": [
        {
          "output_type": "stream",
          "name": "stdout",
          "text": [
            "Cantidad\tCalidad\n",
            "5 muestras\tAlta\n",
            "3 muestras\tBaja\n"
          ]
        }
      ]
    },
    {
      "cell_type": "code",
      "source": [
        "print(\"Ruta del archivo: C:\\\\archivos\\\\documento.csv\")"
      ],
      "metadata": {
        "id": "oimSIJwEDbCx",
        "outputId": "e81467b5-00b8-41cc-b819-3945021d301a",
        "colab": {
          "base_uri": "https://localhost:8080/"
        }
      },
      "execution_count": null,
      "outputs": [
        {
          "output_type": "stream",
          "name": "stdout",
          "text": [
            "Ruta del archivo: C:\\archivos\\documento.csv\n"
          ]
        }
      ]
    },
    {
      "cell_type": "code",
      "source": [
        "print(\"Una vez oí: \\\"Los frutos del conocimiento son los más dulces y duraderos de todos.\\\"\")"
      ],
      "metadata": {
        "id": "xw-svWmYDbLy",
        "outputId": "47857694-bc8b-4841-af1b-0884214ebf9c",
        "colab": {
          "base_uri": "https://localhost:8080/"
        }
      },
      "execution_count": null,
      "outputs": [
        {
          "output_type": "stream",
          "name": "stdout",
          "text": [
            "Una vez oí: \"Los frutos del conocimiento son los más dulces y duraderos de todos.\"\n"
          ]
        }
      ]
    },
    {
      "cell_type": "code",
      "source": [
        "print('Mi profesora una vez dijo: \\'Estudiar es la clave del éxito.\\'')"
      ],
      "metadata": {
        "id": "mc4cGrIsDbSy",
        "outputId": "b1750480-04b8-4e8a-bd3a-7daddf8395f9",
        "colab": {
          "base_uri": "https://localhost:8080/"
        }
      },
      "execution_count": null,
      "outputs": [
        {
          "output_type": "stream",
          "name": "stdout",
          "text": [
            "Mi profesora una vez dijo: 'Estudiar es la clave del éxito.'\n"
          ]
        }
      ]
    },
    {
      "cell_type": "code",
      "source": [
        "nombre_usuario = input(\"Favor de introducir su nombre: \")\n",
        "mensaje = f\"El nombre del usuario es: {nombre_usuario}\"\n",
        "print (mensaje)"
      ],
      "metadata": {
        "id": "RGjGtvljGSyp",
        "outputId": "674d0e1c-ad5d-487e-e2da-6956e259556e",
        "colab": {
          "base_uri": "https://localhost:8080/"
        }
      },
      "execution_count": null,
      "outputs": [
        {
          "output_type": "stream",
          "name": "stdout",
          "text": [
            "Favor de introducir su nombre: Jorge Doussett\n",
            "El nombre del usuario es: Jorge Doussett\n"
          ]
        }
      ]
    },
    {
      "cell_type": "code",
      "source": [
        "nombre_usuario = input(\"Favor de introducir su nombre: \")\n",
        "edad_usuario = input(\" Favor de introducir su edad: \")\n",
        "mensaje = f\"El nombre del Usuario es {nombre_usuario}\\nLa edad del usuario es {edad_usuario}\"\n",
        "print (mensaje)"
      ],
      "metadata": {
        "id": "ljD3ZEyAGS5o",
        "outputId": "f0c73ca0-207f-4f54-b4c4-d9aa66a9d32e",
        "colab": {
          "base_uri": "https://localhost:8080/"
        }
      },
      "execution_count": null,
      "outputs": [
        {
          "output_type": "stream",
          "name": "stdout",
          "text": [
            "Favor de introducir su nombre: Jorge Doussett\n",
            " Favor de introducir su edad: 29\n",
            "El nombre del Usuario es Jorge Doussett\n",
            "La edad del usuario es 29\n"
          ]
        }
      ]
    },
    {
      "cell_type": "code",
      "source": [
        "nombre_usuario = input(\"Favor de introducir su numbre: \")\n",
        "edad_usuario = input(\"Favor de introducir su edad: \")\n",
        "altura_usuario = float(input(\"Favor de introducir su altura: \"))\n",
        "mensaje = f\"El nombre del Usuario es: {nombre_usuario}\\n\"\n",
        "mensaje_2 = f\"La edad del Usuario es: {edad_usuario}\\n\"\n",
        "mensaje_3 = f\"La altura del Usuario es: {altura_usuario}\"\n",
        "print (mensaje, mensaje_2, mensaje_3)\n"
      ],
      "metadata": {
        "id": "CMdBbFlLGTBA",
        "outputId": "c67cee30-4b21-431f-9380-a4f76d144a1e",
        "colab": {
          "base_uri": "https://localhost:8080/"
        }
      },
      "execution_count": null,
      "outputs": [
        {
          "output_type": "stream",
          "name": "stdout",
          "text": [
            "Favor de introducir su numbre: Jorge Doussett\n",
            "Favor de introducir su edad: 29\n",
            "Favor de introducir su altura: 1.82\n",
            "El nombre del Usuario es: Jorge Doussett\n",
            " La edad del Usuario es: 29\n",
            " La altura del Usuario es: 1.82\n"
          ]
        }
      ]
    },
    {
      "cell_type": "code",
      "source": [
        "v_1 = float(input (\"Introduce el primer valor:\"))\n",
        "v_2 = float(input (\"Introduce el segundo valor: \"))\n",
        "print (f\"La suma de los valores es: {v_1 + v_2}\")"
      ],
      "metadata": {
        "id": "6LpBYZWQK3s8",
        "outputId": "311c3e56-6b43-48b6-b31a-d9dee27e1585",
        "colab": {
          "base_uri": "https://localhost:8080/"
        }
      },
      "execution_count": null,
      "outputs": [
        {
          "output_type": "stream",
          "name": "stdout",
          "text": [
            "Introduce el primer valor:528.13\n",
            "Introduce el segundo valor: 737.77\n",
            "La suma de los valores es: 1265.9\n"
          ]
        }
      ]
    },
    {
      "cell_type": "code",
      "source": [
        "v_1 = float(input (\"Introduce el primer valor:\"))\n",
        "v_2 = float(input (\"Introduce el segundo valor:\"))\n",
        "v_3 = float(input (\"Introduce el tercer valor:\"))\n",
        "suma = v_1 + v_2 + v_3\n",
        "print (f\"La suma de los valores es: {suma:.2f}\")"
      ],
      "metadata": {
        "id": "HOT-gaSJK3zV",
        "outputId": "1b00c560-d6e3-44da-db1b-eba2bc07cd74",
        "colab": {
          "base_uri": "https://localhost:8080/"
        }
      },
      "execution_count": null,
      "outputs": [
        {
          "output_type": "stream",
          "name": "stdout",
          "text": [
            "Introduce el primer valor:753.951\n",
            "Introduce el segundo valor:852.654\n",
            "Introduce el tercer valor:963.741\n",
            "La suma de los valores es: 2570.35\n"
          ]
        }
      ]
    },
    {
      "cell_type": "code",
      "source": [
        "v_1 = float(input (\"Introduce el primer valor:\"))\n",
        "v_2 = float(input (\"Introduce el segundo valor:\"))\n",
        "v_3 = float(input (\"Introduce el tercer valor:\"))\n",
        "suma = v_1 + v_2 + v_3\n",
        "print (\"La suma de los valores es: {:.2f}\".format(suma))"
      ],
      "metadata": {
        "id": "xAV8QRKFK36V",
        "outputId": "1c0e2b01-3aa3-4b64-e4d6-23174207b44a",
        "colab": {
          "base_uri": "https://localhost:8080/"
        }
      },
      "execution_count": null,
      "outputs": [
        {
          "output_type": "stream",
          "name": "stdout",
          "text": [
            "Introduce el primer valor:789.987\n",
            "Introduce el segundo valor:456.654\n",
            "Introduce el tercer valor:123.321\n",
            "La suma de los valores es: 1369.96\n"
          ]
        }
      ]
    },
    {
      "cell_type": "code",
      "source": [
        "v_1 = float(input (\"Introduce el primer valor:\"))\n",
        "v_2 = float(input (\"Introduce el segundo valor:\"))\n",
        "v_3 = float(input (\"Introduce el tercer valor:\"))\n",
        "suma = round(v_1 + v_2 + v_3, 2)\n",
        "print (f\"La suma de los valores es: {suma}\")"
      ],
      "metadata": {
        "id": "EET9sPBdK4Bt",
        "outputId": "34077aad-c51c-4b3e-97c0-78ce9d6dacab",
        "colab": {
          "base_uri": "https://localhost:8080/"
        }
      },
      "execution_count": null,
      "outputs": [
        {
          "output_type": "stream",
          "name": "stdout",
          "text": [
            "Introduce el primer valor:951.159\n",
            "Introduce el segundo valor:9731.3179\n",
            "Introduce el tercer valor:8246.23\n",
            "La suma de los valores es: 18928.71\n"
          ]
        }
      ]
    },
    {
      "cell_type": "code",
      "source": [
        "v_1 = float(input (\"Introduce el primer valor:\"))\n",
        "v_2 = float(input (\"Introduce el segundo valor:\"))\n",
        "resta = round(v_1 - v_2, 2)\n",
        "print (f\"La resta de los valores es: {resta}\")"
      ],
      "metadata": {
        "id": "q3TwBL7UK4It",
        "outputId": "35eaa849-945a-4cc9-cf9c-7f71f6268a6f",
        "colab": {
          "base_uri": "https://localhost:8080/"
        }
      },
      "execution_count": null,
      "outputs": [
        {
          "output_type": "stream",
          "name": "stdout",
          "text": [
            "Introduce el primer valor:951357\n",
            "Introduce el segundo valor:-852\n",
            "La resta de los valores es: 952209.0\n"
          ]
        }
      ]
    },
    {
      "cell_type": "code",
      "source": [
        "v_1 = float(input (\"Introduce el primer valor:\"))\n",
        "v_2 = float(input (\"Introduce el segundo valor:\"))\n",
        "resta = round(v_1 - v_2, 2)\n",
        "print (f\"La resta de los valores es: {resta}\")"
      ],
      "metadata": {
        "id": "N93mTg7BK4Ps",
        "outputId": "e922097e-4295-42d7-f022-0d1884d844c4",
        "colab": {
          "base_uri": "https://localhost:8080/"
        }
      },
      "execution_count": null,
      "outputs": [
        {
          "output_type": "stream",
          "name": "stdout",
          "text": [
            "Introduce el primer valor:1000\n",
            "Introduce el segundo valor:1\n",
            "La resta de los valores es: 999.0\n"
          ]
        }
      ]
    },
    {
      "cell_type": "code",
      "source": [
        "v_1 = float(input (\"Introduce el primer valor:\"))\n",
        "v_2 = float(input (\"Introduce el segundo valor:\"))\n",
        "producto = round(v_1 * v_2, 2)\n",
        "print (f\"El producto de los valores es: {producto}\")"
      ],
      "metadata": {
        "id": "9wAEyehFK4Xs",
        "outputId": "03645e05-2122-4657-d6a6-d1998354152c",
        "colab": {
          "base_uri": "https://localhost:8080/"
        }
      },
      "execution_count": null,
      "outputs": [
        {
          "output_type": "stream",
          "name": "stdout",
          "text": [
            "Introduce el primer valor:78.53\n",
            "Introduce el segundo valor:91.14\n",
            "El producto de los valores es: 7157.22\n"
          ]
        }
      ]
    },
    {
      "cell_type": "code",
      "source": [
        "v_1 = float(input (\"Introduce el primer valor:\"))\n",
        "v_2 = float(input (\"Introduce el segundo valor:\"))\n",
        "division = v_1 // v_2\n",
        "division_2 = v_1 % v_2\n",
        "print (f\"El resultado de los valores es: {division}\")\n",
        "print (f\"El residuo de los valores es: {division_2}\")"
      ],
      "metadata": {
        "id": "NVtOiDYqK4e9",
        "outputId": "599b763d-66cf-4207-aafe-fdb6cc9f58c0",
        "colab": {
          "base_uri": "https://localhost:8080/"
        }
      },
      "execution_count": null,
      "outputs": [
        {
          "output_type": "stream",
          "name": "stdout",
          "text": [
            "Introduce el primer valor:78\n",
            "Introduce el segundo valor:42\n",
            "El resultado de los valores es: 1.0\n",
            "El residuo de los valores es: 36.0\n"
          ]
        }
      ]
    },
    {
      "cell_type": "code",
      "source": [
        "v_1 = float(input(\"Introduce el primer valor: \"))\n",
        "v_2 = float(input(\"Introduce el segundo valor: \"))\n",
        "\n",
        "if v_2 == 0:\n",
        "    print(\"Error: El denominador no puede ser cero. Por favor, introduce un valor diferente.\")\n",
        "else:\n",
        "    division = v_1 // v_2\n",
        "    division_2 = v_1 % v_2\n",
        "    print(f\"El resultado de la división entera es: {division}\")\n",
        "    print(f\"El residuo de la división es: {division_2}\")"
      ],
      "metadata": {
        "id": "7uC9DsNNK4mN",
        "outputId": "ef970e73-f723-4dd7-f02b-b0d68de13010",
        "colab": {
          "base_uri": "https://localhost:8080/"
        }
      },
      "execution_count": null,
      "outputs": [
        {
          "output_type": "stream",
          "name": "stdout",
          "text": [
            "Introduce el primer valor: 1\n",
            "Introduce el segundo valor: 0\n",
            "Error: El denominador no puede ser cero. Por favor, introduce un valor diferente.\n"
          ]
        }
      ]
    },
    {
      "cell_type": "code",
      "source": [
        "v_1 = float(input(\"Introduce el primer valor: \"))\n",
        "v_2 = float(input(\"Introduce el segundo valor: \"))\n",
        "\n",
        "while v_2 == 0:\n",
        "    print(\"Error: El denominador no puede ser cero.\")\n",
        "    v_2 = float(input(\"Introduce un denominador válido: \"))\n",
        "\n",
        "division = v_1 // v_2\n",
        "division_2 = v_1 % v_2\n",
        "print(f\"El resultado de la división entera es: {division}\")\n",
        "print(f\"El residuo de la división es: {division_2}\")"
      ],
      "metadata": {
        "id": "h9585AUPK4t8",
        "outputId": "d54c5e1b-aee3-4fcd-c7df-1dd250560e3a",
        "colab": {
          "base_uri": "https://localhost:8080/"
        }
      },
      "execution_count": null,
      "outputs": [
        {
          "output_type": "stream",
          "name": "stdout",
          "text": [
            "Introduce el primer valor: 1\n",
            "Introduce el segundo valor: 0\n",
            "Error: El denominador no puede ser cero.\n",
            "Introduce un denominador válido: 1\n",
            "El resultado de la división entera es: 1.0\n",
            "El residuo de la división es: 0.0\n"
          ]
        }
      ]
    },
    {
      "cell_type": "code",
      "source": [
        "base = float(input (\"Introduce la base:\"))\n",
        "exponente_valor = float(input (\"Introduce el exponente:\"))\n",
        "resultado = round(v_1 ** v_2, 2)\n",
        "print (f\"El resultado de la exponenciación es: {resultado}\")"
      ],
      "metadata": {
        "id": "OUYWxKCGK41V",
        "outputId": "4b33fb66-d93e-4d37-9f18-4012feeae53d",
        "colab": {
          "base_uri": "https://localhost:8080/"
        }
      },
      "execution_count": null,
      "outputs": [
        {
          "output_type": "stream",
          "name": "stdout",
          "text": [
            "Introduce la base:23\n",
            "Introduce el exponente:13\n",
            "El resultado de la exponenciación es: 8.9093699540585e+56\n"
          ]
        }
      ]
    },
    {
      "cell_type": "code",
      "source": [
        "base = float(input(\"Introduce la base: \"))\n",
        "exponente_valor = float(input(\"Introduce el exponente: \"))\n",
        "\n",
        "if base == 0 and exponente_valor < 0:\n",
        "    print(\"Error: Elevar 0 a una potencia negativa resulta en indefinido.\")\n",
        "else:\n",
        "    resultado = round(base ** exponente_valor, 2)\n",
        "    print(f\"El resultado de la exponenciación es: {resultado}\")"
      ],
      "metadata": {
        "id": "sbNjGNOQK48k",
        "outputId": "0a098860-f13e-4b67-f176-8487982e70ff",
        "colab": {
          "base_uri": "https://localhost:8080/"
        }
      },
      "execution_count": null,
      "outputs": [
        {
          "output_type": "stream",
          "name": "stdout",
          "text": [
            "Introduce la base: 0\n",
            "Introduce el exponente: -1\n",
            "Error: Elevar 0 a una potencia negativa resulta en indefinido.\n"
          ]
        }
      ]
    },
    {
      "cell_type": "code",
      "source": [
        "nota_1 = float(input(\"Introduza la primer nota:\"))\n",
        "nota_2 = float(input(\"Introduza la segunda nota:\"))\n",
        "nota_3 = float(input(\"Introduzca la tercer nota: \"))\n",
        "notas = round((nota_1 + nota_2 + nota_3) / 3, 2)\n",
        "print (f\"El promedio de las notas, es de: {notas}\")"
      ],
      "metadata": {
        "id": "qJXg9sgvK5Ec",
        "outputId": "9a7f1f45-7f80-4bfb-9709-822e56ecd6bb",
        "colab": {
          "base_uri": "https://localhost:8080/"
        }
      },
      "execution_count": null,
      "outputs": [
        {
          "output_type": "stream",
          "name": "stdout",
          "text": [
            "Introduza la primer nota:9.2\n",
            "Introduza la segunda nota:9.7\n",
            "Introduzca la tercer nota: 10\n",
            "El promedio de las notas, es de: 9.633333333333333\n"
          ]
        }
      ]
    },
    {
      "cell_type": "code",
      "source": [
        "notas = []\n",
        "for i in range(3):\n",
        "    nota = float(input(f\"Introduzca la nota {i+1}: \"))\n",
        "    notas.append(nota)\n",
        "\n",
        "promedio = round(sum(notas) / len(notas), 2)\n",
        "print(f\"El promedio de las notas es de: {promedio}\")"
      ],
      "metadata": {
        "id": "e4CFk0MTK5L9",
        "outputId": "0d93df26-d090-4b52-fe4e-eab501b91e5b",
        "colab": {
          "base_uri": "https://localhost:8080/"
        }
      },
      "execution_count": null,
      "outputs": [
        {
          "output_type": "stream",
          "name": "stdout",
          "text": [
            "Introduzca la nota 1: 9.75\n",
            "Introduzca la nota 2: 9.9\n",
            "Introduzca la nota 3: 10\n",
            "El promedio de las notas es de: 9.88\n"
          ]
        }
      ]
    },
    {
      "cell_type": "code",
      "source": [
        "numeros = [5, 12, 20, 15]\n",
        "pesos = [1, 2, 3, 4]\n",
        "\n",
        "# Verificar que la cantidad de números y pesos coincida\n",
        "if len(numeros) != len(pesos):\n",
        "    print(\"Error: La cantidad de números y pesos no coincide.\")\n",
        "else:\n",
        "    suma_ponderada = 0\n",
        "    suma_de_pesos = 0\n",
        "\n",
        "    for i in range(len(numeros)):\n",
        "        suma_ponderada += numeros[i] * pesos[i]\n",
        "        suma_de_pesos += pesos[i]\n",
        "\n",
        "    if suma_de_pesos == 0:\n",
        "        print(\"Error: La suma de los pesos no puede ser cero.\")\n",
        "    else:\n",
        "        promedio_ponderado = suma_ponderada / suma_de_pesos\n",
        "        print(f\"El promedio ponderado es: {promedio_ponderado}\")"
      ],
      "metadata": {
        "id": "Besq2Z8UK5TN",
        "outputId": "e542f7f4-3ccb-41c4-c819-50997c933f1b",
        "colab": {
          "base_uri": "https://localhost:8080/"
        }
      },
      "execution_count": null,
      "outputs": [
        {
          "output_type": "stream",
          "name": "stdout",
          "text": [
            "El promedio ponderado es: 14.9\n"
          ]
        }
      ]
    },
    {
      "cell_type": "code",
      "source": [
        "numeros = [5, 12, 20, 15]\n",
        "pesos = [1, 2, 3, 4]\n",
        "\n",
        "if len(numeros) != len(pesos):\n",
        "    print(\"Error: La cantidad de números y pesos no coincide.\")\n",
        "else:\n",
        "    suma_ponderada = sum(numeros[i] * pesos[i] for i in range(len(numeros)))\n",
        "    suma_de_pesos = sum(pesos)\n",
        "\n",
        "    if suma_de_pesos == 0:\n",
        "        print(\"Error: La suma de los pesos no puede ser cero.\")\n",
        "    else:\n",
        "        promedio_ponderado = suma_ponderada / suma_de_pesos\n",
        "        print(f\"El promedio ponderado es: {promedio_ponderado}\")"
      ],
      "metadata": {
        "id": "1TvY0oiSu1iA",
        "outputId": "ce80c5d0-1e94-45c7-a3f0-c519eb8e3000",
        "colab": {
          "base_uri": "https://localhost:8080/"
        }
      },
      "execution_count": null,
      "outputs": [
        {
          "output_type": "stream",
          "name": "stdout",
          "text": [
            "El promedio ponderado es: 14.9\n"
          ]
        }
      ]
    },
    {
      "cell_type": "code",
      "source": [
        "frase = (\"Esto es una frase cualquiera\")\n",
        "print (frase)"
      ],
      "metadata": {
        "id": "pa4gLncu-mvU",
        "outputId": "9d9a01b0-6f6c-4d0d-d7f7-b884d3a9029a",
        "colab": {
          "base_uri": "https://localhost:8080/"
        }
      },
      "execution_count": null,
      "outputs": [
        {
          "output_type": "stream",
          "name": "stdout",
          "text": [
            "Esto es una frase cualquiera\n"
          ]
        }
      ]
    },
    {
      "cell_type": "code",
      "source": [
        "frase = input(\"Introduzca lo que desee: \")\n",
        "print (frase)"
      ],
      "metadata": {
        "id": "Hquu-GCJmaNc",
        "outputId": "88e1faf1-e158-4324-a7ae-64821da04bf6",
        "colab": {
          "base_uri": "https://localhost:8080/"
        }
      },
      "execution_count": null,
      "outputs": [
        {
          "output_type": "stream",
          "name": "stdout",
          "text": [
            "Introduzca lo que desee: Hola Mundo\n",
            "Hola Mundo\n"
          ]
        }
      ]
    },
    {
      "cell_type": "code",
      "source": [
        "frase = input (\"Introduzca lo que desee: \")\n",
        "nueva_frase = frase.upper()\n",
        "print (nueva_frase)"
      ],
      "metadata": {
        "id": "Z0L3U-3Kmalc",
        "outputId": "21849167-1acf-452c-c9f8-01038f2810d0",
        "colab": {
          "base_uri": "https://localhost:8080/"
        }
      },
      "execution_count": null,
      "outputs": [
        {
          "output_type": "stream",
          "name": "stdout",
          "text": [
            "Introduzca lo que desee: Hola Mundo\n",
            "HOLA MUNDO\n"
          ]
        }
      ]
    },
    {
      "cell_type": "code",
      "source": [
        "frase = input (\"Introduza lo que desee: \")\n",
        "nueva_frase = frase.lower()\n",
        "print (nueva_frase)\n"
      ],
      "metadata": {
        "id": "6Oyk_sDPoWIJ",
        "outputId": "cb4a5dd8-b478-4048-f5c7-b713e3a34264",
        "colab": {
          "base_uri": "https://localhost:8080/"
        }
      },
      "execution_count": null,
      "outputs": [
        {
          "output_type": "stream",
          "name": "stdout",
          "text": [
            "Introduza lo que desee: Hola Mundo\n",
            "hola mundo\n"
          ]
        }
      ]
    },
    {
      "cell_type": "code",
      "source": [
        "frase = input (\"Introduzca lo que desee: \")\n",
        "nueva_frase = frase.strip()\n",
        "print (nueva_frase)"
      ],
      "metadata": {
        "id": "Pw1dxSUfma7r",
        "outputId": "df8ced4f-7ee3-40a7-cbd5-7a8636b6fc2f",
        "colab": {
          "base_uri": "https://localhost:8080/"
        }
      },
      "execution_count": null,
      "outputs": [
        {
          "output_type": "stream",
          "name": "stdout",
          "text": [
            "Introduzca lo que desee:    Hola Mundo   \n",
            "Hola Mundo\n"
          ]
        }
      ]
    },
    {
      "cell_type": "code",
      "source": [
        "frase = (\"   Un texto cualquiera   \")\n",
        "nueva_frase = frase.strip()\n",
        "print (nueva_frase)"
      ],
      "metadata": {
        "id": "R0LAYPVCma_E",
        "outputId": "62e446fb-9351-474e-daed-0da7b54414a5",
        "colab": {
          "base_uri": "https://localhost:8080/"
        }
      },
      "execution_count": null,
      "outputs": [
        {
          "output_type": "stream",
          "name": "stdout",
          "text": [
            "Un texto cualquiera\n"
          ]
        }
      ]
    },
    {
      "cell_type": "code",
      "source": [
        "frase = input (\"Introduzca lo que desee: \")\n",
        "nueva_frase = frase.strip().lower()\n",
        "print (nueva_frase)"
      ],
      "metadata": {
        "id": "AMWzNE0LmbvV",
        "outputId": "01b9d406-63e4-4c02-b563-e60d7a54c68e",
        "colab": {
          "base_uri": "https://localhost:8080/"
        }
      },
      "execution_count": null,
      "outputs": [
        {
          "output_type": "stream",
          "name": "stdout",
          "text": [
            "Introduzca lo que desee:    HOLA MUNDO   \n",
            "hola mundo\n"
          ]
        }
      ]
    },
    {
      "cell_type": "code",
      "source": [
        "frase = input (\"Introduzca lo que desee: \")\n",
        "nueva_frase = frase.replace('e', 'f')\n",
        "print (nueva_frase)"
      ],
      "metadata": {
        "id": "JEuiD24KtI4f",
        "outputId": "78ea0599-2a6c-4b1d-ddda-47b8ba9cf3d7",
        "colab": {
          "base_uri": "https://localhost:8080/"
        }
      },
      "execution_count": null,
      "outputs": [
        {
          "output_type": "stream",
          "name": "stdout",
          "text": [
            "Introduzca lo que desee: \"Estamos emocionados de estar aquí\"\n",
            "\"Estamos fmocionados df fstar aquí\"\n"
          ]
        }
      ]
    },
    {
      "cell_type": "code",
      "source": [
        "frase = input (\"Introduzca lo que desee: \")\n",
        "nueva_frase = frase.replace('e', 'f'). replace ('E', 'f')\n",
        "print (nueva_frase)"
      ],
      "metadata": {
        "id": "WG2DjlECtI9n",
        "outputId": "c3077d09-e6b6-47fa-9cb8-e4834337ede8",
        "colab": {
          "base_uri": "https://localhost:8080/"
        }
      },
      "execution_count": null,
      "outputs": [
        {
          "output_type": "stream",
          "name": "stdout",
          "text": [
            "Introduzca lo que desee: \"Estamos emocionados de estar aquí\"\n",
            "\"fstamos fmocionados df fstar aquí\"\n"
          ]
        }
      ]
    },
    {
      "cell_type": "code",
      "source": [
        "frase = input(\"Introduzca lo que desee: \")\n",
        "frase_en_minusculas = frase.lower()\n",
        "nueva_frase = frase_en_minusculas.replace('e', 'f')\n",
        "print(nueva_frase)"
      ],
      "metadata": {
        "id": "VXoJPlI2tJCf",
        "outputId": "ad8bc620-26f3-4f93-8e7f-9818ef49e5fe",
        "colab": {
          "base_uri": "https://localhost:8080/"
        }
      },
      "execution_count": null,
      "outputs": [
        {
          "output_type": "stream",
          "name": "stdout",
          "text": [
            "Introduzca lo que desee: \"Estamos emocionados de estar aquí\"\n",
            "\"fstamos fmocionados df fstar aquí\"\n"
          ]
        }
      ]
    },
    {
      "cell_type": "code",
      "source": [
        "import re\n",
        "\n",
        "frase = input(\"Introduzca lo que desee: \")\n",
        "nueva_frase = re.sub(r'[eE]', 'f', frase)\n",
        "print(nueva_frase)"
      ],
      "metadata": {
        "id": "EhGgx3SvvlTV",
        "outputId": "e9233041-6fd4-43de-886d-84956f0ceebc",
        "colab": {
          "base_uri": "https://localhost:8080/"
        }
      },
      "execution_count": null,
      "outputs": [
        {
          "output_type": "stream",
          "name": "stdout",
          "text": [
            "Introduzca lo que desee: \"Estamos emocionados de estar aquí\"\n",
            "\"fstamos fmocionados df fstar aquí\"\n"
          ]
        }
      ]
    },
    {
      "cell_type": "code",
      "source": [
        "import re\n",
        "\n",
        "frase = input (\"Introduzca lo que desee: \")\n",
        "nueva_frase = re.sub(r'[aA]', '@', frase)\n",
        "print (nueva_frase)"
      ],
      "metadata": {
        "id": "__Sjk_j8vlVc",
        "outputId": "175dc7b6-2d7b-40cb-e5f9-76026d50e968",
        "colab": {
          "base_uri": "https://localhost:8080/"
        }
      },
      "execution_count": null,
      "outputs": [
        {
          "output_type": "stream",
          "name": "stdout",
          "text": [
            "Introduzca lo que desee: \"Amamos a la Señorita Alexa\"\n",
            "\"@m@mos @ l@ Señorit@ @lex@\"\n"
          ]
        }
      ]
    },
    {
      "cell_type": "code",
      "source": [
        "import re\n",
        "\n",
        "frase = input (\"Introduzca lo que desee: \")\n",
        "nueva_frase = re.sub(r'[sS]', '$', frase)\n",
        "print (nueva_frase)"
      ],
      "metadata": {
        "id": "G8CC7gP1vlZl",
        "outputId": "71d4b552-41db-4ce2-e6bf-7b1924230bc1",
        "colab": {
          "base_uri": "https://localhost:8080/"
        }
      },
      "execution_count": null,
      "outputs": [
        {
          "output_type": "stream",
          "name": "stdout",
          "text": [
            "Introduzca lo que desee: \"Si el socavón desata serpientes\"\n",
            "\"$i el $ocavón de$ata $erpiente$\"\n"
          ]
        }
      ]
    },
    {
      "cell_type": "markdown",
      "source": [
        "# Estructuras condicionales"
      ],
      "metadata": {
        "id": "NwRaiHHHhhyl"
      }
    },
    {
      "cell_type": "code",
      "source": [
        "# Nota de Aprobación, entre 7 y 10 == nota de aprobación >=7\n",
        "# Nota de Reprobación, es menor a 7 == nota de reprobación <7\n",
        "\n",
        "\"\"\"\n",
        "Si la nota es mayor o igual a 7, el alumno está aprobado.\n",
        "Si la nota es menor que 7, el alumno está reprobado.\n",
        "\"\"\""
      ],
      "metadata": {
        "id": "_cWRmDiE-m4p",
        "outputId": "2fb67435-0038-45a6-8625-1ab278d31b7a",
        "colab": {
          "base_uri": "https://localhost:8080/",
          "height": 35
        }
      },
      "execution_count": null,
      "outputs": [
        {
          "output_type": "execute_result",
          "data": {
            "text/plain": [
              "'\\nSi la nota es mayor o igual a 7, el alumno está aprobado.\\nSi la nota es menor que 7, el alumno está reprobado.\\n'"
            ],
            "application/vnd.google.colaboratory.intrinsic+json": {
              "type": "string"
            }
          },
          "metadata": {},
          "execution_count": 5
        }
      ]
    },
    {
      "cell_type": "code",
      "source": [
        "calificacion = float(input(\"Ingrese la calificación del alumno: \"))\n",
        "asistencia = float(input(\"Ingrese la asistencia del alumno: \"))\n",
        "\n",
        "if calificacion >= 7 and asistencia >= 75:\n",
        "    print(\"El alumno está aprobado.\")\n",
        "    print(\"Felicidades, aprobaste el curso!\")\n",
        "elif calificacion < 7 and asistencia >= 75:\n",
        "    print(\"El alumno necesita mejorar sus notas.\")\n",
        "elif calificacion >= 7 and asistencia < 75:\n",
        "    print(\"El alumno necesita mejorar su asistencia.\")\n",
        "else:\n",
        "    print (\"El alumno está reprobado.\")\n"
      ],
      "metadata": {
        "id": "pMJO1Bz52ARy",
        "outputId": "f59bb925-4c48-4ad9-84c9-35b12535b9aa",
        "colab": {
          "base_uri": "https://localhost:8080/"
        }
      },
      "execution_count": null,
      "outputs": [
        {
          "output_type": "stream",
          "name": "stdout",
          "text": [
            "Ingrese la calificación del alumno: 9\n",
            "Ingrese la asistencia del alumno: 100\n",
            "El alumno está aprobado.\n",
            "Felicidades, aprobaste el curso!\n"
          ]
        }
      ]
    },
    {
      "cell_type": "code",
      "source": [
        "calificacion = float(input(\"Ingrese la calificación del alumno: \"))\n",
        "asistencia = float(input(\"Ingrese la asistencia del alumno: \"))\n",
        "\n",
        "if calificacion >= 7 and asistencia >= 75:\n",
        "    print(\"El alumno está aprobado.\")\n",
        "    print(\"Felicidades, aprobaste el curso!\")\n",
        "elif calificacion < 7 and asistencia >= 75:\n",
        "    print(\"El alumno necesita mejorar sus notas.\")\n",
        "elif calificacion >= 7 and asistencia < 75:\n",
        "    print(\"El alumno necesita mejorar su asistencia.\")\n",
        "else:\n",
        "    print (\"El alumno está reprobado.\")"
      ],
      "metadata": {
        "id": "Ho0WFLvu-XLS",
        "outputId": "3d8cac16-6320-490f-89f4-bfa7fb477156",
        "colab": {
          "base_uri": "https://localhost:8080/"
        }
      },
      "execution_count": null,
      "outputs": [
        {
          "output_type": "stream",
          "name": "stdout",
          "text": [
            "Ingrese la calificación del alumno: 6\n",
            "Ingrese la asistencia del alumno: 70\n",
            "El alumno está reprobado.\n"
          ]
        }
      ]
    },
    {
      "cell_type": "code",
      "source": [
        "calificacion = float(input(\"Ingrese la calificación del alumno: \"))\n",
        "asistencia = float(input(\"Ingrese la asistencia del alumno: \"))\n",
        "\n",
        "if calificacion >= 7 and asistencia >= 75:\n",
        "    print(\"El alumno está aprobado.\")\n",
        "    print(\"Felicidades, aprobaste el curso!\")\n",
        "elif calificacion < 7 and asistencia >= 75:\n",
        "    print(\"El alumno necesita mejorar sus notas.\")\n",
        "elif calificacion >= 7 and asistencia < 75:\n",
        "    print(\"El alumno necesita mejorar su asistencia.\")\n",
        "else:\n",
        "    print (\"El alumno está reprobado.\")"
      ],
      "metadata": {
        "id": "zSegliZv-gfC",
        "outputId": "273914a1-1422-4c0a-f05b-59e2ff25c39d",
        "colab": {
          "base_uri": "https://localhost:8080/"
        }
      },
      "execution_count": null,
      "outputs": [
        {
          "output_type": "stream",
          "name": "stdout",
          "text": [
            "Ingrese la calificación del alumno: 6\n",
            "Ingrese la asistencia del alumno: 75\n",
            "El alumno necesita mejorar sus notas.\n"
          ]
        }
      ]
    },
    {
      "cell_type": "code",
      "source": [
        "calificacion = float(input(\"Ingrese la calificación del alumno: \"))\n",
        "asistencia = float(input(\"Ingrese la asistencia del alumno: \"))\n",
        "\n",
        "if calificacion >= 7 and asistencia >= 75:\n",
        "    print(\"El alumno está aprobado.\")\n",
        "    print(\"Felicidades, aprobaste el curso!\")\n",
        "elif calificacion < 7 and asistencia >= 75:\n",
        "    print(\"El alumno necesita mejorar sus notas.\")\n",
        "elif calificacion >= 7 and asistencia < 75:\n",
        "    print(\"El alumno necesita mejorar su asistencia.\")\n",
        "else:\n",
        "    print (\"El alumno está reprobado.\")"
      ],
      "metadata": {
        "id": "AOYFu5V3-oTa",
        "outputId": "a2cdc2e9-c0ed-424f-e8cc-361894e4026a",
        "colab": {
          "base_uri": "https://localhost:8080/"
        }
      },
      "execution_count": null,
      "outputs": [
        {
          "output_type": "stream",
          "name": "stdout",
          "text": [
            "Ingrese la calificación del alumno: 10\n",
            "Ingrese la asistencia del alumno: 100\n",
            "El alumno está aprobado.\n",
            "Felicidades, aprobaste el curso!\n"
          ]
        }
      ]
    },
    {
      "cell_type": "code",
      "source": [
        "# Nota de Aprobación, entre 7 y 10 == nota de aprobación >=7\n",
        "# Nota de Reprobación, es menor a 7 == nota de reprobación <7\n",
        "\n",
        "\"\"\"\n",
        "Si la nota es mayor o igual a 7, el alumno está aprobado.\n",
        "Si la nota es menor que 7, el alumno está reprobado.\n",
        "\"\"\""
      ],
      "metadata": {
        "id": "trtVa-8BZ-sT",
        "outputId": "b2372c67-d2b5-4f19-ffd3-044f87ed52b9",
        "colab": {
          "base_uri": "https://localhost:8080/",
          "height": 35
        }
      },
      "execution_count": null,
      "outputs": [
        {
          "output_type": "execute_result",
          "data": {
            "text/plain": [
              "'\\nSi la nota es mayor o igual a 7, el alumno está aprobado.\\nSi la nota es menor que 7, el alumno está reprobado.\\n'"
            ],
            "application/vnd.google.colaboratory.intrinsic+json": {
              "type": "string"
            }
          },
          "metadata": {},
          "execution_count": 6
        }
      ]
    },
    {
      "cell_type": "markdown",
      "source": [
        "## `IF` y `ELSE`\n",
        "\n",
        "Los comandos `if` y `else` son dos estructuras condicionales. El comando `if` ejecutará el bloque de comandos en caso de que la condición citada sea  **verdadera**. El comando `else` ejecutará el bloque de comandos en el caso de que la condicional de `if` sea **falsa**."
      ],
      "metadata": {
        "id": "qXZqg9aYEhAh"
      }
    },
    {
      "cell_type": "markdown",
      "source": [
        "El comando `if` es una palabra clave en Python que significa \"si\". Este se emplea para conformar la estructura condicional, que te permite verificar si una determinada condición es verdadera o falsa e, inmediatamente después, ejecute un bloque de código específico dependiendo del resultado de la verificación. La sintaxis para usar el comando `if` es:\n",
        "\n",
        "\n",
        "\n",
        "```\n",
        "if condicion:\n",
        "    # Realiza algo\n",
        "```\n",
        "\n"
      ],
      "metadata": {
        "id": "EIhlqHXd2Gil"
      }
    },
    {
      "cell_type": "code",
      "source": [
        "numero = float(input(\"Ingrese un número: \"))\n",
        "if numero % 2 == 0:\n",
        "    print (\"El número es PAR\")\n",
        "else:\n",
        "    print (\"El número es IMPAR\")\n"
      ],
      "metadata": {
        "id": "S2S6XAFz-czM",
        "outputId": "2f43fd17-534d-4e15-c667-b9665081e40e",
        "colab": {
          "base_uri": "https://localhost:8080/"
        }
      },
      "execution_count": null,
      "outputs": [
        {
          "output_type": "stream",
          "name": "stdout",
          "text": [
            "Ingrese un número: 65165151651954\n",
            "El número es PAR\n"
          ]
        }
      ]
    },
    {
      "cell_type": "code",
      "source": [
        "numero = float(input(\"Ingrese un número: \"))\n",
        "if numero > 0:\n",
        "    print (\"El número es POSITIVO\")\n",
        "elif numero == 0:\n",
        "    print (\"Vuelve a intentarlo, papito\")\n",
        "else:\n",
        "    print (\"El número es NEGATIVO\")"
      ],
      "metadata": {
        "id": "YHkwMMyY-c1r",
        "outputId": "1d4315f9-a3db-415a-c2ce-dae25dd07aa1",
        "colab": {
          "base_uri": "https://localhost:8080/"
        }
      },
      "execution_count": null,
      "outputs": [
        {
          "output_type": "stream",
          "name": "stdout",
          "text": [
            "Ingrese un número: -1\n",
            "El número es NEGATIVO\n"
          ]
        }
      ]
    },
    {
      "cell_type": "code",
      "source": [
        "edad_maria = int(input('Ingrese la edad de María: '))\n",
        "edad_beatriz = int(input('Ingrese la edad de Beatriz: '))\n",
        "\n",
        "if edad_maria > edad_beatriz:\n",
        "  print('María es mayor que Beatriz.')"
      ],
      "metadata": {
        "id": "RyRva2D_lOrg",
        "outputId": "9bfe9d68-cc4d-41ea-df2a-4425d5db22d0",
        "colab": {
          "base_uri": "https://localhost:8080/"
        }
      },
      "execution_count": null,
      "outputs": [
        {
          "output_type": "stream",
          "name": "stdout",
          "text": [
            "Ingrese la edad de María: 70\n",
            "Ingrese la edad de Beatriz: 69\n",
            "María es mayor que Beatriz.\n"
          ]
        }
      ]
    },
    {
      "cell_type": "code",
      "source": [
        "edad_maria = int(input('Ingrese la edad de María: '))\n",
        "edad_beatriz = int(input('Ingrese la edad de Beatriz: '))\n",
        "\n",
        "if edad_maria < edad_beatriz:\n",
        "  print('María es menor que Beatriz.')"
      ],
      "metadata": {
        "id": "mkKcopIzlOxf",
        "outputId": "3879895b-fb30-4c10-f144-0dff03d07c84",
        "colab": {
          "base_uri": "https://localhost:8080/"
        }
      },
      "execution_count": null,
      "outputs": [
        {
          "output_type": "stream",
          "name": "stdout",
          "text": [
            "Ingrese la edad de María: 70\n",
            "Ingrese la edad de Beatriz: 71\n",
            "María es menor que Beatriz.\n"
          ]
        }
      ]
    },
    {
      "cell_type": "code",
      "source": [
        "empleados_empresa_1 = int(input('Ingrese la cantidad de empleados de la empresa 1: '))\n",
        "empleados_empresa_2 = int(input('Ingrese la cantidad de empleados de la empresa 2: '))\n",
        "\n",
        "if empleados_empresa_1 >= empleados_empresa_2:\n",
        "  print('La empresa 1 tiene una cantidad de empleados mayor o igual a la empresa 2.')"
      ],
      "metadata": {
        "id": "K28o8d-_lO0O",
        "outputId": "680c9789-5bf9-4dbe-bf75-c52db46e60d6",
        "colab": {
          "base_uri": "https://localhost:8080/"
        }
      },
      "execution_count": null,
      "outputs": [
        {
          "output_type": "stream",
          "name": "stdout",
          "text": [
            "Ingrese la cantidad de empleados de la empresa 1: 100\n",
            "Ingrese la cantidad de empleados de la empresa 2: 99\n",
            "La empresa 1 tiene una cantidad de empleados mayor o igual a la empresa 2.\n"
          ]
        }
      ]
    },
    {
      "cell_type": "code",
      "source": [
        "empleados_empresa_1 = int(input('Ingrese la cantidad de empleados de la empresa 1: '))\n",
        "empleados_empresa_2 = int(input('Ingrese la cantidad de empleados de la empresa 2: '))\n",
        "\n",
        "if empleados_empresa_1 <= empleados_empresa_2:\n",
        "  print('La empresa 1 tiene una cantidad de empleados menor o igual a la empresa 2.')"
      ],
      "metadata": {
        "id": "3adLzuuyme1u",
        "outputId": "3d0a3979-f9c3-488d-b2ce-27b0952431c1",
        "colab": {
          "base_uri": "https://localhost:8080/"
        }
      },
      "execution_count": null,
      "outputs": [
        {
          "output_type": "stream",
          "name": "stdout",
          "text": [
            "Ingrese la cantidad de empleados de la empresa 1: 500\n",
            "Ingrese la cantidad de empleados de la empresa 2: 501\n",
            "La empresa 1 tiene una cantidad de empleados menor o igual a la empresa 2.\n"
          ]
        }
      ]
    },
    {
      "cell_type": "code",
      "source": [
        "libro_1 = input('Ingrese el título del 1° libro: ')\n",
        "libro_2 = input('Ingrese el título del 2° libro: ')\n",
        "\n",
        "if libro_1 == libro_2:\n",
        "  print('Los libros tienen el mismo título.')"
      ],
      "metadata": {
        "id": "xx_Yzi2jme4P",
        "outputId": "a2b41796-0a23-4d49-b3e9-445e62088a74",
        "colab": {
          "base_uri": "https://localhost:8080/"
        }
      },
      "execution_count": null,
      "outputs": [
        {
          "output_type": "stream",
          "name": "stdout",
          "text": [
            "Ingrese el título del 1° libro: Data\n",
            "Ingrese el título del 2° libro: Data\n",
            "Los libros tienen el mismo título.\n"
          ]
        }
      ]
    },
    {
      "cell_type": "code",
      "source": [
        "libro_1 = input('Ingrese el título del 1° libro: ')\n",
        "libro_2 = input('Ingrese el título del 2° libro: ')\n",
        "\n",
        "if libro_1 != libro_2:\n",
        "  print('Los libros tienen títulos diferentes.')"
      ],
      "metadata": {
        "id": "Huu0lBr3nNYn",
        "outputId": "ee2d80ba-a1ff-4f5e-e95b-c32866c2fad6",
        "colab": {
          "base_uri": "https://localhost:8080/"
        }
      },
      "execution_count": null,
      "outputs": [
        {
          "output_type": "stream",
          "name": "stdout",
          "text": [
            "Ingrese el título del 1° libro: Data\n",
            "Ingrese el título del 2° libro: Science\n",
            "Los libros tienen títulos diferentes.\n"
          ]
        }
      ]
    },
    {
      "cell_type": "markdown",
      "source": [
        "Ya el comando `else` en Python se usa en junción con la palabra clave `if` para formar una estructura condicional. la sintaxis para usar el `else` es:\n",
        "\n",
        "```\n",
        "if condicion:\n",
        "  # codigo en caso de que sea verdad\n",
        "else:\n",
        "  # codigo en caso de que sea falso\n",
        "```\n",
        "\n",
        "el comando `else` se ejecuta cuando la condición verificada por el `if` es evaluada como `False`."
      ],
      "metadata": {
        "id": "27RW2v_sIKct"
      }
    },
    {
      "cell_type": "code",
      "source": [
        "nota = float(input('Ingrese la nota del alumno: '))\n",
        "\n",
        "if nota >= 7:\n",
        "  print('El alumno está aprobado.')\n",
        "else:\n",
        "  print('El alumno está reprobado.')"
      ],
      "metadata": {
        "id": "ZTfNJd_f-aOq",
        "outputId": "94eb1bf0-d14b-479c-f680-baa9ad53675c",
        "colab": {
          "base_uri": "https://localhost:8080/"
        }
      },
      "execution_count": 1,
      "outputs": [
        {
          "output_type": "stream",
          "name": "stdout",
          "text": [
            "Ingrese la nota del alumno: 6\n",
            "El alumno está reprobado.\n"
          ]
        }
      ]
    },
    {
      "cell_type": "code",
      "source": [
        "nota = float(input('Ingrese la nota del alumno: '))\n",
        "\n",
        "if nota >= 7:\n",
        "  print('El alumno está aprobado.')\n",
        "else:\n",
        "  print('El alumno está reprobado.')"
      ],
      "metadata": {
        "id": "LPOb5MkV-btq",
        "outputId": "b6d5fe3f-becf-49a5-e1d1-27f2ed00d639",
        "colab": {
          "base_uri": "https://localhost:8080/"
        }
      },
      "execution_count": 3,
      "outputs": [
        {
          "output_type": "stream",
          "name": "stdout",
          "text": [
            "Ingrese la nota del alumno: 100\n",
            "El alumno está aprobado.\n"
          ]
        }
      ]
    },
    {
      "cell_type": "code",
      "source": [
        "nota = float(input('Ingrese la nota del alumno: '))\n",
        "\n",
        "if nota >= 7:\n",
        "  print('El alumno está aprobado.')\n",
        "if 7 > nota >= 5:\n",
        "  print (\"El alumno requiere Recuperación\")\n",
        "else:\n",
        "  print('El alumno está reprobado.')"
      ],
      "metadata": {
        "id": "KhbYpPiy5d9v",
        "outputId": "31263e8e-af68-4bc5-8f10-ce945f1ffc77",
        "colab": {
          "base_uri": "https://localhost:8080/"
        }
      },
      "execution_count": 8,
      "outputs": [
        {
          "output_type": "stream",
          "name": "stdout",
          "text": [
            "Ingrese la nota del alumno: 4\n",
            "El alumno está reprobado.\n"
          ]
        }
      ]
    },
    {
      "cell_type": "markdown",
      "source": [
        "---\n",
        "**Situación:**\n",
        "\n",
        "Recibiremos el promedio de la nota de los estudiantes y necesitamos de un algoritmo que ejecute el análisis y determine si el estudiante fue **Aprobado** o **Reprobado**, mostrando un mensaje del resultado. Para ser aprobado, el promedio necesita ser igual o superior a 7.0."
      ],
      "metadata": {
        "id": "BqORg85XX-Nl"
      }
    },
    {
      "cell_type": "code",
      "source": [
        "nota = float(input('Ingrese la nota del alumno: '))\n",
        "\n",
        "if nota >= 7:\n",
        "  print('El alumno está aprobado.')\n",
        "if 7 > nota >= 5:\n",
        "  print (\"El alumno requiere Recuperación\")\n",
        "else:\n",
        "  print('El alumno está reprobado.')"
      ],
      "metadata": {
        "id": "UukCN4AQ-YYW"
      },
      "execution_count": null,
      "outputs": []
    },
    {
      "cell_type": "markdown",
      "source": [
        "Ahora, nuestra institución educativa estableció que las personas que tengan el promedio entre 5.0 y 7.0 pueden participar del curso de **Recuperación** durante las vacaciones para lograr aprobar.\n",
        "\n",
        "Entonces podemos apoyarnos en un conjunto de `if`s para poder estructurar esta nueva condición."
      ],
      "metadata": {
        "id": "bD9O17HB6LUo"
      }
    },
    {
      "cell_type": "markdown",
      "source": [
        "Observa que en casos con 3 situaciones como este necesitamos definir bien nuestras condiciones. Pues, si realizamos una condición con `else` al final, este irá a considerar solamente la condición `if` inmediatamente anterior para generar la salida en caso de que el resultado de su operación lógica sea **falso** dando como resultado, dos o más ejecuciones.\n",
        "\n",
        "Por ejemplo:"
      ],
      "metadata": {
        "id": "D5e2mByjvycO"
      }
    },
    {
      "cell_type": "markdown",
      "source": [
        "## `ELIF`\n",
        "\n",
        "El comando `elif` es una palabra clave en Python que significa \"si no, si\" y lo podemos considerar una *contracción* entre `else` e `if`. Se utiliza en conjunto con la palabra clave `if` para formar una estructura condicional en cadena."
      ],
      "metadata": {
        "id": "04T5g-7h4zWx"
      }
    },
    {
      "cell_type": "markdown",
      "source": [
        "la sintaxis para utilizar el comando `elif` es:\n",
        "\n",
        "```\n",
        "if condicion1:\n",
        "    # Realiza algo\n",
        "elif condicion2:\n",
        "    # Realiza otra cosa\n",
        "elif condicion3:\n",
        "    # Realiza otra cosa\n",
        "else:\n",
        "    # Realiza algo diferente\n",
        "```\n",
        "\n",
        "El comando `elif` permite que puedas verificar varias condiciones en cadena, economizando espacio en tu código. Si la primera condición se evalúa como `False`, el interpretador de Python evaluará la próxima condición con el `elif`. Ello continuará hasta que una condición sea evaluada como `True` o hasta que el `else` sea alcazado. Si ninguna de las condiciones es evaluada como `True`, la ejecución del código del comando `else` será iniciada."
      ],
      "metadata": {
        "id": "rNBHr5mm1Lm6"
      }
    },
    {
      "cell_type": "markdown",
      "source": [
        "Vamos a emplear el mismo caso anterior:"
      ],
      "metadata": {
        "id": "MVoykFbB4bd4"
      }
    },
    {
      "cell_type": "code",
      "source": [
        "nota = float(input('Ingrese la nota del alumno: '))\n",
        "\n",
        "if nota >= 7:\n",
        "  print('El alumno está aprobado.')\n",
        "elif 7 > nota >= 5:\n",
        "  print (\"El alumno requiere Recuperación\")\n",
        "else:\n",
        "  print('El alumno está reprobado.')"
      ],
      "metadata": {
        "id": "QFamB78s-TW_",
        "outputId": "789937c7-b073-4245-a6b1-da804479fee4",
        "colab": {
          "base_uri": "https://localhost:8080/"
        }
      },
      "execution_count": 9,
      "outputs": [
        {
          "output_type": "stream",
          "name": "stdout",
          "text": [
            "Ingrese la nota del alumno: 7\n",
            "El alumno está aprobado.\n"
          ]
        }
      ]
    },
    {
      "cell_type": "code",
      "source": [
        "nota = float(input('Ingrese la nota del alumno: '))\n",
        "\n",
        "if nota >= 7:\n",
        "  print('El alumno está aprobado.')\n",
        "elif 7 > nota >= 5:\n",
        "  print (\"El alumno requiere Recuperación\")\n",
        "else:\n",
        "  print('El alumno está reprobado.')"
      ],
      "metadata": {
        "id": "nuScbnHF-TfK",
        "outputId": "ae88ea98-d597-479b-ca22-7bc469441e20",
        "colab": {
          "base_uri": "https://localhost:8080/"
        }
      },
      "execution_count": 10,
      "outputs": [
        {
          "output_type": "stream",
          "name": "stdout",
          "text": [
            "Ingrese la nota del alumno: 6.9\n",
            "El alumno requiere Recuperación\n"
          ]
        }
      ]
    },
    {
      "cell_type": "code",
      "source": [
        "nota = float(input('Ingrese la nota del alumno: '))\n",
        "\n",
        "if nota >= 7:\n",
        "  print('El alumno está aprobado.')\n",
        "elif 7 > nota >= 5:\n",
        "  print (\"El alumno requiere Recuperación\")\n",
        "else:\n",
        "  print('El alumno está reprobado.')"
      ],
      "metadata": {
        "id": "8FXaA8qL7OHp",
        "outputId": "4c2dacaa-f047-40ec-e082-091e2d7a7a7f",
        "colab": {
          "base_uri": "https://localhost:8080/"
        }
      },
      "execution_count": 11,
      "outputs": [
        {
          "output_type": "stream",
          "name": "stdout",
          "text": [
            "Ingrese la nota del alumno: 4.9\n",
            "El alumno está reprobado.\n"
          ]
        }
      ]
    },
    {
      "cell_type": "code",
      "source": [
        "temperatura = float(input('Ingrese la temperatura actual: '))\n",
        "\n",
        "if temperatura > 30:\n",
        "  print ('Está caliente.')\n",
        "elif 30 > temperatura >= 25:\n",
        "  print (\"Está templado\")\n",
        "else:\n",
        "  print (\"Está frío\")"
      ],
      "metadata": {
        "id": "1GWIcr-r7Wy3",
        "outputId": "773200a7-e1cf-4118-bf66-d4db5b47a2c0",
        "colab": {
          "base_uri": "https://localhost:8080/"
        }
      },
      "execution_count": 12,
      "outputs": [
        {
          "output_type": "stream",
          "name": "stdout",
          "text": [
            "Ingrese la temperatura actual: 35\n",
            "Está caliente.\n"
          ]
        }
      ]
    },
    {
      "cell_type": "code",
      "source": [
        "temperatura = float(input('Ingrese la temperatura actual: '))\n",
        "\n",
        "if temperatura > 30:\n",
        "  print ('Está caliente.')\n",
        "elif 30 > temperatura >= 25:\n",
        "  print (\"Está templado\")\n",
        "else:\n",
        "  print (\"Está frío\")"
      ],
      "metadata": {
        "id": "CXy5hxTs71me",
        "outputId": "5dacce2c-fe74-4292-fc81-d1fc2de5ec70",
        "colab": {
          "base_uri": "https://localhost:8080/"
        }
      },
      "execution_count": 13,
      "outputs": [
        {
          "output_type": "stream",
          "name": "stdout",
          "text": [
            "Ingrese la temperatura actual: 28.5\n",
            "Está templado\n"
          ]
        }
      ]
    },
    {
      "cell_type": "code",
      "source": [
        "temperatura = float(input('Ingrese la temperatura actual: '))\n",
        "\n",
        "if temperatura > 30:\n",
        "  print ('Está caliente.')\n",
        "elif 30 > temperatura >= 25:\n",
        "  print (\"Está templado\")\n",
        "else:\n",
        "  print (\"Está frío\")"
      ],
      "metadata": {
        "id": "TG8jFliT71pu",
        "outputId": "bc68b0e2-492b-4da6-a33d-9cf76feca075",
        "colab": {
          "base_uri": "https://localhost:8080/"
        }
      },
      "execution_count": 14,
      "outputs": [
        {
          "output_type": "stream",
          "name": "stdout",
          "text": [
            "Ingrese la temperatura actual: 24\n",
            "Está frío\n"
          ]
        }
      ]
    },
    {
      "cell_type": "code",
      "source": [
        "temperatura = float(input('Ingrese la temperatura actual: '))\n",
        "\n",
        "if temperatura > 30:\n",
        "    print('Está caliente.')\n",
        "elif temperatura >= 25 and temperatura < 30:\n",
        "    print(\"Está templado\")\n",
        "else:\n",
        "    print(\"Está frío\")"
      ],
      "metadata": {
        "id": "-WIP-mfp8fSJ",
        "outputId": "63d3786e-4050-40bf-fa85-5157dd4f8f0b",
        "colab": {
          "base_uri": "https://localhost:8080/"
        }
      },
      "execution_count": 15,
      "outputs": [
        {
          "output_type": "stream",
          "name": "stdout",
          "text": [
            "Ingrese la temperatura actual: 27.5\n",
            "Está templado\n"
          ]
        }
      ]
    },
    {
      "cell_type": "code",
      "source": [
        "invitados = -1\n",
        "\n",
        "while invitados < 0:\n",
        "  invitados = int(input('Ingrese la cantidad de invitados: '))\n",
        "  if invitados <0:\n",
        "    print ('La cantidad de invitados no puede ser negativa.')\n",
        "\n",
        "if invitados > 50:\n",
        "  print (\"¡Pongamos música de fiesta!\")\n",
        "elif invitados >= 20 and invitados <50:\n",
        "  print (\"¡Pongámos música de fondo!\")\n",
        "elif invitados >0 and invitados <20:\n",
        "  print (\"¡Pongámos música tranquila!\")\n",
        "else:\n",
        "  print (\"¡No hay música y sin música, no hay fiesta!\")"
      ],
      "metadata": {
        "id": "LXni_LnU9020",
        "outputId": "51cb1888-94c4-4544-d8df-20ba94f161b1",
        "colab": {
          "base_uri": "https://localhost:8080/"
        }
      },
      "execution_count": 26,
      "outputs": [
        {
          "output_type": "stream",
          "name": "stdout",
          "text": [
            "Ingrese la cantidad de invitados: -1\n",
            "La cantidad de invitados no puede ser negativa.\n",
            "Ingrese la cantidad de invitados: 1\n",
            "¡Pongámos música tranquila!\n"
          ]
        }
      ]
    },
    {
      "cell_type": "code",
      "source": [
        "invitados = -1 #Inicializamos con un valor inválido\n",
        "\n",
        "while invitados < 0:\n",
        "  invitados = int(input('Ingrese la cantidad de invitados: '))\n",
        "  if invitados <0:\n",
        "    print ('La cantidad de invitados no puede ser negativa.')\n",
        "\n",
        "if invitados > 50:\n",
        "  print (\"¡Pongamos música de fiesta!\")\n",
        "elif invitados >= 20 and invitados <50:\n",
        "  print (\"¡Pongámos música de fondo!\")\n",
        "elif invitados >0 and invitados <20:\n",
        "  print (\"¡Pongámos música tranquila!\")\n",
        "else:\n",
        "  print (\"¡No hay música y sin música, no hay fiesta!\")"
      ],
      "metadata": {
        "id": "jDPvA8CiB48l",
        "outputId": "4c3f1446-6893-4a3a-9561-d8919ef24a1d",
        "colab": {
          "base_uri": "https://localhost:8080/"
        }
      },
      "execution_count": 28,
      "outputs": [
        {
          "output_type": "stream",
          "name": "stdout",
          "text": [
            "Ingrese la cantidad de invitados: 0\n",
            "¡No hay música y sin música, no hay fiesta!\n"
          ]
        }
      ]
    },
    {
      "cell_type": "code",
      "source": [
        "invitados = -1 #Inicializamos con un valor inválido\n",
        "\n",
        "while invitados < 0:\n",
        "  invitados = int(input('Ingrese la cantidad de invitados: '))\n",
        "  if invitados <0:\n",
        "    print ('La cantidad de invitados no puede ser negativa.')\n",
        "\n",
        "if invitados > 50:\n",
        "  print (\"¡Pongamos música de fiesta!\")\n",
        "elif invitados >= 20 and invitados <50:\n",
        "  print (\"¡Pongámos música de fondo!\")\n",
        "elif invitados >0 and invitados <20:\n",
        "  print (\"¡Pongámos música tranquila!\")\n",
        "else:\n",
        "  print (\"¡No hay música y sin música, no hay fiesta!\")"
      ],
      "metadata": {
        "id": "go3MZhKZCb5A",
        "outputId": "888adf30-07f1-4b8e-d22e-02aed63a28a0",
        "colab": {
          "base_uri": "https://localhost:8080/"
        }
      },
      "execution_count": 30,
      "outputs": [
        {
          "output_type": "stream",
          "name": "stdout",
          "text": [
            "Ingrese la cantidad de invitados: 21\n",
            "¡Pongámos música de fondo!\n"
          ]
        }
      ]
    },
    {
      "cell_type": "code",
      "source": [
        "invitados = -1 #Inicializamos con un valor inválido\n",
        "\n",
        "while invitados < 0:\n",
        "  invitados = int(input('Ingrese la cantidad de invitados: '))\n",
        "  if invitados <0:\n",
        "    print ('La cantidad de invitados no puede ser negativa.')\n",
        "\n",
        "if invitados > 50:\n",
        "  print (\"¡Pongamos música de fiesta!\")\n",
        "elif invitados >= 20 and invitados <50:\n",
        "  print (\"¡Pongámos música de fondo!\")\n",
        "elif invitados >0 and invitados <20:\n",
        "  print (\"¡Pongámos música tranquila!\")\n",
        "else:\n",
        "  print (\"¡No hay música y sin música, no hay fiesta!\")"
      ],
      "metadata": {
        "id": "ylxELSlRCcCC",
        "outputId": "ea986194-f3fb-4bfe-84d1-6598d32097f5",
        "colab": {
          "base_uri": "https://localhost:8080/"
        }
      },
      "execution_count": 31,
      "outputs": [
        {
          "output_type": "stream",
          "name": "stdout",
          "text": [
            "Ingrese la cantidad de invitados: 100\n",
            "¡Pongamos música de fiesta!\n"
          ]
        }
      ]
    },
    {
      "cell_type": "markdown",
      "source": [
        "## Operadores\n",
        "\n",
        "Durante la construcción de comandos a veces necesitamos de una elaboración mayor de la expresión condicional, necesitando que algunos operadores lógicos se encuentren integrados."
      ],
      "metadata": {
        "id": "Tf1wSOem6iwZ"
      }
    },
    {
      "cell_type": "markdown",
      "source": [
        "### `AND`, `OR`, `NOT`\n",
        "\n",
        "Los operadores lógicos `and`, `or` y `not` son usados para combinar expresiones lógicas en Python. Ellos son usados frecuentemente en conjunto con el comando `if` para crear estructuras condicionales más complejas.\n"
      ],
      "metadata": {
        "id": "GFIZnRWXGPWO"
      }
    },
    {
      "cell_type": "markdown",
      "source": [
        "- `AND` es usado para verificar si dos condiciones son verdaderas. La expresión lógica¹ `x and y` se evalúa como `True` tan solo si **ambas condiciones `x` y `y` son verdaderas**, y como `False` en caso contrario.\n",
        "\n",
        "- `OR` es usado para verificar si al menos una de las condiciones es verdadera. La expresión lógica `x or y` se evalúa como `True` **si al menos una de las condiciones `x` o `y` es verdadera**, y como `False` si ambas condiciones son falsas.\n",
        "\n",
        "- `NOT` es usado para **negar una condición**. La expresión lógica `not x` es evaluada como `True` si la condición x es falsa, y como `False` si la condición x es verdadera.\n",
        "\n",
        "¹ Una expresión lógica es una declaración que puede ser evaluada como verdadera o falsa. Ella se compone por operandos lógicos² y por operadores lógicos³, que son usados ​​para combinar varias expresiones lógicas en una única expresión.\n",
        "\n",
        "² Los operandos lógicos son los elementos que son comparados o evaluados en una expresión lógica. Ellos son generalmente valores verdaderos o falsos, pero también pueden ser expresiones lógicas más complejas. En Python, los operandos lógicos son los valores `True` y `False`.\n",
        "\n",
        "³ Los operadores lógicos son ls símbolos o palabras clave que son usados ​​para combinar varias expresiones lógicas en una única expresión. En Python, los operadores lógicos son `and`, `or` y `not`, bien como las palabras clave `if`, `elif` e `else`."
      ],
      "metadata": {
        "id": "Z_dgAoHXJbzB"
      }
    },
    {
      "cell_type": "markdown",
      "source": [
        "> Operadores lógicos más comunes\n",
        "\n",
        "|a|b|AND|OR|NOT|\n",
        "|-|-|-|-|-|\n",
        "|0|0|0|0|1\n",
        "|0|1|0|1|-\n",
        "|1|0|0|1|-\n",
        "|1|1|1|1|0\n"
      ],
      "metadata": {
        "id": "2E5aUogf-49u"
      }
    },
    {
      "cell_type": "code",
      "source": [
        "v = True\n",
        "f = False"
      ],
      "metadata": {
        "id": "DFKmpvmS-Pa6"
      },
      "execution_count": 32,
      "outputs": []
    },
    {
      "cell_type": "code",
      "source": [
        "if f and f:\n",
        "  print('Verdadero')\n",
        "else:\n",
        "  print('Falso')"
      ],
      "metadata": {
        "id": "W5BIrpOD-PeI",
        "outputId": "04977106-6ef0-4fad-df35-0e5bf3d25b6a",
        "colab": {
          "base_uri": "https://localhost:8080/"
        }
      },
      "execution_count": 39,
      "outputs": [
        {
          "output_type": "stream",
          "name": "stdout",
          "text": [
            "Falso\n"
          ]
        }
      ]
    },
    {
      "cell_type": "code",
      "source": [
        "if f or f:\n",
        "  print('Verdadero')\n",
        "else:\n",
        "  print('Falso')"
      ],
      "metadata": {
        "id": "fpDhYxq4-PiM",
        "outputId": "6a792785-e695-4288-9b6f-3b3fe3172553",
        "colab": {
          "base_uri": "https://localhost:8080/"
        }
      },
      "execution_count": 44,
      "outputs": [
        {
          "output_type": "stream",
          "name": "stdout",
          "text": [
            "Falso\n"
          ]
        }
      ]
    },
    {
      "cell_type": "code",
      "source": [
        "if not f:\n",
        "  print('Verdadero')\n",
        "else:\n",
        "  print('Falso')"
      ],
      "metadata": {
        "id": "Xv_4TH-mHKVg",
        "outputId": "e0103ca4-4031-46c8-d229-e2e7b260dcff",
        "colab": {
          "base_uri": "https://localhost:8080/"
        }
      },
      "execution_count": 47,
      "outputs": [
        {
          "output_type": "stream",
          "name": "stdout",
          "text": [
            "Verdadero\n"
          ]
        }
      ]
    },
    {
      "cell_type": "markdown",
      "source": [
        "### `IN`\n",
        "\n",
        "Es usado para verificar si un elemento está presente en una lista, tupla u otra colección de conjunto. La expresión `x in y` se evalúa como `True` si el elemento `x` esta presente na variávelen la variable de conjunto `y`, y como `False` en caso contrario."
      ],
      "metadata": {
        "id": "w7EXG1dhWtja"
      }
    },
    {
      "cell_type": "markdown",
      "source": [
        "Podemos verificarlo con variables de texto.\n",
        "\n",
        "---\n",
        "\n",
        "**Situación:**\n",
        "\n",
        "En la escuela nos entregaron una lista con nombres de estudiantes que fueron aprobados según el promedio del semestre, pero es necesario verificar si algunos nombres están en esa lista para confirmar que los datos estén correctos.\n",
        "\n",
        "La lista distribuida puede ser observada a continuación:\n",
        "\n",
        "```\n",
        "lista = 'Juan Pérez, María González, Pedro Rodríguez, Ana López, Carlos Martínez,\n",
        "    Laura Sánchez, José García, Elena Fernández, Luis Morales, Carmen Torres,\n",
        "    David Ruiz, Isabel Ramírez, Javier Díaz, Sara Herrera, Miguel Castro,\n",
        "    Patricia Ortega, Francisco Vargas, Marta Jiménez, Manuel Medina, Rosa Molina,\n",
        "    Alejandro Silva, Silvia Ruiz, Andrés Torres, Natalia Soto, Diego Guerrero,\n",
        "    Paula Ríos, Ricardo Navarro, Alicia Cordero, Carlos Vidal, Lorena Gómez'\n",
        "```\n",
        "\n",
        "Los nombres que necesitas verificar son los siguientes:\n",
        "\n",
        "```\n",
        "nombre_1 = 'Miguel Castro'\n",
        "nombre_2 = 'Marcelo Noguera'\n",
        "```"
      ],
      "metadata": {
        "id": "enJNp6JenQbq"
      }
    },
    {
      "cell_type": "code",
      "source": [
        "lista = 'Juan Pérez, María González, Pedro Rodríguez, Ana López, Carlos Martínez, Laura Sánchez, José García, Elena Fernández, Luis Morales, Carmen Torres, David Ruiz, Isabel Ramírez, Javier Díaz, Sara Herrera, Miguel Castro, Patricia Ortega, Francisco Vargas, Marta Jiménez, Manuel Medina, Rosa Molina, Alejandro Silva, Silvia Ruiz, Andrés Torres, Natalia Soto, Diego Guerrero, Paula Ríos, Ricardo Navarro, Alicia Cordero, Carlos Vidal, Lorena Gómez'"
      ],
      "metadata": {
        "id": "gPPN9BCT-Mki"
      },
      "execution_count": 49,
      "outputs": []
    },
    {
      "cell_type": "code",
      "source": [
        "nombre_1 = 'Miguel Castro'\n",
        "nombre_2 = 'Marcelo Noguera'"
      ],
      "metadata": {
        "id": "GINbG3Fa-Mnb"
      },
      "execution_count": 50,
      "outputs": []
    },
    {
      "cell_type": "code",
      "source": [
        "if nombre_1 in lista:\n",
        "  print (\"El Estudiante aprobó\")\n",
        "else:\n",
        "  print (\"El Estudiante reprobó\")"
      ],
      "metadata": {
        "id": "hk-RhNRT-Mp7",
        "outputId": "36183cc3-6570-4833-a055-1c7f21fbfde6",
        "colab": {
          "base_uri": "https://localhost:8080/"
        }
      },
      "execution_count": 52,
      "outputs": [
        {
          "output_type": "stream",
          "name": "stdout",
          "text": [
            "El Estudiante aprobó\n"
          ]
        }
      ]
    },
    {
      "cell_type": "code",
      "source": [
        "if nombre_2 in lista:\n",
        "  print (\"El Estudiante aprobó\")\n",
        "else:\n",
        "  print (\"El Estudiante reprobó\")"
      ],
      "metadata": {
        "id": "ZJDNswYVNMWF",
        "outputId": "d7b6f76d-496e-442c-eaad-bcf0415ec45c",
        "colab": {
          "base_uri": "https://localhost:8080/"
        }
      },
      "execution_count": 53,
      "outputs": [
        {
          "output_type": "stream",
          "name": "stdout",
          "text": [
            "El Estudiante reprobó\n"
          ]
        }
      ]
    },
    {
      "cell_type": "code",
      "source": [
        "frase = \"La programación es divertida\"\n",
        "palabra_a_buscar = \"programación\"\n",
        "\n",
        "if palabra_a_buscar in frase:\n",
        "    print(\"La palabra está en la frase.\")\n",
        "else:\n",
        "    print(\"La palabra no está en la frase.\")"
      ],
      "metadata": {
        "id": "TCEIFRr8QOqk",
        "outputId": "11d0d18a-1432-4e23-a137-0446db83c4c1",
        "colab": {
          "base_uri": "https://localhost:8080/"
        }
      },
      "execution_count": 54,
      "outputs": [
        {
          "output_type": "stream",
          "name": "stdout",
          "text": [
            "La palabra está en la frase.\n"
          ]
        }
      ]
    },
    {
      "cell_type": "code",
      "source": [
        "frutas_favoritas = [\"manzana\", \"banana\", \"naranja\"]\n",
        "fruta_a_verificar = \"kiwi\"  # Puedes cambiar de fruta\n",
        "\n",
        "if fruta_a_verificar in frutas_favoritas:\n",
        "    print(\"La fruta está en la lista.\")\n",
        "else:\n",
        "    print(\"La fruta no está en la lista.\")"
      ],
      "metadata": {
        "id": "5sXz5QCrQedB",
        "outputId": "99685b2c-1a25-43b6-847c-4e8d10152a49",
        "colab": {
          "base_uri": "https://localhost:8080/"
        }
      },
      "execution_count": 56,
      "outputs": [
        {
          "output_type": "stream",
          "name": "stdout",
          "text": [
            "La fruta no está en la lista.\n"
          ]
        }
      ]
    },
    {
      "cell_type": "markdown",
      "source": [
        "# Es hora de practicar lo visto en este apartado\n"
      ],
      "metadata": {
        "id": "BuvtLpEQRre4"
      }
    },
    {
      "cell_type": "code",
      "source": [
        "num_1 = int(input('Ingrese el primer número: '))\n",
        "num_2 = int(input('Ingrese el segundo número: '))\n",
        "num_3 = int(input('Ingrese el tercer número: '))\n",
        "\n",
        "if num_1 > num_2 and num_1 > num_3:\n",
        "  print('El primer número es el mayor.')\n",
        "elif num_2 > num_1 and num_2 > num_3:\n",
        "  print('El segundo número es el mayor.')\n",
        "elif num_3 > num_1 and num_3 > num_2:\n",
        "  print('El tercer número es el mayor')\n",
        "else:\n",
        "  print('Intentalo más tarde')"
      ],
      "metadata": {
        "id": "A0SraJlVRw3T",
        "outputId": "f9a09492-ca9d-4cd1-89ae-72606013b5b6",
        "colab": {
          "base_uri": "https://localhost:8080/"
        }
      },
      "execution_count": 65,
      "outputs": [
        {
          "output_type": "stream",
          "name": "stdout",
          "text": [
            "Ingrese el primer número: 1\n",
            "Ingrese el segundo número: 2\n",
            "Ingrese el tercer número: 3\n",
            "El tercer número es el mayor\n"
          ]
        }
      ]
    },
    {
      "cell_type": "code",
      "source": [
        "crecimiento = float(input(\"Introduce el porcentaje de crecimiento anual: \"))\n",
        "\n",
        "if crecimiento >=75:\n",
        "  print (\"El crecimiento es Positivo\")\n",
        "elif crecimiento >50 and crecimiento <75:\n",
        "  print (\"El crecimiento es Moderado\")\n",
        "elif crecimiento >25 and crecimiento <50:\n",
        "  print (\"El crecimiento es Constante\")\n",
        "elif crecimiento >1 and crecimiento <25:\n",
        "  print (\"El crecimiento es Bajo\")\n",
        "elif crecimiento <=0:\n",
        "  print (\"El crecimiento es Negativo\")"
      ],
      "metadata": {
        "id": "96Q7xpf2Rxfi",
        "outputId": "1090d532-cd34-4a5d-de28-f63d0eb7dd51",
        "colab": {
          "base_uri": "https://localhost:8080/"
        }
      },
      "execution_count": 79,
      "outputs": [
        {
          "output_type": "stream",
          "name": "stdout",
          "text": [
            "Introduce el porcentaje de crecimiento anual: 75\n",
            "El crecimiento es Positivo\n"
          ]
        }
      ]
    },
    {
      "cell_type": "code",
      "source": [],
      "metadata": {
        "id": "ijGNpRWnRxiC"
      },
      "execution_count": null,
      "outputs": []
    },
    {
      "cell_type": "code",
      "source": [],
      "metadata": {
        "id": "bgeJ8vAWRxkK"
      },
      "execution_count": null,
      "outputs": []
    },
    {
      "cell_type": "code",
      "source": [],
      "metadata": {
        "id": "23P1WnzURxmU"
      },
      "execution_count": null,
      "outputs": []
    },
    {
      "cell_type": "code",
      "source": [],
      "metadata": {
        "id": "TO_tkEr9RxoE"
      },
      "execution_count": null,
      "outputs": []
    },
    {
      "cell_type": "code",
      "source": [],
      "metadata": {
        "id": "PAk8uknWRxqL"
      },
      "execution_count": null,
      "outputs": []
    },
    {
      "cell_type": "code",
      "source": [],
      "metadata": {
        "id": "gITc1odORxsM"
      },
      "execution_count": null,
      "outputs": []
    },
    {
      "cell_type": "code",
      "source": [],
      "metadata": {
        "id": "S3XFscnhRxuK"
      },
      "execution_count": null,
      "outputs": []
    },
    {
      "cell_type": "code",
      "source": [],
      "metadata": {
        "id": "NL6nOz6KRxzq"
      },
      "execution_count": null,
      "outputs": []
    },
    {
      "cell_type": "code",
      "source": [],
      "metadata": {
        "id": "UaAEu8IjRx2K"
      },
      "execution_count": null,
      "outputs": []
    },
    {
      "cell_type": "code",
      "source": [],
      "metadata": {
        "id": "lffcXzZ4Rx4S"
      },
      "execution_count": null,
      "outputs": []
    },
    {
      "cell_type": "code",
      "source": [],
      "metadata": {
        "id": "wevSC_RdRx6Z"
      },
      "execution_count": null,
      "outputs": []
    },
    {
      "cell_type": "code",
      "source": [],
      "metadata": {
        "id": "DuVpMrScRx8b"
      },
      "execution_count": null,
      "outputs": []
    },
    {
      "cell_type": "code",
      "source": [],
      "metadata": {
        "id": "6--ivwCiRx-8"
      },
      "execution_count": null,
      "outputs": []
    },
    {
      "cell_type": "code",
      "source": [],
      "metadata": {
        "id": "4BzcqohzRyA6"
      },
      "execution_count": null,
      "outputs": []
    },
    {
      "cell_type": "code",
      "source": [],
      "metadata": {
        "id": "BOLSEyDRRyDJ"
      },
      "execution_count": null,
      "outputs": []
    },
    {
      "cell_type": "code",
      "source": [],
      "metadata": {
        "id": "nllikeMLRyFL"
      },
      "execution_count": null,
      "outputs": []
    },
    {
      "cell_type": "markdown",
      "source": [
        "# Estructuras de repetición"
      ],
      "metadata": {
        "id": "aL1vJPewvwvz"
      }
    },
    {
      "cell_type": "markdown",
      "source": [
        "Cuando tenemos que ejecutar un mismo bloque de comandos durante varias ocasiones no es nada práctico hacerlo a mano.\n",
        "\n",
        "**Situación**: Nos fue solicitado obtener e imprimir el promedio de 2 notas de **3 estudantes**:"
      ],
      "metadata": {
        "id": "VcPfCa8d-84t"
      }
    },
    {
      "cell_type": "code",
      "source": [],
      "metadata": {
        "id": "xcx21IGT9qA0"
      },
      "execution_count": null,
      "outputs": []
    },
    {
      "cell_type": "code",
      "source": [],
      "metadata": {
        "id": "Wtbiy9Ay9rGJ"
      },
      "execution_count": null,
      "outputs": []
    },
    {
      "cell_type": "code",
      "source": [],
      "metadata": {
        "id": "Yfyz4anY9rIr"
      },
      "execution_count": null,
      "outputs": []
    },
    {
      "cell_type": "markdown",
      "source": [
        "Ahora imaginemos una situación en que no son tan solo 3 estudiantes, sino 100 estudiantes. No sería nada interesante repetir el mismo código 100 veces, sino **ejecutar el mismo código 100 veces**.\n",
        "\n",
        "¡Esta estructura la logramos construir con lazos de repetición!"
      ],
      "metadata": {
        "id": "9puIuvUbFSFX"
      }
    },
    {
      "cell_type": "markdown",
      "source": [
        "## `WHILE`"
      ],
      "metadata": {
        "id": "uLO9-aE4-wx8"
      }
    },
    {
      "cell_type": "markdown",
      "source": [
        "El lazo `while` es una estructura de control de repetición en Python que permite ejecutar un bloque de código repetidamente mientras que una determinada condición sea verdadera. Su estructura es:\n",
        "\n",
        "\n",
        "\n",
        "```\n",
        "while condicion:\n",
        "    # bloque de codigo\n",
        "```\n",
        "\n",
        "Vamos a construir un ejemplo con un contador de 1 hasta 10.\n"
      ],
      "metadata": {
        "id": "rXZxDMiqHxm9"
      }
    },
    {
      "cell_type": "code",
      "source": [],
      "metadata": {
        "id": "Hd0ZSWxD9wCD"
      },
      "execution_count": null,
      "outputs": []
    },
    {
      "cell_type": "code",
      "source": [],
      "metadata": {
        "id": "miFHNqp29nOL"
      },
      "execution_count": null,
      "outputs": []
    },
    {
      "cell_type": "markdown",
      "source": [
        "Ahora vamos a colectar las notas y promedios de cada alumno dentro del lazo `while`. Haremos un ejemplo con 3 promedios."
      ],
      "metadata": {
        "id": "W4KZPBJuIrut"
      }
    },
    {
      "cell_type": "code",
      "source": [],
      "metadata": {
        "id": "9T5eCLFx9wk6"
      },
      "execution_count": null,
      "outputs": []
    },
    {
      "cell_type": "code",
      "source": [],
      "metadata": {
        "id": "P6E0_dW-9lZ9"
      },
      "execution_count": null,
      "outputs": []
    },
    {
      "cell_type": "markdown",
      "source": [
        "## `FOR`"
      ],
      "metadata": {
        "id": "WgAIaENMMfCP"
      }
    },
    {
      "cell_type": "markdown",
      "source": [
        "El lazo `for` es un tipo de estructura de control de flujo en Python que permite iterar sobre un conjunto de elementos. Su estructura es:\n",
        "\n",
        "\n",
        "\n",
        "```\n",
        "for elemento in conjunto:\n",
        "    # codigo a ser ejecutado para cada elemento\n",
        "```\n",
        "\n",
        "El lazo `for` itera sobre cada elemento del conjunto especificado y ejecuta el bloque de código dentro del lazo para cada elemento. Cuando el lazo llega al final del conjunto, este se interrumpe y el programa continúa la ejecución después del lazo.\n",
        "\n"
      ],
      "metadata": {
        "id": "HxrSZoRAMh-x"
      }
    },
    {
      "cell_type": "markdown",
      "source": [
        "El conjunto lo podemos generar con la función incorporada [`range()`](https://docs.python.org/3/library/functions.html#func-range). Se trata de una función capaz de generar una secuencia de números enteros. La estructura de esta función es:\n",
        "\n",
        "```\n",
        "range(inicio, fin, paso)\n",
        "```\n",
        "\n",
        "Según la documentación, `range()` genera una secuencia de números enteros a partir del valor del parámetro `inicio` hasta el valor del parámetro `fin`, de acuerdo con el valor del parámetro `paso`. Si `inicio` no es especificado, el valor por defecto es `0`. Si `paso` no es especificado, el valor por defecto es `1`.\n",
        "\n",
        "\n"
      ],
      "metadata": {
        "id": "6VgjyoQtPHBM"
      }
    },
    {
      "cell_type": "markdown",
      "source": [
        "Vamos a recrear el mismo contador `while` con el lazo `for`."
      ],
      "metadata": {
        "id": "ryn0hfdlUwC8"
      }
    },
    {
      "cell_type": "code",
      "source": [],
      "metadata": {
        "id": "KkL1wUIj9jL4"
      },
      "execution_count": null,
      "outputs": []
    },
    {
      "cell_type": "code",
      "source": [],
      "metadata": {
        "id": "uXIZnLSr9jOu"
      },
      "execution_count": null,
      "outputs": []
    },
    {
      "cell_type": "markdown",
      "source": [
        "# Estructuras de datos"
      ],
      "metadata": {
        "id": "8noP8OJ0Vhux"
      }
    },
    {
      "cell_type": "markdown",
      "source": [
        "Un conjunto de elementos es una colección de items, que son almacenados juntos de manera organizada. Algunos ejemplos de conjuntos de elementos en Python son las listas, los strings y los diccionarios."
      ],
      "metadata": {
        "id": "xpEUkefTu8fY"
      }
    },
    {
      "cell_type": "markdown",
      "source": [
        "## Listas"
      ],
      "metadata": {
        "id": "THSg4KYLwxIb"
      }
    },
    {
      "cell_type": "markdown",
      "source": [
        "Las listas pueden almacenar una colección de items en orden. Ellas son delimitadas por corchetes `[]` y sus elementos son separados por comas.\n",
        "\n",
        "Estas pueden almacenar cualquier tipo de items, incluyendo números, strings, objetos, otras listas, entre otros. También nos permiten almacenar items de tipos de datos diferentes juntos en una única lista."
      ],
      "metadata": {
        "id": "dzpsiqrOyJcK"
      }
    },
    {
      "cell_type": "code",
      "source": [
        "lista = ['Penélope Camacho',9.5,9.0,9.7,True]\n",
        "lista"
      ],
      "metadata": {
        "id": "DO3TBj7nAYeG",
        "colab": {
          "base_uri": "https://localhost:8080/"
        },
        "outputId": "fbee2eb5-265e-4b5b-badf-a0dd9331074b"
      },
      "execution_count": null,
      "outputs": [
        {
          "output_type": "execute_result",
          "data": {
            "text/plain": [
              "['Penélope Camacho', 9.5, 9.0, 9.7, True]"
            ]
          },
          "metadata": {},
          "execution_count": 62
        }
      ]
    },
    {
      "cell_type": "code",
      "source": [],
      "metadata": {
        "id": "DO2ubP9N9D_2"
      },
      "execution_count": null,
      "outputs": []
    },
    {
      "cell_type": "markdown",
      "source": [
        "Las listas son organizadas en Python porque **cada elemento de la lista tiene un índice que indica su posición al interior de la lista**. Los índices comienzan en 0 van hasta el tamaño de la lista menos 1."
      ],
      "metadata": {
        "id": "qUz3sJNl6LgK"
      }
    },
    {
      "cell_type": "markdown",
      "source": [
        "Tenemos entonces 5 elementos con índices que varían de 0 a 4, ordenadamente:\n",
        "\n",
        "```\n",
        "#             [0]           [1]   [2]   [3]    [4]\n",
        "lista = ['Penélope Camacho', 9.5 , 9.0 , 9.7 , True]\n",
        "```\n",
        "\n",
        "En Python tenemos también los índices **negativos** que se inician en el último elemento con el valor de `-1` y avanzan en el universo de los negativos hasta llegar al 1° elemento:\n",
        "\n",
        "```\n",
        "#             [-5]         [-4]  [-3]  [-2]   [-1]\n",
        "lista = ['Penélope Camacho', 9.5 , 9.0 , 9.7 , True]\n",
        "```\n",
        "\n",
        "Logramos seleccionar separadamente cada elemento a través de sus respectivos índices. Colocando el nombre de la lista y en seguida el índice que será seleccionado."
      ],
      "metadata": {
        "id": "rLf-Qg526hFD"
      }
    },
    {
      "cell_type": "code",
      "source": [],
      "metadata": {
        "id": "4hco1Zqy88Kw"
      },
      "execution_count": null,
      "outputs": []
    },
    {
      "cell_type": "code",
      "source": [],
      "metadata": {
        "id": "M8lH0I2288Ph"
      },
      "execution_count": null,
      "outputs": []
    },
    {
      "cell_type": "markdown",
      "source": [
        "Una forma más dinámica de trabajar item a item en una lista es utilizando un lazo `for` para leer un elemento a la vez."
      ],
      "metadata": {
        "id": "6TaE1ijmBTCd"
      }
    },
    {
      "cell_type": "code",
      "source": [],
      "metadata": {
        "id": "rBx4Yu1786Sy"
      },
      "execution_count": null,
      "outputs": []
    },
    {
      "cell_type": "markdown",
      "source": [
        "**Situación**: La nota `9.0` de Penélope necesita ser ajustada pues ganó 1 punto en su última nota por participación en clase. Entonces es necesario realizar un cambio en el índice `2` de `9.0` a `10.0`."
      ],
      "metadata": {
        "id": "Dh1_HnIVvucY"
      }
    },
    {
      "cell_type": "code",
      "source": [],
      "metadata": {
        "id": "bVPoZg668z3T"
      },
      "execution_count": null,
      "outputs": []
    },
    {
      "cell_type": "code",
      "source": [],
      "metadata": {
        "id": "Jo_PBQ0g8z7D"
      },
      "execution_count": null,
      "outputs": []
    },
    {
      "cell_type": "markdown",
      "source": [
        "También podemos calcular el promedio del estudiante a partir de los datos que tenemos."
      ],
      "metadata": {
        "id": "53XduzXkycAf"
      }
    },
    {
      "cell_type": "code",
      "source": [],
      "metadata": {
        "id": "SIH61Rrb8yv4"
      },
      "execution_count": null,
      "outputs": []
    },
    {
      "cell_type": "markdown",
      "source": [
        "## Manipulación de listas\n",
        "\n",
        "Las listas son muy útiles en Python porque nos permiten almacenar y acceder a una colección de items de manera organizada y rápida. Estas también ofrecen muchos métodos útiles para manipular los itens almacenados, como adicionar, remover, clasificar y buscar elementos."
      ],
      "metadata": {
        "id": "d-iYr10-y4qw"
      }
    },
    {
      "cell_type": "markdown",
      "source": [
        "#### Cantidad de elementos\n",
        "\n",
        "Usamos la función [`len()`](https://docs.python.org/3/library/functions.html#len) para descubrir la cantidad de elementos de un conjunto."
      ],
      "metadata": {
        "id": "ZLqx9A97XVB_"
      }
    },
    {
      "cell_type": "code",
      "source": [],
      "metadata": {
        "id": "6q1Tmm7P8wQf"
      },
      "execution_count": null,
      "outputs": []
    },
    {
      "cell_type": "markdown",
      "source": [
        "#### Partición\n",
        "\n",
        "La partición de listas por indexación en Python es una técnica muy útil para seleccionar un subconjunto de elementos de una lista. Esta se realiza usando la sintaxis `lista[inicio:fin]`, donde `inicio` es el índice del primer elemento que será incluído en la partición `fin` es el índice del primer elemento que será excluído de la partición."
      ],
      "metadata": {
        "id": "Z5tpstlHJss3"
      }
    },
    {
      "cell_type": "code",
      "source": [],
      "metadata": {
        "id": "NctvJTTU8uV9"
      },
      "execution_count": null,
      "outputs": []
    },
    {
      "cell_type": "code",
      "source": [],
      "metadata": {
        "id": "bQZUwldj8uY2"
      },
      "execution_count": null,
      "outputs": []
    },
    {
      "cell_type": "markdown",
      "source": [
        "#### [`append()`](https://docs.python.org/3/tutorial/datastructures.html#:~:text=of%20list%20objects%3A-,list.append(x),-Add%20an%20item)\n",
        "\n",
        "Añade un elemento al final de la lista."
      ],
      "metadata": {
        "id": "O0RRyabkRzZC"
      }
    },
    {
      "cell_type": "code",
      "source": [],
      "metadata": {
        "id": "_Q0oODwa8spC"
      },
      "execution_count": null,
      "outputs": []
    },
    {
      "cell_type": "code",
      "source": [],
      "metadata": {
        "id": "RM894r2M8sse"
      },
      "execution_count": null,
      "outputs": []
    },
    {
      "cell_type": "markdown",
      "source": [
        "#### [`extend()`](https://docs.python.org/3/tutorial/datastructures.html#:~:text=list.extend(iterable))\n",
        "\n",
        "Añade varios elementos al final de la lista.\n",
        "\n",
        "Añadiremos las notas `[10.0,8.0,9.0]` En la lista de Penélope Camacho."
      ],
      "metadata": {
        "id": "uQV91XMsUOJD"
      }
    },
    {
      "cell_type": "code",
      "source": [],
      "metadata": {
        "id": "6Zk2MpMw8rQc"
      },
      "execution_count": null,
      "outputs": []
    },
    {
      "cell_type": "code",
      "source": [],
      "metadata": {
        "id": "NnoKkoWb8rTQ"
      },
      "execution_count": null,
      "outputs": []
    },
    {
      "cell_type": "markdown",
      "source": [
        "*A continuación te mostraremos lo que no puede realizarse con* `append`."
      ],
      "metadata": {
        "id": "IVJvkTwNUk6M"
      }
    },
    {
      "cell_type": "code",
      "source": [],
      "metadata": {
        "id": "u3Eub2ZL8pp3"
      },
      "execution_count": null,
      "outputs": []
    },
    {
      "cell_type": "code",
      "source": [],
      "metadata": {
        "id": "tsKK5Ne58pvN"
      },
      "execution_count": null,
      "outputs": []
    },
    {
      "cell_type": "markdown",
      "source": [
        "#### [`remove()`](https://docs.python.org/3/tutorial/datastructures.html#:~:text=append(x).-,list.remove(x),-Remove%20the%20first)\n",
        "\n",
        "Remueve un elemento específico de la lista."
      ],
      "metadata": {
        "id": "dPGM5gpyUX1z"
      }
    },
    {
      "cell_type": "code",
      "source": [],
      "metadata": {
        "id": "mmboODPc8nd5"
      },
      "execution_count": null,
      "outputs": []
    },
    {
      "cell_type": "code",
      "source": [],
      "metadata": {
        "id": "T_w6vVgV8nh_"
      },
      "execution_count": null,
      "outputs": []
    },
    {
      "cell_type": "markdown",
      "source": [
        "## Diccionario"
      ],
      "metadata": {
        "id": "Rc22Vc08YDZ2"
      }
    },
    {
      "cell_type": "markdown",
      "source": [
        "Los diccionarios son un tipo de estructura de datos que almacenan pares de *llave-valor*. Estos son delimitados por llaves `{}` y los pares *llave-valor* son separados por comas.\n",
        "\n",
        "```\n",
        "diccionario = {llave: valor}\n",
        "```\n",
        "\n",
        "La **llave** es un elemento único que identifica a un valor en el diccionario, mientras que el **valor** es el item que será almacenado para la llave. Las llaves y sus respectivos valores se pueden emplear para **cualquier tipo de dato**.\n",
        "\n",
        "Los diccionarios son útiles para almacenar y acceder a los datos de manera organizada y rápida. Se trata de un tipo de conjunto de elementos en Python, pues almacenan una colección de items."
      ],
      "metadata": {
        "id": "PJ-cCKPjeWxL"
      }
    },
    {
      "cell_type": "code",
      "source": [],
      "metadata": {
        "id": "NDHhzooE8ld5"
      },
      "execution_count": null,
      "outputs": []
    },
    {
      "cell_type": "code",
      "source": [],
      "metadata": {
        "id": "AVOzqzy-8lhh"
      },
      "execution_count": null,
      "outputs": []
    },
    {
      "cell_type": "markdown",
      "source": [
        "---\n",
        "**Situación:**\n",
        "\n",
        "Vamos a crear un conjunto de datos con las informaciones de matrícula de un estudiante. Los datos son los siguientes:\n",
        "\n",
        "- matrícula: 2000168933\n",
        "- día de registro: 25\n",
        "- mes de registro: 10\n",
        "- grupo: 2E"
      ],
      "metadata": {
        "id": "_JbQ3KMKfkXU"
      }
    },
    {
      "cell_type": "code",
      "source": [],
      "metadata": {
        "id": "0lfOu_c38jED"
      },
      "execution_count": null,
      "outputs": []
    },
    {
      "cell_type": "code",
      "source": [],
      "metadata": {
        "id": "XIuqpTTy8jHV"
      },
      "execution_count": null,
      "outputs": []
    },
    {
      "cell_type": "markdown",
      "source": [
        "Es posible sustituir los valores dentro de una llave. Por ejemplo, recibimos la información de que el grupo del estudiante que registramos cambio a `'2G'` y ahora necesitamos cambiar el valor de la llave `'grupo'`."
      ],
      "metadata": {
        "id": "8ex5pt2ykDd2"
      }
    },
    {
      "cell_type": "code",
      "source": [],
      "metadata": {
        "id": "kQGlp36b8fyP"
      },
      "execution_count": null,
      "outputs": []
    },
    {
      "cell_type": "code",
      "source": [],
      "metadata": {
        "id": "DnfH_qHi8f17"
      },
      "execution_count": null,
      "outputs": []
    },
    {
      "cell_type": "markdown",
      "source": [
        "También podemos añadir otros datos al diccionario. Vamos a añadir la información sobre la modalidad de estudio, nuestro estudiante estudiará inicialemente en la modalidad EAD.\n",
        "\n",
        "Definiremos una llave llamada `'modalidad'` con el valor `'EAD'`."
      ],
      "metadata": {
        "id": "wB0qRb56mQvv"
      }
    },
    {
      "cell_type": "code",
      "source": [],
      "metadata": {
        "id": "EeLYdlIm8d8a"
      },
      "execution_count": null,
      "outputs": []
    },
    {
      "cell_type": "code",
      "source": [],
      "metadata": {
        "id": "olDIavsm8d_o"
      },
      "execution_count": null,
      "outputs": []
    },
    {
      "cell_type": "markdown",
      "source": [
        "## Profundizando en diccionarios"
      ],
      "metadata": {
        "id": "LJ3o_inroxg_"
      }
    },
    {
      "cell_type": "markdown",
      "source": [
        "#### [`pop()`](https://python-reference.readthedocs.io/en/latest/docs/dict/pop.html)\n",
        "Remueve un item de un diccionario y lo representa en la salida."
      ],
      "metadata": {
        "id": "2N3GLlkSpBiu"
      }
    },
    {
      "cell_type": "code",
      "source": [],
      "metadata": {
        "id": "ZsSCZx6G8b-T"
      },
      "execution_count": null,
      "outputs": []
    },
    {
      "cell_type": "code",
      "source": [],
      "metadata": {
        "id": "7lQ8_jpi8cBR"
      },
      "execution_count": null,
      "outputs": []
    },
    {
      "cell_type": "markdown",
      "source": [
        "#### [`items()`](https://python-reference.readthedocs.io/en/latest/docs/dict/items.html)\n",
        "Retorna una lista de pares `llave-valor` del diccionario."
      ],
      "metadata": {
        "id": "sYZGvJJYrW_y"
      }
    },
    {
      "cell_type": "code",
      "source": [],
      "metadata": {
        "id": "ncdycLV08an7"
      },
      "execution_count": null,
      "outputs": []
    },
    {
      "cell_type": "markdown",
      "source": [
        "#### [`keys()`](https://python-reference.readthedocs.io/en/latest/docs/dict/keys.html)\n",
        "Retorna una lista de las llaves del diccionario."
      ],
      "metadata": {
        "id": "Lb0utNFGrZBY"
      }
    },
    {
      "cell_type": "code",
      "source": [],
      "metadata": {
        "id": "eZo0biaM8ZVs"
      },
      "execution_count": null,
      "outputs": []
    },
    {
      "cell_type": "markdown",
      "source": [
        "#### [`values()`](https://python-reference.readthedocs.io/en/latest/docs/dict/values.html)\n",
        "Retorna una lista de los valores del diccionario."
      ],
      "metadata": {
        "id": "qKyu3bf9rbtX"
      }
    },
    {
      "cell_type": "code",
      "source": [],
      "metadata": {
        "id": "-NxRT9C18Yvo"
      },
      "execution_count": null,
      "outputs": []
    },
    {
      "cell_type": "markdown",
      "source": [
        "### Lectura de valores con el lazo `for`"
      ],
      "metadata": {
        "id": "e3XVjR8Frp75"
      }
    },
    {
      "cell_type": "code",
      "source": [],
      "metadata": {
        "id": "NYcjU-Ip8Xan"
      },
      "execution_count": null,
      "outputs": []
    },
    {
      "cell_type": "code",
      "source": [],
      "metadata": {
        "id": "aAnpP1Wv8XfJ"
      },
      "execution_count": null,
      "outputs": []
    }
  ]
}