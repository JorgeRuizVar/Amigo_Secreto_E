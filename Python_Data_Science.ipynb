{
  "nbformat": 4,
  "nbformat_minor": 0,
  "metadata": {
    "colab": {
      "provenance": [],
      "include_colab_link": true
    },
    "kernelspec": {
      "name": "python3",
      "display_name": "Python 3"
    },
    "language_info": {
      "name": "python"
    }
  },
  "cells": [
    {
      "cell_type": "markdown",
      "metadata": {
        "id": "view-in-github",
        "colab_type": "text"
      },
      "source": [
        "<a href=\"https://colab.research.google.com/github/JorgeRuizVar/Amigo_Secreto_E/blob/main/Python_Data_Science.ipynb\" target=\"_parent\"><img src=\"https://colab.research.google.com/assets/colab-badge.svg\" alt=\"Open In Colab\"/></a>"
      ]
    },
    {
      "cell_type": "markdown",
      "source": [
        "# Python para Data Science\n",
        "\n",
        "Notebook para el curso de Python para Data Science publicado en la plataforma de [Alura Latam](https://www.aluracursos.com/)"
      ],
      "metadata": {
        "id": "lQx6Mmv0OJyT"
      }
    },
    {
      "cell_type": "markdown",
      "source": [
        "# Introducción a Python\n",
        "¡Vamos a conocer Python, nuestro ambiente de estudio, y también generaremos nuestro primer código en este lenguaje!"
      ],
      "metadata": {
        "id": "7SiB6JIpYKmY"
      }
    },
    {
      "cell_type": "markdown",
      "source": [
        "## Google Colaboratory\n",
        "\n",
        "Ya aprendimos qué es [Python](https://www.python.org/) y ahora aprenderemos a usar nuestra herramienta de ejecución [Google Colaboratory](https://colab.research.google.com/) para programar en un notebook interactivo.\n",
        "\n",
        "Vamos a probar algunas funciones de este ambiente."
      ],
      "metadata": {
        "id": "Yugfb3fCOYY9"
      }
    },
    {
      "cell_type": "markdown",
      "source": [
        " **`>>> Usa esta celda para mover <<<`**"
      ],
      "metadata": {
        "id": "2iUHQsJasJAk"
      }
    },
    {
      "cell_type": "code",
      "source": [],
      "metadata": {
        "id": "o7jrX_iKhdkU"
      },
      "execution_count": null,
      "outputs": []
    },
    {
      "cell_type": "markdown",
      "source": [
        "## ¡Hola mundo!\n",
        "\n",
        "Vamos a conocer un poco más de cerca nuestro notebook. Para ello ejecutaremos nuestro primer comando en Python: [`print()`](https://docs.python.org/3/library/functions.html#print)"
      ],
      "metadata": {
        "id": "aLSFP2V7XTfe"
      }
    },
    {
      "cell_type": "code",
      "source": [
        "print (\"¡Hola Mundo!\")"
      ],
      "metadata": {
        "id": "0qZX8_ZQBYyk",
        "outputId": "466e226a-cbe3-4b16-8954-6d766f46bf3b",
        "colab": {
          "base_uri": "https://localhost:8080/"
        }
      },
      "execution_count": null,
      "outputs": [
        {
          "output_type": "stream",
          "name": "stdout",
          "text": [
            "¡Hola Mundo!\n"
          ]
        }
      ]
    },
    {
      "cell_type": "code",
      "source": [
        "15"
      ],
      "metadata": {
        "id": "GLMzF_AKBY7a",
        "outputId": "7e778515-3331-4652-cd3f-56878c0de038",
        "colab": {
          "base_uri": "https://localhost:8080/"
        }
      },
      "execution_count": null,
      "outputs": [
        {
          "output_type": "execute_result",
          "data": {
            "text/plain": [
              "15"
            ]
          },
          "metadata": {},
          "execution_count": 2
        }
      ]
    },
    {
      "cell_type": "code",
      "source": [
        "print (\"Mi Nombre es Jorge Ruíz, tengo 29 años y me encanta la Data Science\")"
      ],
      "metadata": {
        "id": "qMBVwcamQ0w_",
        "outputId": "a4babb69-6282-4ac7-ae13-c284292c8b17",
        "colab": {
          "base_uri": "https://localhost:8080/"
        }
      },
      "execution_count": null,
      "outputs": [
        {
          "output_type": "stream",
          "name": "stdout",
          "text": [
            "Mi Nombre es Jorge Ruíz, tengo 29 años y me encanta la Data Science\n"
          ]
        }
      ]
    },
    {
      "cell_type": "code",
      "source": [
        "print (\"Escuela de Datos de Alura\")\n",
        "print (\"Nombre: Jorge\")\n",
        "print (\"Apellido: Ruíz\")"
      ],
      "metadata": {
        "id": "Delt2N2PRMsv",
        "outputId": "27eac52f-6bb2-4168-b1b6-1a7f5c27cad2",
        "colab": {
          "base_uri": "https://localhost:8080/"
        }
      },
      "execution_count": null,
      "outputs": [
        {
          "output_type": "stream",
          "name": "stdout",
          "text": [
            "Escuela de Datos de Alura\n",
            "Nombre: Jorge\n",
            "Apellido: Ruíz\n"
          ]
        }
      ]
    },
    {
      "cell_type": "code",
      "source": [
        "print (\"J\")\n",
        "print (\"O\")\n",
        "print (\"R\")\n",
        "print (\"G\")\n",
        "print (\"E\")"
      ],
      "metadata": {
        "id": "vCGgHTeJRbuX",
        "outputId": "61b8780b-3dc7-4815-debe-3e95c60361c4",
        "colab": {
          "base_uri": "https://localhost:8080/"
        }
      },
      "execution_count": null,
      "outputs": [
        {
          "output_type": "stream",
          "name": "stdout",
          "text": [
            "J\n",
            "O\n",
            "R\n",
            "G\n",
            "E\n"
          ]
        }
      ]
    },
    {
      "cell_type": "code",
      "source": [
        "print (22, \"de Septiembre de\", 1995)"
      ],
      "metadata": {
        "id": "pFBhef8vRpGu",
        "outputId": "74376e97-6622-4339-ebf1-b57d0287a070",
        "colab": {
          "base_uri": "https://localhost:8080/"
        }
      },
      "execution_count": null,
      "outputs": [
        {
          "output_type": "stream",
          "name": "stdout",
          "text": [
            "22 de Septiembre de 1995\n"
          ]
        }
      ]
    },
    {
      "cell_type": "code",
      "source": [
        "print (\"Año actual:\", 2025008)"
      ],
      "metadata": {
        "id": "z2Mbkz3PRz1e",
        "outputId": "94198d80-09f6-460f-ddc0-0fc454100258",
        "colab": {
          "base_uri": "https://localhost:8080/"
        }
      },
      "execution_count": null,
      "outputs": [
        {
          "output_type": "stream",
          "name": "stdout",
          "text": [
            "Año actual: 2025008\n"
          ]
        }
      ]
    },
    {
      "cell_type": "markdown",
      "source": [
        "# Manipulando los datos\n",
        "\n",
        "Vamos a aprender sobre las variables en Python, cómo declararlas y utilizarlas además de conocer otros comandos de este lenguaje. :D"
      ],
      "metadata": {
        "id": "iP8uWQmFYFRs"
      }
    },
    {
      "cell_type": "markdown",
      "source": [
        "## Variables\n",
        "\n",
        "En Data Science trabajamos con varios tipos de datos e informaciones, entonces es esencial saber cómo trabajar con las variables."
      ],
      "metadata": {
        "id": "sLNVmnTbag1Z"
      }
    },
    {
      "cell_type": "markdown",
      "source": [
        "Las variables en Python se crean cuando atribuimos un valor a ella.\n",
        "\n",
        "Para esto, colocamos el nombre de la variable, el signo de igual (`=`) y el valor que queremos atribuirle."
      ],
      "metadata": {
        "id": "lsCY0wahAbf6"
      }
    },
    {
      "cell_type": "code",
      "source": [
        "5"
      ],
      "metadata": {
        "id": "vsHh5buZADND",
        "outputId": "0fb6e59a-0703-4a80-84ac-1dc15443b34d",
        "colab": {
          "base_uri": "https://localhost:8080/"
        }
      },
      "execution_count": null,
      "outputs": [
        {
          "output_type": "execute_result",
          "data": {
            "text/plain": [
              "5"
            ]
          },
          "metadata": {},
          "execution_count": 8
        }
      ]
    },
    {
      "cell_type": "code",
      "source": [
        "id (5)"
      ],
      "metadata": {
        "id": "sivPtqSjADQV",
        "outputId": "e52c41f7-740e-49c5-99ac-8a1de4839771",
        "colab": {
          "base_uri": "https://localhost:8080/"
        }
      },
      "execution_count": null,
      "outputs": [
        {
          "output_type": "execute_result",
          "data": {
            "text/plain": [
              "10750984"
            ]
          },
          "metadata": {},
          "execution_count": 9
        }
      ]
    },
    {
      "cell_type": "code",
      "source": [
        "edad = 5"
      ],
      "metadata": {
        "id": "JC8jO47wADlm"
      },
      "execution_count": null,
      "outputs": []
    },
    {
      "cell_type": "code",
      "source": [
        "print (id(edad))\n",
        "print (id(5))"
      ],
      "metadata": {
        "id": "YD5VKwdFTJKn",
        "outputId": "7b6f29c4-b255-4d8e-9760-eaf5f5c8d6bd",
        "colab": {
          "base_uri": "https://localhost:8080/"
        }
      },
      "execution_count": null,
      "outputs": [
        {
          "output_type": "stream",
          "name": "stdout",
          "text": [
            "10750984\n",
            "10750984\n"
          ]
        }
      ]
    },
    {
      "cell_type": "code",
      "source": [
        "numerocinco= 5"
      ],
      "metadata": {
        "id": "O-XzxCTNTJcO"
      },
      "execution_count": null,
      "outputs": []
    },
    {
      "cell_type": "code",
      "source": [
        "id(numerocinco)"
      ],
      "metadata": {
        "id": "z20RLDVjTJm-",
        "outputId": "5912067d-ed07-435a-a656-7b753ffbe3e7",
        "colab": {
          "base_uri": "https://localhost:8080/"
        }
      },
      "execution_count": null,
      "outputs": [
        {
          "output_type": "execute_result",
          "data": {
            "text/plain": [
              "10750984"
            ]
          },
          "metadata": {},
          "execution_count": 14
        }
      ]
    },
    {
      "cell_type": "code",
      "source": [
        "nombre = \"Jorge\""
      ],
      "metadata": {
        "id": "P_hHfZ_0Tei_"
      },
      "execution_count": null,
      "outputs": []
    },
    {
      "cell_type": "code",
      "source": [
        "id (\"Jorge\")"
      ],
      "metadata": {
        "id": "xYkxz1jDTifO",
        "outputId": "78f314b8-4922-48fd-9fd0-b7321febd8a0",
        "colab": {
          "base_uri": "https://localhost:8080/"
        }
      },
      "execution_count": null,
      "outputs": [
        {
          "output_type": "execute_result",
          "data": {
            "text/plain": [
              "136873428528176"
            ]
          },
          "metadata": {},
          "execution_count": 17
        }
      ]
    },
    {
      "cell_type": "code",
      "source": [
        "id (nombre)"
      ],
      "metadata": {
        "id": "xavIE3O2Tq7e",
        "outputId": "c36de4fc-84ff-4bfb-d908-dcfc90596167",
        "colab": {
          "base_uri": "https://localhost:8080/"
        }
      },
      "execution_count": null,
      "outputs": [
        {
          "output_type": "execute_result",
          "data": {
            "text/plain": [
              "136873428528176"
            ]
          },
          "metadata": {},
          "execution_count": 18
        }
      ]
    },
    {
      "cell_type": "markdown",
      "source": [
        "Existen algunos tipos de nomes que **no** podemos definir para las variables:\n",
        "\n",
        "- **Nombres que comiencen con números**\n",
        "  - Ejemplos: `10_notas`, `2_nombre_casa`, etc.\n",
        "- **Palabras separadas por espacio**\n",
        "  - Ejemplos: `Nombre escuela`, `notas estudiantes`, etc.\n",
        "- **Nombres de funciones de Python**\n",
        "  - Ejemplos: `print`, `type`, etc."
      ],
      "metadata": {
        "id": "om2N0jHKAzwL"
      }
    },
    {
      "cell_type": "markdown",
      "source": [
        "> Las letras mayúsculas y minúsculas generarán diferentes variables. La variable `edad` es diferente de `Edad` que a su vez es diferente de `EDAD`:\n",
        "``` Python\n",
        "edad = 1\n",
        "Edad = 2\n",
        "EDAD = 3\n",
        "_edad = 4\n",
        "_edad_ = 5\n",
        "print(edad, Edad, EDAD, _edad, _edad_)\n",
        "1 2 3 4 5\n",
        "```"
      ],
      "metadata": {
        "id": "A19vY2GVMujB"
      }
    },
    {
      "cell_type": "markdown",
      "source": [
        "## Tipos de variables\n",
        "\n",
        "Cada variable contiene una clase específica con respecto al tipo de objeto al cual esta hace referencia. Estas clases serán diferentes de acuerdo con el tipo de dato que le sea atribuido a una variable.\n",
        "\n",
        "Para conocer la clase de cada elemento usamos la función [`type()`](https://docs.python.org/3/library/functions.html#type)"
      ],
      "metadata": {
        "id": "UqhzuBhBHsps"
      }
    },
    {
      "cell_type": "code",
      "source": [
        "edad = 5"
      ],
      "metadata": {
        "id": "J5a9t73A_-PX"
      },
      "execution_count": null,
      "outputs": []
    },
    {
      "cell_type": "code",
      "source": [
        "type (edad)"
      ],
      "metadata": {
        "id": "rqmO1ew-_-So",
        "outputId": "79e9d860-5fa9-491f-fa39-e2f1def747bf",
        "colab": {
          "base_uri": "https://localhost:8080/"
        }
      },
      "execution_count": null,
      "outputs": [
        {
          "output_type": "execute_result",
          "data": {
            "text/plain": [
              "int"
            ]
          },
          "metadata": {},
          "execution_count": 20
        }
      ]
    },
    {
      "cell_type": "code",
      "source": [
        "promedio = 9.5\n",
        "type (promedio)"
      ],
      "metadata": {
        "id": "xkrPMkeY_-cP",
        "outputId": "09a3eb5d-4f63-489c-d0a8-2e18bf0c4b61",
        "colab": {
          "base_uri": "https://localhost:8080/"
        }
      },
      "execution_count": null,
      "outputs": [
        {
          "output_type": "execute_result",
          "data": {
            "text/plain": [
              "float"
            ]
          },
          "metadata": {},
          "execution_count": 21
        }
      ]
    },
    {
      "cell_type": "code",
      "source": [
        "nombre = (\"Jorge\")\n",
        "type (nombre)"
      ],
      "metadata": {
        "id": "MZSnc1bFXS0P",
        "outputId": "7d5f8c93-2747-4bd0-e31c-f1cd0b4a9cf0",
        "colab": {
          "base_uri": "https://localhost:8080/"
        }
      },
      "execution_count": null,
      "outputs": [
        {
          "output_type": "execute_result",
          "data": {
            "text/plain": [
              "str"
            ]
          },
          "metadata": {},
          "execution_count": 23
        }
      ]
    },
    {
      "cell_type": "code",
      "source": [
        "v = True\n",
        "type (v)"
      ],
      "metadata": {
        "id": "CpzMuBFsXacf",
        "outputId": "375c6ab2-721c-4692-bbb4-b34274a8a666",
        "colab": {
          "base_uri": "https://localhost:8080/"
        }
      },
      "execution_count": null,
      "outputs": [
        {
          "output_type": "execute_result",
          "data": {
            "text/plain": [
              "bool"
            ]
          },
          "metadata": {},
          "execution_count": 26
        }
      ]
    },
    {
      "cell_type": "markdown",
      "source": [
        "En un conjunto de datos escolares podemos tener varios tipos de informaciones. Supongamos que tenemos acceso a la ficha de datos del alumno *Penélope Camacho*, cómo transformamos este nombre en variables de Python?\n",
        "\n",
        "#### Ficha:\n",
        "\n",
        "- Nombre: Penélope Camacho\n",
        "- Edad: 11 años\n",
        "- Promedio del semestre: 9,75\n",
        "- Situación de aprobación: Verdadera (aprobado)"
      ],
      "metadata": {
        "id": "O-FxDumfWu0C"
      }
    },
    {
      "cell_type": "code",
      "source": [
        "nombre_estudiante = \"Penélope Camacho\"\n",
        "edad_estudiante = 11\n",
        "promedio_estudiante = 9.75\n",
        "aprobado = True\n",
        "\n",
        "print (nombre_estudiante, edad_estudiante, promedio_estudiante, aprobado)\n",
        "print (type(nombre_estudiante), type(edad_estudiante), type(promedio_estudiante), type(aprobado))"
      ],
      "metadata": {
        "id": "FabQ7jQf_8Xt",
        "outputId": "6314db3c-ae2b-410a-dfbb-87400267319f",
        "colab": {
          "base_uri": "https://localhost:8080/"
        }
      },
      "execution_count": null,
      "outputs": [
        {
          "output_type": "stream",
          "name": "stdout",
          "text": [
            "Penélope Camacho 11 9.75 True\n",
            "<class 'str'> <class 'int'> <class 'float'> <class 'bool'>\n"
          ]
        }
      ]
    },
    {
      "cell_type": "markdown",
      "source": [
        "## Variables numéricas\n",
        "\n",
        "Entre los tipos de datos numéricos vamos a enfocarnos en los tipos `entero` y `float`."
      ],
      "metadata": {
        "id": "KFq_8Sxf-OG0"
      }
    },
    {
      "cell_type": "markdown",
      "source": [
        "Tenemos una tabla de información sobre los diversos cargos, cantidad de personas empleadas y el salario correspondiente:\n",
        "\n",
        "|Cargo | Cantidad | Salario|\n",
        "|---|---|---|\n",
        "|Vigilante | 5 | 300 |\n",
        "|Docente | 16| 500|\n",
        "|Coordinador| 2 |600|\n",
        "\n",
        "Necesitamos trabajar con estos datos para obtener:\n",
        "\n",
        "- La cantidad total de empleados;\n",
        "- La diferencia entre el salario más bajo y más alto; y\n",
        "- El promedio ponderado de los salarios de los empleados de la escuela."
      ],
      "metadata": {
        "id": "8_HYUbkVYdQY"
      }
    },
    {
      "cell_type": "code",
      "source": [
        "c_vigilante = 5\n",
        "s_vigilante = 300\n",
        "\n",
        "c_docente = 16\n",
        "s_docente = 500\n",
        "\n",
        "c_coordinador = 2\n",
        "s_coordinador = 600\n",
        "\n",
        "total_empleados = c_vigilante + c_docente + c_coordinador\n",
        "total_empleados"
      ],
      "metadata": {
        "id": "F_X-wxdm_5Ys",
        "outputId": "b6a0e8df-b7fe-489e-9c96-5bcd2dbc465b",
        "colab": {
          "base_uri": "https://localhost:8080/"
        }
      },
      "execution_count": null,
      "outputs": [
        {
          "output_type": "execute_result",
          "data": {
            "text/plain": [
              "23"
            ]
          },
          "metadata": {},
          "execution_count": 5
        }
      ]
    },
    {
      "cell_type": "code",
      "source": [
        "diferencia_salario = s_coordinador - s_vigilante\n",
        "diferencia_salario"
      ],
      "metadata": {
        "id": "gKmBbhII_5b9",
        "outputId": "a58fcb17-31da-4372-bf7e-ba435de32988",
        "colab": {
          "base_uri": "https://localhost:8080/"
        }
      },
      "execution_count": null,
      "outputs": [
        {
          "output_type": "execute_result",
          "data": {
            "text/plain": [
              "300"
            ]
          },
          "metadata": {},
          "execution_count": 7
        }
      ]
    },
    {
      "cell_type": "code",
      "source": [
        "promedio_salarios = (c_vigilante * s_vigilante + c_docente * s_docente +\n",
        "                   c_coordinador * s_coordinador) / total_empleados\n",
        "promedio_salarios"
      ],
      "metadata": {
        "id": "fIugsxNy_53j",
        "outputId": "b8cd9333-a987-49c9-aed8-6f22044a9afd",
        "colab": {
          "base_uri": "https://localhost:8080/"
        }
      },
      "execution_count": null,
      "outputs": [
        {
          "output_type": "execute_result",
          "data": {
            "text/plain": [
              "465.2173913043478"
            ]
          },
          "metadata": {},
          "execution_count": 10
        }
      ]
    },
    {
      "cell_type": "markdown",
      "source": [
        "## Strings"
      ],
      "metadata": {
        "id": "yQy7b0ZWoD-P"
      }
    },
    {
      "cell_type": "markdown",
      "source": [
        "Strings hace referencia a un conjunto de caracteres formando un texto.\n",
        "\n",
        "Podemos crear Strings cuando atribuimos un dato a una variable entre comillas sencillas (`'`) o comillas dobles (`\"`)."
      ],
      "metadata": {
        "id": "vlo2-DXusv3s"
      }
    },
    {
      "cell_type": "code",
      "source": [
        "curso = \"Alura\"\n",
        "type (curso)"
      ],
      "metadata": {
        "id": "ityEWqvh_2wK",
        "outputId": "00927bcf-baa3-498b-a672-19d67d3bbdf8",
        "colab": {
          "base_uri": "https://localhost:8080/"
        }
      },
      "execution_count": null,
      "outputs": [
        {
          "output_type": "execute_result",
          "data": {
            "text/plain": [
              "str"
            ]
          },
          "metadata": {},
          "execution_count": 14
        }
      ]
    },
    {
      "cell_type": "markdown",
      "source": [
        "Las variables textuales son objetos que poseen métodos que nos ayudan a formatear strings. Los métodos los podemos ejecutar al definir un objeto de acuerdo con la siguiente estructura:\n",
        "\n",
        "```\n",
        "objeto.metodo()\n",
        "```\n",
        "\n",
        "Existen métodos que no necesitan los `()`, siempre es una buena práctica verificar la documentación para cada caso."
      ],
      "metadata": {
        "id": "2e9UD_CCxqz_"
      }
    },
    {
      "cell_type": "markdown",
      "source": [
        "---\n",
        "**Situación:**\n",
        "\n",
        "Recibimos una variable con el nombre de una profesora de la escuela para añadirla a los registros. Sin embargo, necesitamos darle un tratamiento a este texto antes de insertarlo al sistema."
      ],
      "metadata": {
        "id": "p6aPmMGP4tf9"
      }
    },
    {
      "cell_type": "code",
      "source": [
        "texto = '  Micaela de los Sanyos '\n",
        "id (texto)"
      ],
      "metadata": {
        "id": "icDWtYTjBO0n",
        "outputId": "1b242fbe-b68e-473f-8474-28664ae789d8",
        "colab": {
          "base_uri": "https://localhost:8080/"
        }
      },
      "execution_count": null,
      "outputs": [
        {
          "output_type": "execute_result",
          "data": {
            "text/plain": [
              "135299213212480"
            ]
          },
          "metadata": {},
          "execution_count": 17
        }
      ]
    },
    {
      "cell_type": "markdown",
      "source": [
        "El objetivo final es que el nombre aparezca de la siguiente forma:\n",
        "\n",
        "```\n",
        "'MICAELA DE LOS SANTOS'\n",
        "```"
      ],
      "metadata": {
        "id": "Dg2ZXSZOGzjC"
      }
    },
    {
      "cell_type": "markdown",
      "source": [
        "### [`str.upper()` ](https://docs.python.org/3/library/stdtypes.html#str.upper)\n",
        "Convierte una string a mayúsculas."
      ],
      "metadata": {
        "id": "iVTAD8q702eN"
      }
    },
    {
      "cell_type": "code",
      "source": [
        "texto.upper()"
      ],
      "metadata": {
        "id": "wMVshJrY_ZXh",
        "outputId": "20979a34-4eb4-4549-df1a-d3b4e1de30a2",
        "colab": {
          "base_uri": "https://localhost:8080/",
          "height": 35
        }
      },
      "execution_count": null,
      "outputs": [
        {
          "output_type": "execute_result",
          "data": {
            "text/plain": [
              "'  MICAELA DE LOS SANYOS '"
            ],
            "application/vnd.google.colaboratory.intrinsic+json": {
              "type": "string"
            }
          },
          "metadata": {},
          "execution_count": 19
        }
      ]
    },
    {
      "cell_type": "markdown",
      "source": [
        "### [`str.lower()`](https://docs.python.org/3/library/stdtypes.html#str.lower)\n",
        "Convierte una string a minúsculas."
      ],
      "metadata": {
        "id": "hbDSBtMV1TpG"
      }
    },
    {
      "cell_type": "code",
      "source": [
        "texto.lower()"
      ],
      "metadata": {
        "id": "px3yEeNH_YK4",
        "outputId": "cc553c1a-5a59-42d9-e684-12af9de08a5b",
        "colab": {
          "base_uri": "https://localhost:8080/",
          "height": 35
        }
      },
      "execution_count": null,
      "outputs": [
        {
          "output_type": "execute_result",
          "data": {
            "text/plain": [
              "'  micaela de los sanyos '"
            ],
            "application/vnd.google.colaboratory.intrinsic+json": {
              "type": "string"
            }
          },
          "metadata": {},
          "execution_count": 21
        }
      ]
    },
    {
      "cell_type": "markdown",
      "source": [
        "### [`str.strip()`](https://docs.python.org/3/library/stdtypes.html#str.strip)\n",
        "Elimina los espacios en blanco al inicio y al final de una string."
      ],
      "metadata": {
        "id": "kz47eWM11gii"
      }
    },
    {
      "cell_type": "code",
      "source": [
        "texto.strip()"
      ],
      "metadata": {
        "id": "76dLgNa4_XAe",
        "outputId": "4fd8e014-937a-4650-da38-f783f81ac6ed",
        "colab": {
          "base_uri": "https://localhost:8080/",
          "height": 35
        }
      },
      "execution_count": null,
      "outputs": [
        {
          "output_type": "execute_result",
          "data": {
            "text/plain": [
              "'Micaela de los Sanyos'"
            ],
            "application/vnd.google.colaboratory.intrinsic+json": {
              "type": "string"
            }
          },
          "metadata": {},
          "execution_count": 22
        }
      ]
    },
    {
      "cell_type": "markdown",
      "source": [
        "### [`str.replace(antiguo, nuevo)`](https://docs.python.org/3/library/stdtypes.html#str.replace)\n",
        "\n",
        "Sustituye todas las ocurrencias del texto \"antiguo\" en la string por el  \"nuevo\"."
      ],
      "metadata": {
        "id": "m6notiyS1SCV"
      }
    },
    {
      "cell_type": "code",
      "source": [
        "texto.replace('y', 't')"
      ],
      "metadata": {
        "id": "PNXAixtE_V6R",
        "outputId": "7625057a-7d66-4d3b-fd42-ab3388a669d8",
        "colab": {
          "base_uri": "https://localhost:8080/",
          "height": 35
        }
      },
      "execution_count": null,
      "outputs": [
        {
          "output_type": "execute_result",
          "data": {
            "text/plain": [
              "'  Micaela de los Santos '"
            ],
            "application/vnd.google.colaboratory.intrinsic+json": {
              "type": "string"
            }
          },
          "metadata": {},
          "execution_count": 23
        }
      ]
    },
    {
      "cell_type": "markdown",
      "source": [
        "### Observaciones\n",
        "\n",
        "1. Los métodos devuelven una **tranformación**, no son ejecutados directamente sobre la variable donde está almacenado el texto.\n",
        "\n",
        "2. Adicionalmente, podemos acumular la ejecución de los métodos."
      ],
      "metadata": {
        "id": "zukvEjhG2Rcn"
      }
    },
    {
      "cell_type": "code",
      "source": [
        "texto"
      ],
      "metadata": {
        "id": "JjkBRklr_T5n",
        "outputId": "f283ffc7-8a46-4298-9d1c-899a7f108584",
        "colab": {
          "base_uri": "https://localhost:8080/",
          "height": 35
        }
      },
      "execution_count": null,
      "outputs": [
        {
          "output_type": "execute_result",
          "data": {
            "text/plain": [
              "'  Micaela de los Sanyos '"
            ],
            "application/vnd.google.colaboratory.intrinsic+json": {
              "type": "string"
            }
          },
          "metadata": {},
          "execution_count": 24
        }
      ]
    },
    {
      "cell_type": "markdown",
      "source": [
        "Para que la transformación se pueda ejecutar debemos atribuir la salida de las transformaciones a las variables"
      ],
      "metadata": {
        "id": "1KbwfVut2h6I"
      }
    },
    {
      "cell_type": "code",
      "source": [
        "nuevo_texto = texto.strip().replace('y', 't').upper()\n",
        "print (nuevo_texto)\n",
        "print (id(nuevo_texto), id(texto))"
      ],
      "metadata": {
        "id": "ocPP-Jaj_SJI",
        "outputId": "e17d965a-b1f9-4f2b-b8c0-d92d8f9fe54b",
        "colab": {
          "base_uri": "https://localhost:8080/"
        }
      },
      "execution_count": null,
      "outputs": [
        {
          "output_type": "stream",
          "name": "stdout",
          "text": [
            "MICAELA DE LOS SANTOS\n",
            "135299221567040 135299213212480\n"
          ]
        }
      ]
    },
    {
      "cell_type": "code",
      "source": [
        "texto.strip().replace('y', 't').upper()\n",
        "print (texto)\n",
        "print (id(nuevo_texto), id(texto))"
      ],
      "metadata": {
        "id": "m1RvLGZZ_SP3",
        "outputId": "b506ac37-d6e7-4c86-89eb-5299c0056a9f",
        "colab": {
          "base_uri": "https://localhost:8080/"
        }
      },
      "execution_count": null,
      "outputs": [
        {
          "output_type": "stream",
          "name": "stdout",
          "text": [
            "  Micaela de los Sanyos \n",
            "135299221567040 135299213212480\n"
          ]
        }
      ]
    },
    {
      "cell_type": "markdown",
      "source": [
        "## Capturando datos\n",
        "\n",
        "En algunas aplicaciones necesitamos capturar los valores del usuario de nuestro proyecto. En python, logramos capturar los datos del usuario a través del comando [`input()`](https://docs.python.org/3/library/functions.html#input).\n",
        "\n",
        "Para ejecutar la captura debemos atribuir el resultado de esta función a una variable."
      ],
      "metadata": {
        "id": "0h9Fh5G9kHCa"
      }
    },
    {
      "cell_type": "code",
      "source": [
        "nombre = input(\"Escribe tu nombre: \")"
      ],
      "metadata": {
        "id": "zbH_9i3q_PdY",
        "outputId": "d7ee7fab-04eb-46ad-da42-49c4545ca828",
        "colab": {
          "base_uri": "https://localhost:8080/"
        }
      },
      "execution_count": null,
      "outputs": [
        {
          "name": "stdout",
          "output_type": "stream",
          "text": [
            "Escribe tu nombre: Jorge\n"
          ]
        }
      ]
    },
    {
      "cell_type": "code",
      "source": [
        "type(nombre)"
      ],
      "metadata": {
        "id": "JZy1Q9Tl_PgL",
        "outputId": "5c42aa66-72ea-4b7f-f70b-d63f927dba30",
        "colab": {
          "base_uri": "https://localhost:8080/"
        }
      },
      "execution_count": null,
      "outputs": [
        {
          "output_type": "execute_result",
          "data": {
            "text/plain": [
              "str"
            ]
          },
          "metadata": {},
          "execution_count": 29
        }
      ]
    },
    {
      "cell_type": "markdown",
      "source": [
        "La salida de este comando siempre será una *string*. Esto quiere decir que aunque capturemos un valor de variable numérica, este será de tipo string.\n",
        "\n",
        "Entonces, será necesario **convertir el resultado cuando no se desea utilizar el valor como tipo string**."
      ],
      "metadata": {
        "id": "7z7hcLCk_aCY"
      }
    },
    {
      "cell_type": "markdown",
      "source": [
        "Existen funciones para la conversión de valores:\n",
        "\n",
        "- Enteros: [`int(dato_para_conversion)`](https://docs.python.org/3/library/functions.html#int)\n",
        "- Coma flotante: [`float(dato_para_conversion)`](https://docs.python.org/3/library/functions.html#float)\n",
        "- String: [`str(dato_para_conversion)`](https://docs.python.org/3/library/functions.html#func-str)\n",
        "- Booleano: [`bool(dato_para_conversion)`](https://docs.python.org/3/library/functions.html#bool)"
      ],
      "metadata": {
        "id": "TOlegATj1Jfp"
      }
    },
    {
      "cell_type": "code",
      "source": [
        "ano_admision = int(input (\"Digita el año de admisión: \"))"
      ],
      "metadata": {
        "id": "M2ueeH6l_NMe",
        "outputId": "cb3705b6-807b-421f-f593-98d9ea0030f5",
        "colab": {
          "base_uri": "https://localhost:8080/"
        }
      },
      "execution_count": null,
      "outputs": [
        {
          "name": "stdout",
          "output_type": "stream",
          "text": [
            "Digita el año de admisión: 2022\n"
          ]
        }
      ]
    },
    {
      "cell_type": "code",
      "source": [
        "type (ano_admision)"
      ],
      "metadata": {
        "id": "xfWwuViK_NUn",
        "outputId": "e2bfe178-2467-4bc0-d22a-ee205c2c75bb",
        "colab": {
          "base_uri": "https://localhost:8080/"
        }
      },
      "execution_count": null,
      "outputs": [
        {
          "output_type": "execute_result",
          "data": {
            "text/plain": [
              "int"
            ]
          },
          "metadata": {},
          "execution_count": 38
        }
      ]
    },
    {
      "cell_type": "code",
      "source": [
        "ano_salida = int(input(\"Digita el año de salida: \"))"
      ],
      "metadata": {
        "id": "uFCHDyew_NZm",
        "outputId": "d509997e-2d20-47ea-fe09-309c9183b08d",
        "colab": {
          "base_uri": "https://localhost:8080/"
        }
      },
      "execution_count": null,
      "outputs": [
        {
          "name": "stdout",
          "output_type": "stream",
          "text": [
            "Digita el año de salida: 2026\n"
          ]
        }
      ]
    },
    {
      "cell_type": "code",
      "source": [
        "type (ano_salida)"
      ],
      "metadata": {
        "id": "fXppDZIW8L_D",
        "outputId": "7e2242a9-1f47-41c1-8d08-8737ef915fcb",
        "colab": {
          "base_uri": "https://localhost:8080/"
        }
      },
      "execution_count": null,
      "outputs": [
        {
          "output_type": "execute_result",
          "data": {
            "text/plain": [
              "int"
            ]
          },
          "metadata": {},
          "execution_count": 40
        }
      ]
    },
    {
      "cell_type": "code",
      "source": [
        "nota_admision = float(input(\"Digita la nota de admisión: \"))"
      ],
      "metadata": {
        "id": "hF_f3Fyw-BgJ",
        "outputId": "cfb28c2a-51c1-484c-c3be-c2ae87d40176",
        "colab": {
          "base_uri": "https://localhost:8080/"
        }
      },
      "execution_count": null,
      "outputs": [
        {
          "name": "stdout",
          "output_type": "stream",
          "text": [
            "Digita la nota de admisión: 9.5\n"
          ]
        }
      ]
    },
    {
      "cell_type": "code",
      "source": [
        "type (nota_admision)"
      ],
      "metadata": {
        "id": "HUj6QQgg-L4R",
        "outputId": "dabecda8-d7d2-4918-b601-c74d810e6628",
        "colab": {
          "base_uri": "https://localhost:8080/"
        }
      },
      "execution_count": null,
      "outputs": [
        {
          "output_type": "execute_result",
          "data": {
            "text/plain": [
              "float"
            ]
          },
          "metadata": {},
          "execution_count": 42
        }
      ]
    },
    {
      "cell_type": "code",
      "source": [
        "ano_admision + ano_salida"
      ],
      "metadata": {
        "id": "MPkH2XSi8Ti0",
        "outputId": "c920dbf2-a4a9-4f7e-a072-c1b0cdf1ae58",
        "colab": {
          "base_uri": "https://localhost:8080/"
        }
      },
      "execution_count": null,
      "outputs": [
        {
          "output_type": "execute_result",
          "data": {
            "text/plain": [
              "4048"
            ]
          },
          "metadata": {},
          "execution_count": 43
        }
      ]
    },
    {
      "cell_type": "markdown",
      "source": [
        "Trataremos de representar mejor ahora el resultado de la transformación que obtuvimos. Nosotros podemos formatear y presentar nuestro resultado mezclando strings con valores no textuales.\n",
        "\n",
        "Para ello utilizamos la estructura de formatación `f` con strings."
      ],
      "metadata": {
        "id": "yNI2-XTbB3aS"
      }
    },
    {
      "cell_type": "code",
      "source": [
        "print (f'\\tEl año de admisión fue: {ano_admision} \\n\\tLa nota de admisión fue: {nota_admision} ')"
      ],
      "metadata": {
        "id": "keJjA5N9_K5i",
        "outputId": "8d789650-8a9c-4128-9ee4-b817f79afc47",
        "colab": {
          "base_uri": "https://localhost:8080/"
        }
      },
      "execution_count": null,
      "outputs": [
        {
          "output_type": "stream",
          "name": "stdout",
          "text": [
            "\tEl año de admisión fue: 2022 \n",
            "\tLa nota de admisión fue: 9.5 \n"
          ]
        }
      ]
    },
    {
      "cell_type": "code",
      "source": [
        "nombre = \"Juan\"\n",
        "edad = 25\n",
        "mensaje = f\"Hola, mi nombre es {nombre} y tengo {edad} años.\"\n",
        "print(mensaje)"
      ],
      "metadata": {
        "id": "TXLaKbj-BRzL",
        "outputId": "fe985fa3-ffec-4d4a-8f89-02417d648d33",
        "colab": {
          "base_uri": "https://localhost:8080/"
        }
      },
      "execution_count": null,
      "outputs": [
        {
          "output_type": "stream",
          "name": "stdout",
          "text": [
            "Hola, mi nombre es Juan y tengo 25 años.\n"
          ]
        }
      ]
    },
    {
      "cell_type": "code",
      "source": [
        "precio = 19.99\n",
        "mensaje = f\"El precio es {precio:.2f} dólares.\"\n",
        "print(mensaje)"
      ],
      "metadata": {
        "id": "NTRN_CbhB0SK",
        "outputId": "33c586b5-895b-4243-de36-743878c9cf3e",
        "colab": {
          "base_uri": "https://localhost:8080/"
        }
      },
      "execution_count": null,
      "outputs": [
        {
          "output_type": "stream",
          "name": "stdout",
          "text": [
            "El precio es 19.99 dólares.\n"
          ]
        }
      ]
    },
    {
      "cell_type": "code",
      "source": [
        "type(precio)"
      ],
      "metadata": {
        "id": "VLKpM4M-CFQo",
        "outputId": "f910a02e-0b88-4528-8e6e-44154e79435b",
        "colab": {
          "base_uri": "https://localhost:8080/"
        }
      },
      "execution_count": null,
      "outputs": [
        {
          "output_type": "execute_result",
          "data": {
            "text/plain": [
              "float"
            ]
          },
          "metadata": {},
          "execution_count": 51
        }
      ]
    },
    {
      "cell_type": "code",
      "source": [
        "precio = 19.99\n",
        "mensaje = f\"El precio es {precio} dólares.\"\n",
        "print(mensaje)"
      ],
      "metadata": {
        "id": "ZjI94YYpCOwJ",
        "outputId": "62173fc4-90ad-4850-b4a2-db26cbe060e4",
        "colab": {
          "base_uri": "https://localhost:8080/"
        }
      },
      "execution_count": null,
      "outputs": [
        {
          "output_type": "stream",
          "name": "stdout",
          "text": [
            "El precio es 19.99 dólares.\n"
          ]
        }
      ]
    },
    {
      "cell_type": "code",
      "source": [
        "nombre = \"Juan\"\n",
        "edad = 25\n",
        "mensaje = f\"Nombre: {nombre}\\nEdad: {edad}\\n\"\n",
        "print(mensaje)"
      ],
      "metadata": {
        "id": "zz6AgXxACjiJ",
        "outputId": "cbf0902d-c7dd-47fb-8fbe-511b4c3df98e",
        "colab": {
          "base_uri": "https://localhost:8080/"
        }
      },
      "execution_count": null,
      "outputs": [
        {
          "output_type": "stream",
          "name": "stdout",
          "text": [
            "Nombre: Juan\n",
            "Edad: 25\n",
            "\n"
          ]
        }
      ]
    },
    {
      "cell_type": "code",
      "source": [
        "chr(64)"
      ],
      "metadata": {
        "id": "xs3HOHY9EF2u",
        "outputId": "4c595ad6-6abc-4107-95ae-bcf93b572366",
        "colab": {
          "base_uri": "https://localhost:8080/",
          "height": 35
        }
      },
      "execution_count": null,
      "outputs": [
        {
          "output_type": "execute_result",
          "data": {
            "text/plain": [
              "'@'"
            ],
            "application/vnd.google.colaboratory.intrinsic+json": {
              "type": "string"
            }
          },
          "metadata": {},
          "execution_count": 57
        }
      ]
    },
    {
      "cell_type": "code",
      "source": [
        "chr(72) + chr(111) +  chr(108) + chr(97)"
      ],
      "metadata": {
        "id": "8UncEkO_EPUl",
        "outputId": "3b9b499d-8024-44d1-8735-e79583bf74b1",
        "colab": {
          "base_uri": "https://localhost:8080/",
          "height": 35
        }
      },
      "execution_count": null,
      "outputs": [
        {
          "output_type": "execute_result",
          "data": {
            "text/plain": [
              "'Hola'"
            ],
            "application/vnd.google.colaboratory.intrinsic+json": {
              "type": "string"
            }
          },
          "metadata": {},
          "execution_count": 58
        }
      ]
    },
    {
      "cell_type": "code",
      "source": [
        "nombre = \"Jorge Doussett\"\n",
        "edad = 29\n",
        "mensaje = f\"El nombre del alumno es {nombre} y, su edad es {edad}\"\n",
        "print (mensaje)"
      ],
      "metadata": {
        "id": "cBA7twtv97vu",
        "outputId": "83b18c67-9752-4a2d-f74d-38b6b5d5e7cb",
        "colab": {
          "base_uri": "https://localhost:8080/"
        }
      },
      "execution_count": null,
      "outputs": [
        {
          "output_type": "stream",
          "name": "stdout",
          "text": [
            "El nombre del alumno es Jorge Doussett y, su edad es 29\n"
          ]
        }
      ]
    },
    {
      "cell_type": "code",
      "source": [
        "nombre_alumno = 'Penélope Camacho'\n",
        "print('Nombre del alumno: %s' %(nombre_alumno))"
      ],
      "metadata": {
        "id": "rsMHoz4K_YdO",
        "outputId": "e275bfce-5d06-4211-8d67-47ba2c3507ff",
        "colab": {
          "base_uri": "https://localhost:8080/"
        }
      },
      "execution_count": null,
      "outputs": [
        {
          "output_type": "stream",
          "name": "stdout",
          "text": [
            "Nombre del alumno: Penélope Camacho\n"
          ]
        }
      ]
    },
    {
      "cell_type": "code",
      "source": [
        "nombre_alumno = 'Penélope Camacho'\n",
        "edad_alumno = 11\n",
        "media_alumno = 9.95\n",
        "print('Nombre del alumno es %s, tiene %d años y su media es %f.'\n",
        "      %(nombre_alumno, edad_alumno, media_alumno))"
      ],
      "metadata": {
        "id": "yWQPGApH_lzk",
        "outputId": "3f05a6b5-9b46-41dc-a9fc-b010fd94f495",
        "colab": {
          "base_uri": "https://localhost:8080/"
        }
      },
      "execution_count": null,
      "outputs": [
        {
          "output_type": "stream",
          "name": "stdout",
          "text": [
            "Nombre del alumno es Penélope Camacho, tiene 11 años y su media es 9.950000.\n"
          ]
        }
      ]
    },
    {
      "cell_type": "code",
      "source": [
        "print('Nombre del alumno es %s, tiene %d años y su media es %.2f.'\n",
        "      %(nombre_alumno, edad_alumno, media_alumno))"
      ],
      "metadata": {
        "id": "sbjaMysk__9l",
        "outputId": "35ff6816-c207-48b6-e774-d53757a7dc6c",
        "colab": {
          "base_uri": "https://localhost:8080/"
        }
      },
      "execution_count": null,
      "outputs": [
        {
          "output_type": "stream",
          "name": "stdout",
          "text": [
            "Nombre del alumno es Penélope Camacho, tiene 11 años y su media es 9.95.\n"
          ]
        }
      ]
    },
    {
      "cell_type": "code",
      "source": [
        "print('Nombre del alumno es %s, tiene %d años y su media es %.f.'\n",
        "      %(nombre_alumno, edad_alumno, media_alumno))"
      ],
      "metadata": {
        "id": "pdlNJKC3AAGN",
        "outputId": "2f7b6785-99e0-4263-efb4-9bd551481bae",
        "colab": {
          "base_uri": "https://localhost:8080/"
        }
      },
      "execution_count": null,
      "outputs": [
        {
          "output_type": "stream",
          "name": "stdout",
          "text": [
            "Nombre del alumno es Penélope Camacho, tiene 11 años y su media es 10.\n"
          ]
        }
      ]
    },
    {
      "cell_type": "code",
      "source": [
        "x = True\n",
        "print(\"Valor de x: %s\" % (x))\n",
        "type(x)"
      ],
      "metadata": {
        "id": "zrHf_aLOAuGU",
        "outputId": "9c472ac5-f272-4d2e-82db-9c840bcaab59",
        "colab": {
          "base_uri": "https://localhost:8080/"
        }
      },
      "execution_count": null,
      "outputs": [
        {
          "output_type": "stream",
          "name": "stdout",
          "text": [
            "Valor de x: True\n"
          ]
        },
        {
          "output_type": "execute_result",
          "data": {
            "text/plain": [
              "bool"
            ]
          },
          "metadata": {},
          "execution_count": 13
        }
      ]
    },
    {
      "cell_type": "code",
      "source": [
        "x = True\n",
        "print(\"Valor de x: %s\" % str(x))\n",
        "type(x)"
      ],
      "metadata": {
        "id": "aYC5dnQyAAM8",
        "outputId": "fef335a4-2f0f-487a-a501-f86a37dcd55c",
        "colab": {
          "base_uri": "https://localhost:8080/"
        }
      },
      "execution_count": null,
      "outputs": [
        {
          "output_type": "stream",
          "name": "stdout",
          "text": [
            "Valor de x: True\n"
          ]
        },
        {
          "output_type": "execute_result",
          "data": {
            "text/plain": [
              "bool"
            ]
          },
          "metadata": {},
          "execution_count": 14
        }
      ]
    },
    {
      "cell_type": "code",
      "source": [
        "nombre_alumno = 'Penélope Camacho'\n",
        "print ('Nombre del alumno: {}'.format(nombre_alumno))"
      ],
      "metadata": {
        "id": "yRljt2jlAAUV",
        "outputId": "239cdbcd-50ce-499a-af5d-169abdc798cf",
        "colab": {
          "base_uri": "https://localhost:8080/"
        }
      },
      "execution_count": null,
      "outputs": [
        {
          "output_type": "stream",
          "name": "stdout",
          "text": [
            "Nombre del alumno: Penélope Camacho\n"
          ]
        }
      ]
    },
    {
      "cell_type": "code",
      "source": [
        "nombre_alumno = 'Fabricio Daniel'\n",
        "edad_alumno = 15\n",
        "media_alumno = 9.95\n",
        "print ('El nombre del alumno es {} tiene una edad de {} y su media es de {}'\n",
        "      .format(nombre_alumno, edad_alumno, media_alumno))"
      ],
      "metadata": {
        "id": "J3BlCVllAAbd",
        "outputId": "856e9c47-70e5-4698-df91-45dccb69364f",
        "colab": {
          "base_uri": "https://localhost:8080/"
        }
      },
      "execution_count": null,
      "outputs": [
        {
          "output_type": "stream",
          "name": "stdout",
          "text": [
            "El nombre del alumno es Fabricio Daniel tiene una edad de 15 y su media es de 9.95\n"
          ]
        }
      ]
    },
    {
      "cell_type": "code",
      "source": [
        "print(\"Estudiar es un esfuerzo constante,\\nEs como cultivar una planta,\\nNecesitamos dedicación y paciencia,\\nPara ver madurar el fruto.\")"
      ],
      "metadata": {
        "id": "hdi2m7vBAAiE",
        "outputId": "c9e1ddd0-db50-4038-a923-3a99c5d1daae",
        "colab": {
          "base_uri": "https://localhost:8080/"
        }
      },
      "execution_count": null,
      "outputs": [
        {
          "output_type": "stream",
          "name": "stdout",
          "text": [
            "Estudiar es un esfuerzo constante,\n",
            "Es como cultivar una planta,\n",
            "Necesitamos dedicación y paciencia,\n",
            "Para ver madurar el fruto.\n"
          ]
        }
      ]
    },
    {
      "cell_type": "code",
      "source": [
        "print('Cantidad\\tCalidad\\n5 muestras\\tAlta\\n3 muestras\\tBaja')"
      ],
      "metadata": {
        "id": "3zxXTUC7AAo0",
        "outputId": "2e198b76-0da6-4cd0-c77e-48ec16d0e5fd",
        "colab": {
          "base_uri": "https://localhost:8080/"
        }
      },
      "execution_count": null,
      "outputs": [
        {
          "output_type": "stream",
          "name": "stdout",
          "text": [
            "Cantidad\tCalidad\n",
            "5 muestras\tAlta\n",
            "3 muestras\tBaja\n"
          ]
        }
      ]
    },
    {
      "cell_type": "code",
      "source": [
        "print(\"Ruta del archivo: C:\\\\archivos\\\\documento.csv\")"
      ],
      "metadata": {
        "id": "oimSIJwEDbCx",
        "outputId": "e81467b5-00b8-41cc-b819-3945021d301a",
        "colab": {
          "base_uri": "https://localhost:8080/"
        }
      },
      "execution_count": null,
      "outputs": [
        {
          "output_type": "stream",
          "name": "stdout",
          "text": [
            "Ruta del archivo: C:\\archivos\\documento.csv\n"
          ]
        }
      ]
    },
    {
      "cell_type": "code",
      "source": [
        "print(\"Una vez oí: \\\"Los frutos del conocimiento son los más dulces y duraderos de todos.\\\"\")"
      ],
      "metadata": {
        "id": "xw-svWmYDbLy",
        "outputId": "47857694-bc8b-4841-af1b-0884214ebf9c",
        "colab": {
          "base_uri": "https://localhost:8080/"
        }
      },
      "execution_count": null,
      "outputs": [
        {
          "output_type": "stream",
          "name": "stdout",
          "text": [
            "Una vez oí: \"Los frutos del conocimiento son los más dulces y duraderos de todos.\"\n"
          ]
        }
      ]
    },
    {
      "cell_type": "code",
      "source": [
        "print('Mi profesora una vez dijo: \\'Estudiar es la clave del éxito.\\'')"
      ],
      "metadata": {
        "id": "mc4cGrIsDbSy",
        "outputId": "b1750480-04b8-4e8a-bd3a-7daddf8395f9",
        "colab": {
          "base_uri": "https://localhost:8080/"
        }
      },
      "execution_count": null,
      "outputs": [
        {
          "output_type": "stream",
          "name": "stdout",
          "text": [
            "Mi profesora una vez dijo: 'Estudiar es la clave del éxito.'\n"
          ]
        }
      ]
    },
    {
      "cell_type": "code",
      "source": [
        "nombre_usuario = input(\"Favor de introducir su nombre: \")\n",
        "mensaje = f\"El nombre del usuario es: {nombre_usuario}\"\n",
        "print (mensaje)"
      ],
      "metadata": {
        "id": "RGjGtvljGSyp",
        "outputId": "674d0e1c-ad5d-487e-e2da-6956e259556e",
        "colab": {
          "base_uri": "https://localhost:8080/"
        }
      },
      "execution_count": null,
      "outputs": [
        {
          "output_type": "stream",
          "name": "stdout",
          "text": [
            "Favor de introducir su nombre: Jorge Doussett\n",
            "El nombre del usuario es: Jorge Doussett\n"
          ]
        }
      ]
    },
    {
      "cell_type": "code",
      "source": [
        "nombre_usuario = input(\"Favor de introducir su nombre: \")\n",
        "edad_usuario = input(\" Favor de introducir su edad: \")\n",
        "mensaje = f\"El nombre del Usuario es {nombre_usuario}\\nLa edad del usuario es {edad_usuario}\"\n",
        "print (mensaje)"
      ],
      "metadata": {
        "id": "ljD3ZEyAGS5o",
        "outputId": "f0c73ca0-207f-4f54-b4c4-d9aa66a9d32e",
        "colab": {
          "base_uri": "https://localhost:8080/"
        }
      },
      "execution_count": null,
      "outputs": [
        {
          "output_type": "stream",
          "name": "stdout",
          "text": [
            "Favor de introducir su nombre: Jorge Doussett\n",
            " Favor de introducir su edad: 29\n",
            "El nombre del Usuario es Jorge Doussett\n",
            "La edad del usuario es 29\n"
          ]
        }
      ]
    },
    {
      "cell_type": "code",
      "source": [
        "nombre_usuario = input(\"Favor de introducir su numbre: \")\n",
        "edad_usuario = input(\"Favor de introducir su edad: \")\n",
        "altura_usuario = float(input(\"Favor de introducir su altura: \"))\n",
        "mensaje = f\"El nombre del Usuario es: {nombre_usuario}\\n\"\n",
        "mensaje_2 = f\"La edad del Usuario es: {edad_usuario}\\n\"\n",
        "mensaje_3 = f\"La altura del Usuario es: {altura_usuario}\"\n",
        "print (mensaje, mensaje_2, mensaje_3)\n"
      ],
      "metadata": {
        "id": "CMdBbFlLGTBA",
        "outputId": "c67cee30-4b21-431f-9380-a4f76d144a1e",
        "colab": {
          "base_uri": "https://localhost:8080/"
        }
      },
      "execution_count": null,
      "outputs": [
        {
          "output_type": "stream",
          "name": "stdout",
          "text": [
            "Favor de introducir su numbre: Jorge Doussett\n",
            "Favor de introducir su edad: 29\n",
            "Favor de introducir su altura: 1.82\n",
            "El nombre del Usuario es: Jorge Doussett\n",
            " La edad del Usuario es: 29\n",
            " La altura del Usuario es: 1.82\n"
          ]
        }
      ]
    },
    {
      "cell_type": "code",
      "source": [
        "v_1 = float(input (\"Introduce el primer valor:\"))\n",
        "v_2 = float(input (\"Introduce el segundo valor: \"))\n",
        "print (f\"La suma de los valores es: {v_1 + v_2}\")"
      ],
      "metadata": {
        "id": "6LpBYZWQK3s8",
        "outputId": "311c3e56-6b43-48b6-b31a-d9dee27e1585",
        "colab": {
          "base_uri": "https://localhost:8080/"
        }
      },
      "execution_count": null,
      "outputs": [
        {
          "output_type": "stream",
          "name": "stdout",
          "text": [
            "Introduce el primer valor:528.13\n",
            "Introduce el segundo valor: 737.77\n",
            "La suma de los valores es: 1265.9\n"
          ]
        }
      ]
    },
    {
      "cell_type": "code",
      "source": [
        "v_1 = float(input (\"Introduce el primer valor:\"))\n",
        "v_2 = float(input (\"Introduce el segundo valor:\"))\n",
        "v_3 = float(input (\"Introduce el tercer valor:\"))\n",
        "suma = v_1 + v_2 + v_3\n",
        "print (f\"La suma de los valores es: {suma:.2f}\")"
      ],
      "metadata": {
        "id": "HOT-gaSJK3zV",
        "outputId": "1b00c560-d6e3-44da-db1b-eba2bc07cd74",
        "colab": {
          "base_uri": "https://localhost:8080/"
        }
      },
      "execution_count": null,
      "outputs": [
        {
          "output_type": "stream",
          "name": "stdout",
          "text": [
            "Introduce el primer valor:753.951\n",
            "Introduce el segundo valor:852.654\n",
            "Introduce el tercer valor:963.741\n",
            "La suma de los valores es: 2570.35\n"
          ]
        }
      ]
    },
    {
      "cell_type": "code",
      "source": [
        "v_1 = float(input (\"Introduce el primer valor:\"))\n",
        "v_2 = float(input (\"Introduce el segundo valor:\"))\n",
        "v_3 = float(input (\"Introduce el tercer valor:\"))\n",
        "suma = v_1 + v_2 + v_3\n",
        "print (\"La suma de los valores es: {:.2f}\".format(suma))"
      ],
      "metadata": {
        "id": "xAV8QRKFK36V",
        "outputId": "1c0e2b01-3aa3-4b64-e4d6-23174207b44a",
        "colab": {
          "base_uri": "https://localhost:8080/"
        }
      },
      "execution_count": null,
      "outputs": [
        {
          "output_type": "stream",
          "name": "stdout",
          "text": [
            "Introduce el primer valor:789.987\n",
            "Introduce el segundo valor:456.654\n",
            "Introduce el tercer valor:123.321\n",
            "La suma de los valores es: 1369.96\n"
          ]
        }
      ]
    },
    {
      "cell_type": "code",
      "source": [
        "v_1 = float(input (\"Introduce el primer valor:\"))\n",
        "v_2 = float(input (\"Introduce el segundo valor:\"))\n",
        "v_3 = float(input (\"Introduce el tercer valor:\"))\n",
        "suma = round(v_1 + v_2 + v_3, 2)\n",
        "print (f\"La suma de los valores es: {suma}\")"
      ],
      "metadata": {
        "id": "EET9sPBdK4Bt",
        "outputId": "34077aad-c51c-4b3e-97c0-78ce9d6dacab",
        "colab": {
          "base_uri": "https://localhost:8080/"
        }
      },
      "execution_count": null,
      "outputs": [
        {
          "output_type": "stream",
          "name": "stdout",
          "text": [
            "Introduce el primer valor:951.159\n",
            "Introduce el segundo valor:9731.3179\n",
            "Introduce el tercer valor:8246.23\n",
            "La suma de los valores es: 18928.71\n"
          ]
        }
      ]
    },
    {
      "cell_type": "code",
      "source": [
        "v_1 = float(input (\"Introduce el primer valor:\"))\n",
        "v_2 = float(input (\"Introduce el segundo valor:\"))\n",
        "resta = round(v_1 - v_2, 2)\n",
        "print (f\"La resta de los valores es: {resta}\")"
      ],
      "metadata": {
        "id": "q3TwBL7UK4It",
        "outputId": "35eaa849-945a-4cc9-cf9c-7f71f6268a6f",
        "colab": {
          "base_uri": "https://localhost:8080/"
        }
      },
      "execution_count": null,
      "outputs": [
        {
          "output_type": "stream",
          "name": "stdout",
          "text": [
            "Introduce el primer valor:951357\n",
            "Introduce el segundo valor:-852\n",
            "La resta de los valores es: 952209.0\n"
          ]
        }
      ]
    },
    {
      "cell_type": "code",
      "source": [
        "v_1 = float(input (\"Introduce el primer valor:\"))\n",
        "v_2 = float(input (\"Introduce el segundo valor:\"))\n",
        "resta = round(v_1 - v_2, 2)\n",
        "print (f\"La resta de los valores es: {resta}\")"
      ],
      "metadata": {
        "id": "N93mTg7BK4Ps",
        "outputId": "e922097e-4295-42d7-f022-0d1884d844c4",
        "colab": {
          "base_uri": "https://localhost:8080/"
        }
      },
      "execution_count": null,
      "outputs": [
        {
          "output_type": "stream",
          "name": "stdout",
          "text": [
            "Introduce el primer valor:1000\n",
            "Introduce el segundo valor:1\n",
            "La resta de los valores es: 999.0\n"
          ]
        }
      ]
    },
    {
      "cell_type": "code",
      "source": [
        "v_1 = float(input (\"Introduce el primer valor:\"))\n",
        "v_2 = float(input (\"Introduce el segundo valor:\"))\n",
        "producto = round(v_1 * v_2, 2)\n",
        "print (f\"El producto de los valores es: {producto}\")"
      ],
      "metadata": {
        "id": "9wAEyehFK4Xs",
        "outputId": "03645e05-2122-4657-d6a6-d1998354152c",
        "colab": {
          "base_uri": "https://localhost:8080/"
        }
      },
      "execution_count": null,
      "outputs": [
        {
          "output_type": "stream",
          "name": "stdout",
          "text": [
            "Introduce el primer valor:78.53\n",
            "Introduce el segundo valor:91.14\n",
            "El producto de los valores es: 7157.22\n"
          ]
        }
      ]
    },
    {
      "cell_type": "code",
      "source": [
        "v_1 = float(input (\"Introduce el primer valor:\"))\n",
        "v_2 = float(input (\"Introduce el segundo valor:\"))\n",
        "division = v_1 // v_2\n",
        "division_2 = v_1 % v_2\n",
        "print (f\"El resultado de los valores es: {division}\")\n",
        "print (f\"El residuo de los valores es: {division_2}\")"
      ],
      "metadata": {
        "id": "NVtOiDYqK4e9",
        "outputId": "599b763d-66cf-4207-aafe-fdb6cc9f58c0",
        "colab": {
          "base_uri": "https://localhost:8080/"
        }
      },
      "execution_count": null,
      "outputs": [
        {
          "output_type": "stream",
          "name": "stdout",
          "text": [
            "Introduce el primer valor:78\n",
            "Introduce el segundo valor:42\n",
            "El resultado de los valores es: 1.0\n",
            "El residuo de los valores es: 36.0\n"
          ]
        }
      ]
    },
    {
      "cell_type": "code",
      "source": [
        "v_1 = float(input(\"Introduce el primer valor: \"))\n",
        "v_2 = float(input(\"Introduce el segundo valor: \"))\n",
        "\n",
        "if v_2 == 0:\n",
        "    print(\"Error: El denominador no puede ser cero. Por favor, introduce un valor diferente.\")\n",
        "else:\n",
        "    division = v_1 // v_2\n",
        "    division_2 = v_1 % v_2\n",
        "    print(f\"El resultado de la división entera es: {division}\")\n",
        "    print(f\"El residuo de la división es: {division_2}\")"
      ],
      "metadata": {
        "id": "7uC9DsNNK4mN",
        "outputId": "ef970e73-f723-4dd7-f02b-b0d68de13010",
        "colab": {
          "base_uri": "https://localhost:8080/"
        }
      },
      "execution_count": null,
      "outputs": [
        {
          "output_type": "stream",
          "name": "stdout",
          "text": [
            "Introduce el primer valor: 1\n",
            "Introduce el segundo valor: 0\n",
            "Error: El denominador no puede ser cero. Por favor, introduce un valor diferente.\n"
          ]
        }
      ]
    },
    {
      "cell_type": "code",
      "source": [
        "v_1 = float(input(\"Introduce el primer valor: \"))\n",
        "v_2 = float(input(\"Introduce el segundo valor: \"))\n",
        "\n",
        "while v_2 == 0:\n",
        "    print(\"Error: El denominador no puede ser cero.\")\n",
        "    v_2 = float(input(\"Introduce un denominador válido: \"))\n",
        "\n",
        "division = v_1 // v_2\n",
        "division_2 = v_1 % v_2\n",
        "print(f\"El resultado de la división entera es: {division}\")\n",
        "print(f\"El residuo de la división es: {division_2}\")"
      ],
      "metadata": {
        "id": "h9585AUPK4t8",
        "outputId": "d54c5e1b-aee3-4fcd-c7df-1dd250560e3a",
        "colab": {
          "base_uri": "https://localhost:8080/"
        }
      },
      "execution_count": null,
      "outputs": [
        {
          "output_type": "stream",
          "name": "stdout",
          "text": [
            "Introduce el primer valor: 1\n",
            "Introduce el segundo valor: 0\n",
            "Error: El denominador no puede ser cero.\n",
            "Introduce un denominador válido: 1\n",
            "El resultado de la división entera es: 1.0\n",
            "El residuo de la división es: 0.0\n"
          ]
        }
      ]
    },
    {
      "cell_type": "code",
      "source": [
        "base = float(input (\"Introduce la base:\"))\n",
        "exponente_valor = float(input (\"Introduce el exponente:\"))\n",
        "resultado = round(v_1 ** v_2, 2)\n",
        "print (f\"El resultado de la exponenciación es: {resultado}\")"
      ],
      "metadata": {
        "id": "OUYWxKCGK41V",
        "outputId": "4b33fb66-d93e-4d37-9f18-4012feeae53d",
        "colab": {
          "base_uri": "https://localhost:8080/"
        }
      },
      "execution_count": null,
      "outputs": [
        {
          "output_type": "stream",
          "name": "stdout",
          "text": [
            "Introduce la base:23\n",
            "Introduce el exponente:13\n",
            "El resultado de la exponenciación es: 8.9093699540585e+56\n"
          ]
        }
      ]
    },
    {
      "cell_type": "code",
      "source": [
        "base = float(input(\"Introduce la base: \"))\n",
        "exponente_valor = float(input(\"Introduce el exponente: \"))\n",
        "\n",
        "if base == 0 and exponente_valor < 0:\n",
        "    print(\"Error: Elevar 0 a una potencia negativa resulta en indefinido.\")\n",
        "else:\n",
        "    resultado = round(base ** exponente_valor, 2)\n",
        "    print(f\"El resultado de la exponenciación es: {resultado}\")"
      ],
      "metadata": {
        "id": "sbNjGNOQK48k",
        "outputId": "0a098860-f13e-4b67-f176-8487982e70ff",
        "colab": {
          "base_uri": "https://localhost:8080/"
        }
      },
      "execution_count": null,
      "outputs": [
        {
          "output_type": "stream",
          "name": "stdout",
          "text": [
            "Introduce la base: 0\n",
            "Introduce el exponente: -1\n",
            "Error: Elevar 0 a una potencia negativa resulta en indefinido.\n"
          ]
        }
      ]
    },
    {
      "cell_type": "code",
      "source": [
        "nota_1 = float(input(\"Introduza la primer nota:\"))\n",
        "nota_2 = float(input(\"Introduza la segunda nota:\"))\n",
        "nota_3 = float(input(\"Introduzca la tercer nota: \"))\n",
        "notas = round((nota_1 + nota_2 + nota_3) / 3, 2)\n",
        "print (f\"El promedio de las notas, es de: {notas}\")"
      ],
      "metadata": {
        "id": "qJXg9sgvK5Ec",
        "outputId": "9a7f1f45-7f80-4bfb-9709-822e56ecd6bb",
        "colab": {
          "base_uri": "https://localhost:8080/"
        }
      },
      "execution_count": null,
      "outputs": [
        {
          "output_type": "stream",
          "name": "stdout",
          "text": [
            "Introduza la primer nota:9.2\n",
            "Introduza la segunda nota:9.7\n",
            "Introduzca la tercer nota: 10\n",
            "El promedio de las notas, es de: 9.633333333333333\n"
          ]
        }
      ]
    },
    {
      "cell_type": "code",
      "source": [
        "notas = []\n",
        "for i in range(3):\n",
        "    nota = float(input(f\"Introduzca la nota {i+1}: \"))\n",
        "    notas.append(nota)\n",
        "\n",
        "promedio = round(sum(notas) / len(notas), 2)\n",
        "print(f\"El promedio de las notas es de: {promedio}\")"
      ],
      "metadata": {
        "id": "e4CFk0MTK5L9",
        "outputId": "0d93df26-d090-4b52-fe4e-eab501b91e5b",
        "colab": {
          "base_uri": "https://localhost:8080/"
        }
      },
      "execution_count": null,
      "outputs": [
        {
          "output_type": "stream",
          "name": "stdout",
          "text": [
            "Introduzca la nota 1: 9.75\n",
            "Introduzca la nota 2: 9.9\n",
            "Introduzca la nota 3: 10\n",
            "El promedio de las notas es de: 9.88\n"
          ]
        }
      ]
    },
    {
      "cell_type": "code",
      "source": [
        "numeros = [5, 12, 20, 15]\n",
        "pesos = [1, 2, 3, 4]\n",
        "\n",
        "# Verificar que la cantidad de números y pesos coincida\n",
        "if len(numeros) != len(pesos):\n",
        "    print(\"Error: La cantidad de números y pesos no coincide.\")\n",
        "else:\n",
        "    suma_ponderada = 0\n",
        "    suma_de_pesos = 0\n",
        "\n",
        "    for i in range(len(numeros)):\n",
        "        suma_ponderada += numeros[i] * pesos[i]\n",
        "        suma_de_pesos += pesos[i]\n",
        "\n",
        "    if suma_de_pesos == 0:\n",
        "        print(\"Error: La suma de los pesos no puede ser cero.\")\n",
        "    else:\n",
        "        promedio_ponderado = suma_ponderada / suma_de_pesos\n",
        "        print(f\"El promedio ponderado es: {promedio_ponderado}\")"
      ],
      "metadata": {
        "id": "Besq2Z8UK5TN",
        "outputId": "e542f7f4-3ccb-41c4-c819-50997c933f1b",
        "colab": {
          "base_uri": "https://localhost:8080/"
        }
      },
      "execution_count": null,
      "outputs": [
        {
          "output_type": "stream",
          "name": "stdout",
          "text": [
            "El promedio ponderado es: 14.9\n"
          ]
        }
      ]
    },
    {
      "cell_type": "code",
      "source": [
        "numeros = [5, 12, 20, 15]\n",
        "pesos = [1, 2, 3, 4]\n",
        "\n",
        "if len(numeros) != len(pesos):\n",
        "    print(\"Error: La cantidad de números y pesos no coincide.\")\n",
        "else:\n",
        "    suma_ponderada = sum(numeros[i] * pesos[i] for i in range(len(numeros)))\n",
        "    suma_de_pesos = sum(pesos)\n",
        "\n",
        "    if suma_de_pesos == 0:\n",
        "        print(\"Error: La suma de los pesos no puede ser cero.\")\n",
        "    else:\n",
        "        promedio_ponderado = suma_ponderada / suma_de_pesos\n",
        "        print(f\"El promedio ponderado es: {promedio_ponderado}\")"
      ],
      "metadata": {
        "id": "1TvY0oiSu1iA",
        "outputId": "ce80c5d0-1e94-45c7-a3f0-c519eb8e3000",
        "colab": {
          "base_uri": "https://localhost:8080/"
        }
      },
      "execution_count": null,
      "outputs": [
        {
          "output_type": "stream",
          "name": "stdout",
          "text": [
            "El promedio ponderado es: 14.9\n"
          ]
        }
      ]
    },
    {
      "cell_type": "code",
      "source": [
        "frase = (\"Esto es una frase cualquiera\")\n",
        "print (frase)"
      ],
      "metadata": {
        "id": "pa4gLncu-mvU",
        "outputId": "9d9a01b0-6f6c-4d0d-d7f7-b884d3a9029a",
        "colab": {
          "base_uri": "https://localhost:8080/"
        }
      },
      "execution_count": null,
      "outputs": [
        {
          "output_type": "stream",
          "name": "stdout",
          "text": [
            "Esto es una frase cualquiera\n"
          ]
        }
      ]
    },
    {
      "cell_type": "code",
      "source": [
        "frase = input(\"Introduzca lo que desee: \")\n",
        "print (frase)"
      ],
      "metadata": {
        "id": "Hquu-GCJmaNc",
        "outputId": "88e1faf1-e158-4324-a7ae-64821da04bf6",
        "colab": {
          "base_uri": "https://localhost:8080/"
        }
      },
      "execution_count": null,
      "outputs": [
        {
          "output_type": "stream",
          "name": "stdout",
          "text": [
            "Introduzca lo que desee: Hola Mundo\n",
            "Hola Mundo\n"
          ]
        }
      ]
    },
    {
      "cell_type": "code",
      "source": [
        "frase = input (\"Introduzca lo que desee: \")\n",
        "nueva_frase = frase.upper()\n",
        "print (nueva_frase)"
      ],
      "metadata": {
        "id": "Z0L3U-3Kmalc",
        "outputId": "21849167-1acf-452c-c9f8-01038f2810d0",
        "colab": {
          "base_uri": "https://localhost:8080/"
        }
      },
      "execution_count": null,
      "outputs": [
        {
          "output_type": "stream",
          "name": "stdout",
          "text": [
            "Introduzca lo que desee: Hola Mundo\n",
            "HOLA MUNDO\n"
          ]
        }
      ]
    },
    {
      "cell_type": "code",
      "source": [
        "frase = input (\"Introduza lo que desee: \")\n",
        "nueva_frase = frase.lower()\n",
        "print (nueva_frase)\n"
      ],
      "metadata": {
        "id": "6Oyk_sDPoWIJ",
        "outputId": "cb4a5dd8-b478-4048-f5c7-b713e3a34264",
        "colab": {
          "base_uri": "https://localhost:8080/"
        }
      },
      "execution_count": null,
      "outputs": [
        {
          "output_type": "stream",
          "name": "stdout",
          "text": [
            "Introduza lo que desee: Hola Mundo\n",
            "hola mundo\n"
          ]
        }
      ]
    },
    {
      "cell_type": "code",
      "source": [
        "frase = input (\"Introduzca lo que desee: \")\n",
        "nueva_frase = frase.strip()\n",
        "print (nueva_frase)"
      ],
      "metadata": {
        "id": "Pw1dxSUfma7r",
        "outputId": "df8ced4f-7ee3-40a7-cbd5-7a8636b6fc2f",
        "colab": {
          "base_uri": "https://localhost:8080/"
        }
      },
      "execution_count": null,
      "outputs": [
        {
          "output_type": "stream",
          "name": "stdout",
          "text": [
            "Introduzca lo que desee:    Hola Mundo   \n",
            "Hola Mundo\n"
          ]
        }
      ]
    },
    {
      "cell_type": "code",
      "source": [
        "frase = (\"   Un texto cualquiera   \")\n",
        "nueva_frase = frase.strip()\n",
        "print (nueva_frase)"
      ],
      "metadata": {
        "id": "R0LAYPVCma_E",
        "outputId": "62e446fb-9351-474e-daed-0da7b54414a5",
        "colab": {
          "base_uri": "https://localhost:8080/"
        }
      },
      "execution_count": null,
      "outputs": [
        {
          "output_type": "stream",
          "name": "stdout",
          "text": [
            "Un texto cualquiera\n"
          ]
        }
      ]
    },
    {
      "cell_type": "code",
      "source": [
        "frase = input (\"Introduzca lo que desee: \")\n",
        "nueva_frase = frase.strip().lower()\n",
        "print (nueva_frase)"
      ],
      "metadata": {
        "id": "AMWzNE0LmbvV",
        "outputId": "01b9d406-63e4-4c02-b563-e60d7a54c68e",
        "colab": {
          "base_uri": "https://localhost:8080/"
        }
      },
      "execution_count": null,
      "outputs": [
        {
          "output_type": "stream",
          "name": "stdout",
          "text": [
            "Introduzca lo que desee:    HOLA MUNDO   \n",
            "hola mundo\n"
          ]
        }
      ]
    },
    {
      "cell_type": "code",
      "source": [
        "frase = input (\"Introduzca lo que desee: \")\n",
        "nueva_frase = frase.replace('e', 'f')\n",
        "print (nueva_frase)"
      ],
      "metadata": {
        "id": "JEuiD24KtI4f",
        "outputId": "78ea0599-2a6c-4b1d-ddda-47b8ba9cf3d7",
        "colab": {
          "base_uri": "https://localhost:8080/"
        }
      },
      "execution_count": null,
      "outputs": [
        {
          "output_type": "stream",
          "name": "stdout",
          "text": [
            "Introduzca lo que desee: \"Estamos emocionados de estar aquí\"\n",
            "\"Estamos fmocionados df fstar aquí\"\n"
          ]
        }
      ]
    },
    {
      "cell_type": "code",
      "source": [
        "frase = input (\"Introduzca lo que desee: \")\n",
        "nueva_frase = frase.replace('e', 'f'). replace ('E', 'f')\n",
        "print (nueva_frase)"
      ],
      "metadata": {
        "id": "WG2DjlECtI9n",
        "outputId": "c3077d09-e6b6-47fa-9cb8-e4834337ede8",
        "colab": {
          "base_uri": "https://localhost:8080/"
        }
      },
      "execution_count": null,
      "outputs": [
        {
          "output_type": "stream",
          "name": "stdout",
          "text": [
            "Introduzca lo que desee: \"Estamos emocionados de estar aquí\"\n",
            "\"fstamos fmocionados df fstar aquí\"\n"
          ]
        }
      ]
    },
    {
      "cell_type": "code",
      "source": [
        "frase = input(\"Introduzca lo que desee: \")\n",
        "frase_en_minusculas = frase.lower()\n",
        "nueva_frase = frase_en_minusculas.replace('e', 'f')\n",
        "print(nueva_frase)"
      ],
      "metadata": {
        "id": "VXoJPlI2tJCf",
        "outputId": "ad8bc620-26f3-4f93-8e7f-9818ef49e5fe",
        "colab": {
          "base_uri": "https://localhost:8080/"
        }
      },
      "execution_count": null,
      "outputs": [
        {
          "output_type": "stream",
          "name": "stdout",
          "text": [
            "Introduzca lo que desee: \"Estamos emocionados de estar aquí\"\n",
            "\"fstamos fmocionados df fstar aquí\"\n"
          ]
        }
      ]
    },
    {
      "cell_type": "code",
      "source": [
        "import re\n",
        "\n",
        "frase = input(\"Introduzca lo que desee: \")\n",
        "nueva_frase = re.sub(r'[eE]', 'f', frase)\n",
        "print(nueva_frase)"
      ],
      "metadata": {
        "id": "EhGgx3SvvlTV",
        "outputId": "e9233041-6fd4-43de-886d-84956f0ceebc",
        "colab": {
          "base_uri": "https://localhost:8080/"
        }
      },
      "execution_count": null,
      "outputs": [
        {
          "output_type": "stream",
          "name": "stdout",
          "text": [
            "Introduzca lo que desee: \"Estamos emocionados de estar aquí\"\n",
            "\"fstamos fmocionados df fstar aquí\"\n"
          ]
        }
      ]
    },
    {
      "cell_type": "code",
      "source": [
        "import re\n",
        "\n",
        "frase = input (\"Introduzca lo que desee: \")\n",
        "nueva_frase = re.sub(r'[aA]', '@', frase)\n",
        "print (nueva_frase)"
      ],
      "metadata": {
        "id": "__Sjk_j8vlVc",
        "outputId": "175dc7b6-2d7b-40cb-e5f9-76026d50e968",
        "colab": {
          "base_uri": "https://localhost:8080/"
        }
      },
      "execution_count": null,
      "outputs": [
        {
          "output_type": "stream",
          "name": "stdout",
          "text": [
            "Introduzca lo que desee: \"Amamos a la Señorita Alexa\"\n",
            "\"@m@mos @ l@ Señorit@ @lex@\"\n"
          ]
        }
      ]
    },
    {
      "cell_type": "code",
      "source": [
        "import re\n",
        "\n",
        "frase = input (\"Introduzca lo que desee: \")\n",
        "nueva_frase = re.sub(r'[sS]', '$', frase)\n",
        "print (nueva_frase)"
      ],
      "metadata": {
        "id": "G8CC7gP1vlZl",
        "outputId": "71d4b552-41db-4ce2-e6bf-7b1924230bc1",
        "colab": {
          "base_uri": "https://localhost:8080/"
        }
      },
      "execution_count": null,
      "outputs": [
        {
          "output_type": "stream",
          "name": "stdout",
          "text": [
            "Introduzca lo que desee: \"Si el socavón desata serpientes\"\n",
            "\"$i el $ocavón de$ata $erpiente$\"\n"
          ]
        }
      ]
    },
    {
      "cell_type": "markdown",
      "source": [
        "# Estructuras condicionales"
      ],
      "metadata": {
        "id": "NwRaiHHHhhyl"
      }
    },
    {
      "cell_type": "code",
      "source": [
        "# Nota de Aprobación, entre 7 y 10 == nota de aprobación >=7\n",
        "# Nota de Reprobación, es menor a 7 == nota de reprobación <7\n",
        "\n",
        "\"\"\"\n",
        "Si la nota es mayor o igual a 7, el alumno está aprobado.\n",
        "Si la nota es menor que 7, el alumno está reprobado.\n",
        "\"\"\""
      ],
      "metadata": {
        "id": "_cWRmDiE-m4p",
        "outputId": "2fb67435-0038-45a6-8625-1ab278d31b7a",
        "colab": {
          "base_uri": "https://localhost:8080/",
          "height": 35
        }
      },
      "execution_count": null,
      "outputs": [
        {
          "output_type": "execute_result",
          "data": {
            "text/plain": [
              "'\\nSi la nota es mayor o igual a 7, el alumno está aprobado.\\nSi la nota es menor que 7, el alumno está reprobado.\\n'"
            ],
            "application/vnd.google.colaboratory.intrinsic+json": {
              "type": "string"
            }
          },
          "metadata": {},
          "execution_count": 5
        }
      ]
    },
    {
      "cell_type": "code",
      "source": [
        "calificacion = float(input(\"Ingrese la calificación del alumno: \"))\n",
        "asistencia = float(input(\"Ingrese la asistencia del alumno: \"))\n",
        "\n",
        "if calificacion >= 7 and asistencia >= 75:\n",
        "    print(\"El alumno está aprobado.\")\n",
        "    print(\"Felicidades, aprobaste el curso!\")\n",
        "elif calificacion < 7 and asistencia >= 75:\n",
        "    print(\"El alumno necesita mejorar sus notas.\")\n",
        "elif calificacion >= 7 and asistencia < 75:\n",
        "    print(\"El alumno necesita mejorar su asistencia.\")\n",
        "else:\n",
        "    print (\"El alumno está reprobado.\")\n"
      ],
      "metadata": {
        "id": "pMJO1Bz52ARy",
        "outputId": "f59bb925-4c48-4ad9-84c9-35b12535b9aa",
        "colab": {
          "base_uri": "https://localhost:8080/"
        }
      },
      "execution_count": null,
      "outputs": [
        {
          "output_type": "stream",
          "name": "stdout",
          "text": [
            "Ingrese la calificación del alumno: 9\n",
            "Ingrese la asistencia del alumno: 100\n",
            "El alumno está aprobado.\n",
            "Felicidades, aprobaste el curso!\n"
          ]
        }
      ]
    },
    {
      "cell_type": "code",
      "source": [
        "calificacion = float(input(\"Ingrese la calificación del alumno: \"))\n",
        "asistencia = float(input(\"Ingrese la asistencia del alumno: \"))\n",
        "\n",
        "if calificacion >= 7 and asistencia >= 75:\n",
        "    print(\"El alumno está aprobado.\")\n",
        "    print(\"Felicidades, aprobaste el curso!\")\n",
        "elif calificacion < 7 and asistencia >= 75:\n",
        "    print(\"El alumno necesita mejorar sus notas.\")\n",
        "elif calificacion >= 7 and asistencia < 75:\n",
        "    print(\"El alumno necesita mejorar su asistencia.\")\n",
        "else:\n",
        "    print (\"El alumno está reprobado.\")"
      ],
      "metadata": {
        "id": "Ho0WFLvu-XLS",
        "outputId": "3d8cac16-6320-490f-89f4-bfa7fb477156",
        "colab": {
          "base_uri": "https://localhost:8080/"
        }
      },
      "execution_count": null,
      "outputs": [
        {
          "output_type": "stream",
          "name": "stdout",
          "text": [
            "Ingrese la calificación del alumno: 6\n",
            "Ingrese la asistencia del alumno: 70\n",
            "El alumno está reprobado.\n"
          ]
        }
      ]
    },
    {
      "cell_type": "code",
      "source": [
        "calificacion = float(input(\"Ingrese la calificación del alumno: \"))\n",
        "asistencia = float(input(\"Ingrese la asistencia del alumno: \"))\n",
        "\n",
        "if calificacion >= 7 and asistencia >= 75:\n",
        "    print(\"El alumno está aprobado.\")\n",
        "    print(\"Felicidades, aprobaste el curso!\")\n",
        "elif calificacion < 7 and asistencia >= 75:\n",
        "    print(\"El alumno necesita mejorar sus notas.\")\n",
        "elif calificacion >= 7 and asistencia < 75:\n",
        "    print(\"El alumno necesita mejorar su asistencia.\")\n",
        "else:\n",
        "    print (\"El alumno está reprobado.\")"
      ],
      "metadata": {
        "id": "zSegliZv-gfC",
        "outputId": "273914a1-1422-4c0a-f05b-59e2ff25c39d",
        "colab": {
          "base_uri": "https://localhost:8080/"
        }
      },
      "execution_count": null,
      "outputs": [
        {
          "output_type": "stream",
          "name": "stdout",
          "text": [
            "Ingrese la calificación del alumno: 6\n",
            "Ingrese la asistencia del alumno: 75\n",
            "El alumno necesita mejorar sus notas.\n"
          ]
        }
      ]
    },
    {
      "cell_type": "code",
      "source": [
        "calificacion = float(input(\"Ingrese la calificación del alumno: \"))\n",
        "asistencia = float(input(\"Ingrese la asistencia del alumno: \"))\n",
        "\n",
        "if calificacion >= 7 and asistencia >= 75:\n",
        "    print(\"El alumno está aprobado.\")\n",
        "    print(\"Felicidades, aprobaste el curso!\")\n",
        "elif calificacion < 7 and asistencia >= 75:\n",
        "    print(\"El alumno necesita mejorar sus notas.\")\n",
        "elif calificacion >= 7 and asistencia < 75:\n",
        "    print(\"El alumno necesita mejorar su asistencia.\")\n",
        "else:\n",
        "    print (\"El alumno está reprobado.\")"
      ],
      "metadata": {
        "id": "AOYFu5V3-oTa",
        "outputId": "a2cdc2e9-c0ed-424f-e8cc-361894e4026a",
        "colab": {
          "base_uri": "https://localhost:8080/"
        }
      },
      "execution_count": null,
      "outputs": [
        {
          "output_type": "stream",
          "name": "stdout",
          "text": [
            "Ingrese la calificación del alumno: 10\n",
            "Ingrese la asistencia del alumno: 100\n",
            "El alumno está aprobado.\n",
            "Felicidades, aprobaste el curso!\n"
          ]
        }
      ]
    },
    {
      "cell_type": "code",
      "source": [
        "# Nota de Aprobación, entre 7 y 10 == nota de aprobación >=7\n",
        "# Nota de Reprobación, es menor a 7 == nota de reprobación <7\n",
        "\n",
        "\"\"\"\n",
        "Si la nota es mayor o igual a 7, el alumno está aprobado.\n",
        "Si la nota es menor que 7, el alumno está reprobado.\n",
        "\"\"\""
      ],
      "metadata": {
        "id": "trtVa-8BZ-sT",
        "outputId": "b2372c67-d2b5-4f19-ffd3-044f87ed52b9",
        "colab": {
          "base_uri": "https://localhost:8080/",
          "height": 35
        }
      },
      "execution_count": null,
      "outputs": [
        {
          "output_type": "execute_result",
          "data": {
            "text/plain": [
              "'\\nSi la nota es mayor o igual a 7, el alumno está aprobado.\\nSi la nota es menor que 7, el alumno está reprobado.\\n'"
            ],
            "application/vnd.google.colaboratory.intrinsic+json": {
              "type": "string"
            }
          },
          "metadata": {},
          "execution_count": 6
        }
      ]
    },
    {
      "cell_type": "markdown",
      "source": [
        "## `IF` y `ELSE`\n",
        "\n",
        "Los comandos `if` y `else` son dos estructuras condicionales. El comando `if` ejecutará el bloque de comandos en caso de que la condición citada sea  **verdadera**. El comando `else` ejecutará el bloque de comandos en el caso de que la condicional de `if` sea **falsa**."
      ],
      "metadata": {
        "id": "qXZqg9aYEhAh"
      }
    },
    {
      "cell_type": "markdown",
      "source": [
        "El comando `if` es una palabra clave en Python que significa \"si\". Este se emplea para conformar la estructura condicional, que te permite verificar si una determinada condición es verdadera o falsa e, inmediatamente después, ejecute un bloque de código específico dependiendo del resultado de la verificación. La sintaxis para usar el comando `if` es:\n",
        "\n",
        "\n",
        "\n",
        "```\n",
        "if condicion:\n",
        "    # Realiza algo\n",
        "```\n",
        "\n"
      ],
      "metadata": {
        "id": "EIhlqHXd2Gil"
      }
    },
    {
      "cell_type": "code",
      "source": [
        "numero = float(input(\"Ingrese un número: \"))\n",
        "if numero % 2 == 0:\n",
        "    print (\"El número es PAR\")\n",
        "else:\n",
        "    print (\"El número es IMPAR\")\n"
      ],
      "metadata": {
        "id": "S2S6XAFz-czM",
        "outputId": "2f43fd17-534d-4e15-c667-b9665081e40e",
        "colab": {
          "base_uri": "https://localhost:8080/"
        }
      },
      "execution_count": null,
      "outputs": [
        {
          "output_type": "stream",
          "name": "stdout",
          "text": [
            "Ingrese un número: 65165151651954\n",
            "El número es PAR\n"
          ]
        }
      ]
    },
    {
      "cell_type": "code",
      "source": [
        "numero = float(input(\"Ingrese un número: \"))\n",
        "if numero > 0:\n",
        "    print (\"El número es POSITIVO\")\n",
        "elif numero == 0:\n",
        "    print (\"Vuelve a intentarlo, papito\")\n",
        "else:\n",
        "    print (\"El número es NEGATIVO\")"
      ],
      "metadata": {
        "id": "YHkwMMyY-c1r",
        "outputId": "1d4315f9-a3db-415a-c2ce-dae25dd07aa1",
        "colab": {
          "base_uri": "https://localhost:8080/"
        }
      },
      "execution_count": null,
      "outputs": [
        {
          "output_type": "stream",
          "name": "stdout",
          "text": [
            "Ingrese un número: -1\n",
            "El número es NEGATIVO\n"
          ]
        }
      ]
    },
    {
      "cell_type": "code",
      "source": [
        "edad_maria = int(input('Ingrese la edad de María: '))\n",
        "edad_beatriz = int(input('Ingrese la edad de Beatriz: '))\n",
        "\n",
        "if edad_maria > edad_beatriz:\n",
        "  print('María es mayor que Beatriz.')"
      ],
      "metadata": {
        "id": "RyRva2D_lOrg",
        "outputId": "9bfe9d68-cc4d-41ea-df2a-4425d5db22d0",
        "colab": {
          "base_uri": "https://localhost:8080/"
        }
      },
      "execution_count": null,
      "outputs": [
        {
          "output_type": "stream",
          "name": "stdout",
          "text": [
            "Ingrese la edad de María: 70\n",
            "Ingrese la edad de Beatriz: 69\n",
            "María es mayor que Beatriz.\n"
          ]
        }
      ]
    },
    {
      "cell_type": "code",
      "source": [
        "edad_maria = int(input('Ingrese la edad de María: '))\n",
        "edad_beatriz = int(input('Ingrese la edad de Beatriz: '))\n",
        "\n",
        "if edad_maria < edad_beatriz:\n",
        "  print('María es menor que Beatriz.')"
      ],
      "metadata": {
        "id": "mkKcopIzlOxf",
        "outputId": "3879895b-fb30-4c10-f144-0dff03d07c84",
        "colab": {
          "base_uri": "https://localhost:8080/"
        }
      },
      "execution_count": null,
      "outputs": [
        {
          "output_type": "stream",
          "name": "stdout",
          "text": [
            "Ingrese la edad de María: 70\n",
            "Ingrese la edad de Beatriz: 71\n",
            "María es menor que Beatriz.\n"
          ]
        }
      ]
    },
    {
      "cell_type": "code",
      "source": [
        "empleados_empresa_1 = int(input('Ingrese la cantidad de empleados de la empresa 1: '))\n",
        "empleados_empresa_2 = int(input('Ingrese la cantidad de empleados de la empresa 2: '))\n",
        "\n",
        "if empleados_empresa_1 >= empleados_empresa_2:\n",
        "  print('La empresa 1 tiene una cantidad de empleados mayor o igual a la empresa 2.')"
      ],
      "metadata": {
        "id": "K28o8d-_lO0O",
        "outputId": "680c9789-5bf9-4dbe-bf75-c52db46e60d6",
        "colab": {
          "base_uri": "https://localhost:8080/"
        }
      },
      "execution_count": null,
      "outputs": [
        {
          "output_type": "stream",
          "name": "stdout",
          "text": [
            "Ingrese la cantidad de empleados de la empresa 1: 100\n",
            "Ingrese la cantidad de empleados de la empresa 2: 99\n",
            "La empresa 1 tiene una cantidad de empleados mayor o igual a la empresa 2.\n"
          ]
        }
      ]
    },
    {
      "cell_type": "code",
      "source": [
        "empleados_empresa_1 = int(input('Ingrese la cantidad de empleados de la empresa 1: '))\n",
        "empleados_empresa_2 = int(input('Ingrese la cantidad de empleados de la empresa 2: '))\n",
        "\n",
        "if empleados_empresa_1 <= empleados_empresa_2:\n",
        "  print('La empresa 1 tiene una cantidad de empleados menor o igual a la empresa 2.')"
      ],
      "metadata": {
        "id": "3adLzuuyme1u",
        "outputId": "3d0a3979-f9c3-488d-b2ce-27b0952431c1",
        "colab": {
          "base_uri": "https://localhost:8080/"
        }
      },
      "execution_count": null,
      "outputs": [
        {
          "output_type": "stream",
          "name": "stdout",
          "text": [
            "Ingrese la cantidad de empleados de la empresa 1: 500\n",
            "Ingrese la cantidad de empleados de la empresa 2: 501\n",
            "La empresa 1 tiene una cantidad de empleados menor o igual a la empresa 2.\n"
          ]
        }
      ]
    },
    {
      "cell_type": "code",
      "source": [
        "libro_1 = input('Ingrese el título del 1° libro: ')\n",
        "libro_2 = input('Ingrese el título del 2° libro: ')\n",
        "\n",
        "if libro_1 == libro_2:\n",
        "  print('Los libros tienen el mismo título.')"
      ],
      "metadata": {
        "id": "xx_Yzi2jme4P",
        "outputId": "a2b41796-0a23-4d49-b3e9-445e62088a74",
        "colab": {
          "base_uri": "https://localhost:8080/"
        }
      },
      "execution_count": null,
      "outputs": [
        {
          "output_type": "stream",
          "name": "stdout",
          "text": [
            "Ingrese el título del 1° libro: Data\n",
            "Ingrese el título del 2° libro: Data\n",
            "Los libros tienen el mismo título.\n"
          ]
        }
      ]
    },
    {
      "cell_type": "code",
      "source": [
        "libro_1 = input('Ingrese el título del 1° libro: ')\n",
        "libro_2 = input('Ingrese el título del 2° libro: ')\n",
        "\n",
        "if libro_1 != libro_2:\n",
        "  print('Los libros tienen títulos diferentes.')"
      ],
      "metadata": {
        "id": "Huu0lBr3nNYn",
        "outputId": "ee2d80ba-a1ff-4f5e-e95b-c32866c2fad6",
        "colab": {
          "base_uri": "https://localhost:8080/"
        }
      },
      "execution_count": null,
      "outputs": [
        {
          "output_type": "stream",
          "name": "stdout",
          "text": [
            "Ingrese el título del 1° libro: Data\n",
            "Ingrese el título del 2° libro: Science\n",
            "Los libros tienen títulos diferentes.\n"
          ]
        }
      ]
    },
    {
      "cell_type": "markdown",
      "source": [
        "Ya el comando `else` en Python se usa en junción con la palabra clave `if` para formar una estructura condicional. la sintaxis para usar el `else` es:\n",
        "\n",
        "```\n",
        "if condicion:\n",
        "  # codigo en caso de que sea verdad\n",
        "else:\n",
        "  # codigo en caso de que sea falso\n",
        "```\n",
        "\n",
        "el comando `else` se ejecuta cuando la condición verificada por el `if` es evaluada como `False`."
      ],
      "metadata": {
        "id": "27RW2v_sIKct"
      }
    },
    {
      "cell_type": "code",
      "source": [
        "nota = float(input('Ingrese la nota del alumno: '))\n",
        "\n",
        "if nota >= 7:\n",
        "  print('El alumno está aprobado.')\n",
        "else:\n",
        "  print('El alumno está reprobado.')"
      ],
      "metadata": {
        "id": "ZTfNJd_f-aOq",
        "outputId": "94eb1bf0-d14b-479c-f680-baa9ad53675c",
        "colab": {
          "base_uri": "https://localhost:8080/"
        }
      },
      "execution_count": null,
      "outputs": [
        {
          "output_type": "stream",
          "name": "stdout",
          "text": [
            "Ingrese la nota del alumno: 6\n",
            "El alumno está reprobado.\n"
          ]
        }
      ]
    },
    {
      "cell_type": "code",
      "source": [
        "nota = float(input('Ingrese la nota del alumno: '))\n",
        "\n",
        "if nota >= 7:\n",
        "  print('El alumno está aprobado.')\n",
        "else:\n",
        "  print('El alumno está reprobado.')"
      ],
      "metadata": {
        "id": "LPOb5MkV-btq",
        "outputId": "b6d5fe3f-becf-49a5-e1d1-27f2ed00d639",
        "colab": {
          "base_uri": "https://localhost:8080/"
        }
      },
      "execution_count": null,
      "outputs": [
        {
          "output_type": "stream",
          "name": "stdout",
          "text": [
            "Ingrese la nota del alumno: 100\n",
            "El alumno está aprobado.\n"
          ]
        }
      ]
    },
    {
      "cell_type": "code",
      "source": [
        "nota = float(input('Ingrese la nota del alumno: '))\n",
        "\n",
        "if nota >= 7:\n",
        "  print('El alumno está aprobado.')\n",
        "if 7 > nota >= 5:\n",
        "  print (\"El alumno requiere Recuperación\")\n",
        "else:\n",
        "  print('El alumno está reprobado.')"
      ],
      "metadata": {
        "id": "KhbYpPiy5d9v",
        "outputId": "31263e8e-af68-4bc5-8f10-ce945f1ffc77",
        "colab": {
          "base_uri": "https://localhost:8080/"
        }
      },
      "execution_count": null,
      "outputs": [
        {
          "output_type": "stream",
          "name": "stdout",
          "text": [
            "Ingrese la nota del alumno: 4\n",
            "El alumno está reprobado.\n"
          ]
        }
      ]
    },
    {
      "cell_type": "markdown",
      "source": [
        "---\n",
        "**Situación:**\n",
        "\n",
        "Recibiremos el promedio de la nota de los estudiantes y necesitamos de un algoritmo que ejecute el análisis y determine si el estudiante fue **Aprobado** o **Reprobado**, mostrando un mensaje del resultado. Para ser aprobado, el promedio necesita ser igual o superior a 7.0."
      ],
      "metadata": {
        "id": "BqORg85XX-Nl"
      }
    },
    {
      "cell_type": "code",
      "source": [
        "nota = float(input('Ingrese la nota del alumno: '))\n",
        "\n",
        "if nota >= 7:\n",
        "  print('El alumno está aprobado.')\n",
        "if 7 > nota >= 5:\n",
        "  print (\"El alumno requiere Recuperación\")\n",
        "else:\n",
        "  print('El alumno está reprobado.')"
      ],
      "metadata": {
        "id": "UukCN4AQ-YYW"
      },
      "execution_count": null,
      "outputs": []
    },
    {
      "cell_type": "markdown",
      "source": [
        "Ahora, nuestra institución educativa estableció que las personas que tengan el promedio entre 5.0 y 7.0 pueden participar del curso de **Recuperación** durante las vacaciones para lograr aprobar.\n",
        "\n",
        "Entonces podemos apoyarnos en un conjunto de `if`s para poder estructurar esta nueva condición."
      ],
      "metadata": {
        "id": "bD9O17HB6LUo"
      }
    },
    {
      "cell_type": "markdown",
      "source": [
        "Observa que en casos con 3 situaciones como este necesitamos definir bien nuestras condiciones. Pues, si realizamos una condición con `else` al final, este irá a considerar solamente la condición `if` inmediatamente anterior para generar la salida en caso de que el resultado de su operación lógica sea **falso** dando como resultado, dos o más ejecuciones.\n",
        "\n",
        "Por ejemplo:"
      ],
      "metadata": {
        "id": "D5e2mByjvycO"
      }
    },
    {
      "cell_type": "markdown",
      "source": [
        "## `ELIF`\n",
        "\n",
        "El comando `elif` es una palabra clave en Python que significa \"si no, si\" y lo podemos considerar una *contracción* entre `else` e `if`. Se utiliza en conjunto con la palabra clave `if` para formar una estructura condicional en cadena."
      ],
      "metadata": {
        "id": "04T5g-7h4zWx"
      }
    },
    {
      "cell_type": "markdown",
      "source": [
        "la sintaxis para utilizar el comando `elif` es:\n",
        "\n",
        "```\n",
        "if condicion1:\n",
        "    # Realiza algo\n",
        "elif condicion2:\n",
        "    # Realiza otra cosa\n",
        "elif condicion3:\n",
        "    # Realiza otra cosa\n",
        "else:\n",
        "    # Realiza algo diferente\n",
        "```\n",
        "\n",
        "El comando `elif` permite que puedas verificar varias condiciones en cadena, economizando espacio en tu código. Si la primera condición se evalúa como `False`, el interpretador de Python evaluará la próxima condición con el `elif`. Ello continuará hasta que una condición sea evaluada como `True` o hasta que el `else` sea alcazado. Si ninguna de las condiciones es evaluada como `True`, la ejecución del código del comando `else` será iniciada."
      ],
      "metadata": {
        "id": "rNBHr5mm1Lm6"
      }
    },
    {
      "cell_type": "markdown",
      "source": [
        "Vamos a emplear el mismo caso anterior:"
      ],
      "metadata": {
        "id": "MVoykFbB4bd4"
      }
    },
    {
      "cell_type": "code",
      "source": [
        "nota = float(input('Ingrese la nota del alumno: '))\n",
        "\n",
        "if nota >= 7:\n",
        "  print('El alumno está aprobado.')\n",
        "elif 7 > nota >= 5:\n",
        "  print (\"El alumno requiere Recuperación\")\n",
        "else:\n",
        "  print('El alumno está reprobado.')"
      ],
      "metadata": {
        "id": "QFamB78s-TW_",
        "outputId": "789937c7-b073-4245-a6b1-da804479fee4",
        "colab": {
          "base_uri": "https://localhost:8080/"
        }
      },
      "execution_count": null,
      "outputs": [
        {
          "output_type": "stream",
          "name": "stdout",
          "text": [
            "Ingrese la nota del alumno: 7\n",
            "El alumno está aprobado.\n"
          ]
        }
      ]
    },
    {
      "cell_type": "code",
      "source": [
        "nota = float(input('Ingrese la nota del alumno: '))\n",
        "\n",
        "if nota >= 7:\n",
        "  print('El alumno está aprobado.')\n",
        "elif 7 > nota >= 5:\n",
        "  print (\"El alumno requiere Recuperación\")\n",
        "else:\n",
        "  print('El alumno está reprobado.')"
      ],
      "metadata": {
        "id": "nuScbnHF-TfK",
        "outputId": "ae88ea98-d597-479b-ca22-7bc469441e20",
        "colab": {
          "base_uri": "https://localhost:8080/"
        }
      },
      "execution_count": null,
      "outputs": [
        {
          "output_type": "stream",
          "name": "stdout",
          "text": [
            "Ingrese la nota del alumno: 6.9\n",
            "El alumno requiere Recuperación\n"
          ]
        }
      ]
    },
    {
      "cell_type": "code",
      "source": [
        "nota = float(input('Ingrese la nota del alumno: '))\n",
        "\n",
        "if nota >= 7:\n",
        "  print('El alumno está aprobado.')\n",
        "elif 7 > nota >= 5:\n",
        "  print (\"El alumno requiere Recuperación\")\n",
        "else:\n",
        "  print('El alumno está reprobado.')"
      ],
      "metadata": {
        "id": "8FXaA8qL7OHp",
        "outputId": "4c2dacaa-f047-40ec-e082-091e2d7a7a7f",
        "colab": {
          "base_uri": "https://localhost:8080/"
        }
      },
      "execution_count": null,
      "outputs": [
        {
          "output_type": "stream",
          "name": "stdout",
          "text": [
            "Ingrese la nota del alumno: 4.9\n",
            "El alumno está reprobado.\n"
          ]
        }
      ]
    },
    {
      "cell_type": "code",
      "source": [
        "temperatura = float(input('Ingrese la temperatura actual: '))\n",
        "\n",
        "if temperatura > 30:\n",
        "  print ('Está caliente.')\n",
        "elif 30 > temperatura >= 25:\n",
        "  print (\"Está templado\")\n",
        "else:\n",
        "  print (\"Está frío\")"
      ],
      "metadata": {
        "id": "1GWIcr-r7Wy3",
        "outputId": "773200a7-e1cf-4118-bf66-d4db5b47a2c0",
        "colab": {
          "base_uri": "https://localhost:8080/"
        }
      },
      "execution_count": null,
      "outputs": [
        {
          "output_type": "stream",
          "name": "stdout",
          "text": [
            "Ingrese la temperatura actual: 35\n",
            "Está caliente.\n"
          ]
        }
      ]
    },
    {
      "cell_type": "code",
      "source": [
        "temperatura = float(input('Ingrese la temperatura actual: '))\n",
        "\n",
        "if temperatura > 30:\n",
        "  print ('Está caliente.')\n",
        "elif 30 > temperatura >= 25:\n",
        "  print (\"Está templado\")\n",
        "else:\n",
        "  print (\"Está frío\")"
      ],
      "metadata": {
        "id": "CXy5hxTs71me",
        "outputId": "5dacce2c-fe74-4292-fc81-d1fc2de5ec70",
        "colab": {
          "base_uri": "https://localhost:8080/"
        }
      },
      "execution_count": null,
      "outputs": [
        {
          "output_type": "stream",
          "name": "stdout",
          "text": [
            "Ingrese la temperatura actual: 28.5\n",
            "Está templado\n"
          ]
        }
      ]
    },
    {
      "cell_type": "code",
      "source": [
        "temperatura = float(input('Ingrese la temperatura actual: '))\n",
        "\n",
        "if temperatura > 30:\n",
        "  print ('Está caliente.')\n",
        "elif 30 > temperatura >= 25:\n",
        "  print (\"Está templado\")\n",
        "else:\n",
        "  print (\"Está frío\")"
      ],
      "metadata": {
        "id": "TG8jFliT71pu",
        "outputId": "bc68b0e2-492b-4da6-a33d-9cf76feca075",
        "colab": {
          "base_uri": "https://localhost:8080/"
        }
      },
      "execution_count": null,
      "outputs": [
        {
          "output_type": "stream",
          "name": "stdout",
          "text": [
            "Ingrese la temperatura actual: 24\n",
            "Está frío\n"
          ]
        }
      ]
    },
    {
      "cell_type": "code",
      "source": [
        "temperatura = float(input('Ingrese la temperatura actual: '))\n",
        "\n",
        "if temperatura > 30:\n",
        "    print('Está caliente.')\n",
        "elif temperatura >= 25 and temperatura < 30:\n",
        "    print(\"Está templado\")\n",
        "else:\n",
        "    print(\"Está frío\")"
      ],
      "metadata": {
        "id": "-WIP-mfp8fSJ",
        "outputId": "63d3786e-4050-40bf-fa85-5157dd4f8f0b",
        "colab": {
          "base_uri": "https://localhost:8080/"
        }
      },
      "execution_count": null,
      "outputs": [
        {
          "output_type": "stream",
          "name": "stdout",
          "text": [
            "Ingrese la temperatura actual: 27.5\n",
            "Está templado\n"
          ]
        }
      ]
    },
    {
      "cell_type": "code",
      "source": [
        "invitados = -1\n",
        "\n",
        "while invitados < 0:\n",
        "  invitados = int(input('Ingrese la cantidad de invitados: '))\n",
        "  if invitados <0:\n",
        "    print ('La cantidad de invitados no puede ser negativa.')\n",
        "\n",
        "if invitados > 50:\n",
        "  print (\"¡Pongamos música de fiesta!\")\n",
        "elif invitados >= 20 and invitados <50:\n",
        "  print (\"¡Pongámos música de fondo!\")\n",
        "elif invitados >0 and invitados <20:\n",
        "  print (\"¡Pongámos música tranquila!\")\n",
        "else:\n",
        "  print (\"¡No hay música y sin música, no hay fiesta!\")"
      ],
      "metadata": {
        "id": "LXni_LnU9020",
        "outputId": "51cb1888-94c4-4544-d8df-20ba94f161b1",
        "colab": {
          "base_uri": "https://localhost:8080/"
        }
      },
      "execution_count": null,
      "outputs": [
        {
          "output_type": "stream",
          "name": "stdout",
          "text": [
            "Ingrese la cantidad de invitados: -1\n",
            "La cantidad de invitados no puede ser negativa.\n",
            "Ingrese la cantidad de invitados: 1\n",
            "¡Pongámos música tranquila!\n"
          ]
        }
      ]
    },
    {
      "cell_type": "code",
      "source": [
        "invitados = -1 #Inicializamos con un valor inválido\n",
        "\n",
        "while invitados < 0:\n",
        "  invitados = int(input('Ingrese la cantidad de invitados: '))\n",
        "  if invitados <0:\n",
        "    print ('La cantidad de invitados no puede ser negativa.')\n",
        "\n",
        "if invitados > 50:\n",
        "  print (\"¡Pongamos música de fiesta!\")\n",
        "elif invitados >= 20 and invitados <50:\n",
        "  print (\"¡Pongámos música de fondo!\")\n",
        "elif invitados >0 and invitados <20:\n",
        "  print (\"¡Pongámos música tranquila!\")\n",
        "else:\n",
        "  print (\"¡No hay música y sin música, no hay fiesta!\")"
      ],
      "metadata": {
        "id": "jDPvA8CiB48l",
        "outputId": "4c3f1446-6893-4a3a-9561-d8919ef24a1d",
        "colab": {
          "base_uri": "https://localhost:8080/"
        }
      },
      "execution_count": null,
      "outputs": [
        {
          "output_type": "stream",
          "name": "stdout",
          "text": [
            "Ingrese la cantidad de invitados: 0\n",
            "¡No hay música y sin música, no hay fiesta!\n"
          ]
        }
      ]
    },
    {
      "cell_type": "code",
      "source": [
        "invitados = -1 #Inicializamos con un valor inválido\n",
        "\n",
        "while invitados < 0:\n",
        "  invitados = int(input('Ingrese la cantidad de invitados: '))\n",
        "  if invitados <0:\n",
        "    print ('La cantidad de invitados no puede ser negativa.')\n",
        "\n",
        "if invitados > 50:\n",
        "  print (\"¡Pongamos música de fiesta!\")\n",
        "elif invitados >= 20 and invitados <50:\n",
        "  print (\"¡Pongámos música de fondo!\")\n",
        "elif invitados >0 and invitados <20:\n",
        "  print (\"¡Pongámos música tranquila!\")\n",
        "else:\n",
        "  print (\"¡No hay música y sin música, no hay fiesta!\")"
      ],
      "metadata": {
        "id": "go3MZhKZCb5A",
        "outputId": "888adf30-07f1-4b8e-d22e-02aed63a28a0",
        "colab": {
          "base_uri": "https://localhost:8080/"
        }
      },
      "execution_count": null,
      "outputs": [
        {
          "output_type": "stream",
          "name": "stdout",
          "text": [
            "Ingrese la cantidad de invitados: 21\n",
            "¡Pongámos música de fondo!\n"
          ]
        }
      ]
    },
    {
      "cell_type": "code",
      "source": [
        "invitados = -1 #Inicializamos con un valor inválido\n",
        "\n",
        "while invitados < 0:\n",
        "  invitados = int(input('Ingrese la cantidad de invitados: '))\n",
        "  if invitados <0:\n",
        "    print ('La cantidad de invitados no puede ser negativa.')\n",
        "\n",
        "if invitados > 50:\n",
        "  print (\"¡Pongamos música de fiesta!\")\n",
        "elif invitados >= 20 and invitados <50:\n",
        "  print (\"¡Pongámos música de fondo!\")\n",
        "elif invitados >0 and invitados <20:\n",
        "  print (\"¡Pongámos música tranquila!\")\n",
        "else:\n",
        "  print (\"¡No hay música y sin música, no hay fiesta!\")"
      ],
      "metadata": {
        "id": "ylxELSlRCcCC",
        "outputId": "ea986194-f3fb-4bfe-84d1-6598d32097f5",
        "colab": {
          "base_uri": "https://localhost:8080/"
        }
      },
      "execution_count": null,
      "outputs": [
        {
          "output_type": "stream",
          "name": "stdout",
          "text": [
            "Ingrese la cantidad de invitados: 100\n",
            "¡Pongamos música de fiesta!\n"
          ]
        }
      ]
    },
    {
      "cell_type": "markdown",
      "source": [
        "## Operadores\n",
        "\n",
        "Durante la construcción de comandos a veces necesitamos de una elaboración mayor de la expresión condicional, necesitando que algunos operadores lógicos se encuentren integrados."
      ],
      "metadata": {
        "id": "Tf1wSOem6iwZ"
      }
    },
    {
      "cell_type": "markdown",
      "source": [
        "### `AND`, `OR`, `NOT`\n",
        "\n",
        "Los operadores lógicos `and`, `or` y `not` son usados para combinar expresiones lógicas en Python. Ellos son usados frecuentemente en conjunto con el comando `if` para crear estructuras condicionales más complejas.\n"
      ],
      "metadata": {
        "id": "GFIZnRWXGPWO"
      }
    },
    {
      "cell_type": "markdown",
      "source": [
        "- `AND` es usado para verificar si dos condiciones son verdaderas. La expresión lógica¹ `x and y` se evalúa como `True` tan solo si **ambas condiciones `x` y `y` son verdaderas**, y como `False` en caso contrario.\n",
        "\n",
        "- `OR` es usado para verificar si al menos una de las condiciones es verdadera. La expresión lógica `x or y` se evalúa como `True` **si al menos una de las condiciones `x` o `y` es verdadera**, y como `False` si ambas condiciones son falsas.\n",
        "\n",
        "- `NOT` es usado para **negar una condición**. La expresión lógica `not x` es evaluada como `True` si la condición x es falsa, y como `False` si la condición x es verdadera.\n",
        "\n",
        "¹ Una expresión lógica es una declaración que puede ser evaluada como verdadera o falsa. Ella se compone por operandos lógicos² y por operadores lógicos³, que son usados ​​para combinar varias expresiones lógicas en una única expresión.\n",
        "\n",
        "² Los operandos lógicos son los elementos que son comparados o evaluados en una expresión lógica. Ellos son generalmente valores verdaderos o falsos, pero también pueden ser expresiones lógicas más complejas. En Python, los operandos lógicos son los valores `True` y `False`.\n",
        "\n",
        "³ Los operadores lógicos son ls símbolos o palabras clave que son usados ​​para combinar varias expresiones lógicas en una única expresión. En Python, los operadores lógicos son `and`, `or` y `not`, bien como las palabras clave `if`, `elif` e `else`."
      ],
      "metadata": {
        "id": "Z_dgAoHXJbzB"
      }
    },
    {
      "cell_type": "markdown",
      "source": [
        "> Operadores lógicos más comunes\n",
        "\n",
        "|a|b|AND|OR|NOT|\n",
        "|-|-|-|-|-|\n",
        "|0|0|0|0|1\n",
        "|0|1|0|1|-\n",
        "|1|0|0|1|-\n",
        "|1|1|1|1|0\n"
      ],
      "metadata": {
        "id": "2E5aUogf-49u"
      }
    },
    {
      "cell_type": "code",
      "source": [
        "v = True\n",
        "f = False"
      ],
      "metadata": {
        "id": "DFKmpvmS-Pa6"
      },
      "execution_count": null,
      "outputs": []
    },
    {
      "cell_type": "code",
      "source": [
        "if f and f:\n",
        "  print('Verdadero')\n",
        "else:\n",
        "  print('Falso')"
      ],
      "metadata": {
        "id": "W5BIrpOD-PeI",
        "outputId": "04977106-6ef0-4fad-df35-0e5bf3d25b6a",
        "colab": {
          "base_uri": "https://localhost:8080/"
        }
      },
      "execution_count": null,
      "outputs": [
        {
          "output_type": "stream",
          "name": "stdout",
          "text": [
            "Falso\n"
          ]
        }
      ]
    },
    {
      "cell_type": "code",
      "source": [
        "if f or f:\n",
        "  print('Verdadero')\n",
        "else:\n",
        "  print('Falso')"
      ],
      "metadata": {
        "id": "fpDhYxq4-PiM",
        "outputId": "6a792785-e695-4288-9b6f-3b3fe3172553",
        "colab": {
          "base_uri": "https://localhost:8080/"
        }
      },
      "execution_count": null,
      "outputs": [
        {
          "output_type": "stream",
          "name": "stdout",
          "text": [
            "Falso\n"
          ]
        }
      ]
    },
    {
      "cell_type": "code",
      "source": [
        "if not f:\n",
        "  print('Verdadero')\n",
        "else:\n",
        "  print('Falso')"
      ],
      "metadata": {
        "id": "Xv_4TH-mHKVg",
        "outputId": "e0103ca4-4031-46c8-d229-e2e7b260dcff",
        "colab": {
          "base_uri": "https://localhost:8080/"
        }
      },
      "execution_count": null,
      "outputs": [
        {
          "output_type": "stream",
          "name": "stdout",
          "text": [
            "Verdadero\n"
          ]
        }
      ]
    },
    {
      "cell_type": "markdown",
      "source": [
        "### `IN`\n",
        "\n",
        "Es usado para verificar si un elemento está presente en una lista, tupla u otra colección de conjunto. La expresión `x in y` se evalúa como `True` si el elemento `x` esta presente na variávelen la variable de conjunto `y`, y como `False` en caso contrario."
      ],
      "metadata": {
        "id": "w7EXG1dhWtja"
      }
    },
    {
      "cell_type": "markdown",
      "source": [
        "Podemos verificarlo con variables de texto.\n",
        "\n",
        "---\n",
        "\n",
        "**Situación:**\n",
        "\n",
        "En la escuela nos entregaron una lista con nombres de estudiantes que fueron aprobados según el promedio del semestre, pero es necesario verificar si algunos nombres están en esa lista para confirmar que los datos estén correctos.\n",
        "\n",
        "La lista distribuida puede ser observada a continuación:\n",
        "\n",
        "```\n",
        "lista = 'Juan Pérez, María González, Pedro Rodríguez, Ana López, Carlos Martínez,\n",
        "    Laura Sánchez, José García, Elena Fernández, Luis Morales, Carmen Torres,\n",
        "    David Ruiz, Isabel Ramírez, Javier Díaz, Sara Herrera, Miguel Castro,\n",
        "    Patricia Ortega, Francisco Vargas, Marta Jiménez, Manuel Medina, Rosa Molina,\n",
        "    Alejandro Silva, Silvia Ruiz, Andrés Torres, Natalia Soto, Diego Guerrero,\n",
        "    Paula Ríos, Ricardo Navarro, Alicia Cordero, Carlos Vidal, Lorena Gómez'\n",
        "```\n",
        "\n",
        "Los nombres que necesitas verificar son los siguientes:\n",
        "\n",
        "```\n",
        "nombre_1 = 'Miguel Castro'\n",
        "nombre_2 = 'Marcelo Noguera'\n",
        "```"
      ],
      "metadata": {
        "id": "enJNp6JenQbq"
      }
    },
    {
      "cell_type": "code",
      "source": [
        "lista = 'Juan Pérez, María González, Pedro Rodríguez, Ana López, Carlos Martínez, Laura Sánchez, José García, Elena Fernández, Luis Morales, Carmen Torres, David Ruiz, Isabel Ramírez, Javier Díaz, Sara Herrera, Miguel Castro, Patricia Ortega, Francisco Vargas, Marta Jiménez, Manuel Medina, Rosa Molina, Alejandro Silva, Silvia Ruiz, Andrés Torres, Natalia Soto, Diego Guerrero, Paula Ríos, Ricardo Navarro, Alicia Cordero, Carlos Vidal, Lorena Gómez'"
      ],
      "metadata": {
        "id": "gPPN9BCT-Mki"
      },
      "execution_count": null,
      "outputs": []
    },
    {
      "cell_type": "code",
      "source": [
        "nombre_1 = 'Miguel Castro'\n",
        "nombre_2 = 'Marcelo Noguera'"
      ],
      "metadata": {
        "id": "GINbG3Fa-Mnb"
      },
      "execution_count": null,
      "outputs": []
    },
    {
      "cell_type": "code",
      "source": [
        "if nombre_1 in lista:\n",
        "  print (\"El Estudiante aprobó\")\n",
        "else:\n",
        "  print (\"El Estudiante reprobó\")"
      ],
      "metadata": {
        "id": "hk-RhNRT-Mp7",
        "outputId": "36183cc3-6570-4833-a055-1c7f21fbfde6",
        "colab": {
          "base_uri": "https://localhost:8080/"
        }
      },
      "execution_count": null,
      "outputs": [
        {
          "output_type": "stream",
          "name": "stdout",
          "text": [
            "El Estudiante aprobó\n"
          ]
        }
      ]
    },
    {
      "cell_type": "code",
      "source": [
        "if nombre_2 in lista:\n",
        "  print (\"El Estudiante aprobó\")\n",
        "else:\n",
        "  print (\"El Estudiante reprobó\")"
      ],
      "metadata": {
        "id": "ZJDNswYVNMWF",
        "outputId": "d7b6f76d-496e-442c-eaad-bcf0415ec45c",
        "colab": {
          "base_uri": "https://localhost:8080/"
        }
      },
      "execution_count": null,
      "outputs": [
        {
          "output_type": "stream",
          "name": "stdout",
          "text": [
            "El Estudiante reprobó\n"
          ]
        }
      ]
    },
    {
      "cell_type": "code",
      "source": [
        "frase = \"La programación es divertida\"\n",
        "palabra_a_buscar = \"programación\"\n",
        "\n",
        "if palabra_a_buscar in frase:\n",
        "    print(\"La palabra está en la frase.\")\n",
        "else:\n",
        "    print(\"La palabra no está en la frase.\")"
      ],
      "metadata": {
        "id": "TCEIFRr8QOqk",
        "outputId": "11d0d18a-1432-4e23-a137-0446db83c4c1",
        "colab": {
          "base_uri": "https://localhost:8080/"
        }
      },
      "execution_count": null,
      "outputs": [
        {
          "output_type": "stream",
          "name": "stdout",
          "text": [
            "La palabra está en la frase.\n"
          ]
        }
      ]
    },
    {
      "cell_type": "code",
      "source": [
        "frutas_favoritas = [\"manzana\", \"banana\", \"naranja\"]\n",
        "fruta_a_verificar = \"kiwi\"  # Puedes cambiar de fruta\n",
        "\n",
        "if fruta_a_verificar in frutas_favoritas:\n",
        "    print(\"La fruta está en la lista.\")\n",
        "else:\n",
        "    print(\"La fruta no está en la lista.\")"
      ],
      "metadata": {
        "id": "5sXz5QCrQedB",
        "outputId": "99685b2c-1a25-43b6-847c-4e8d10152a49",
        "colab": {
          "base_uri": "https://localhost:8080/"
        }
      },
      "execution_count": null,
      "outputs": [
        {
          "output_type": "stream",
          "name": "stdout",
          "text": [
            "La fruta no está en la lista.\n"
          ]
        }
      ]
    },
    {
      "cell_type": "markdown",
      "source": [
        "# Es hora de practicar lo visto en este apartado\n"
      ],
      "metadata": {
        "id": "BuvtLpEQRre4"
      }
    },
    {
      "cell_type": "code",
      "source": [
        "num_1 = int(input('Ingrese el primer número: '))\n",
        "num_2 = int(input('Ingrese el segundo número: '))\n",
        "num_3 = int(input('Ingrese el tercer número: '))\n",
        "\n",
        "if num_1 > num_2 and num_1 > num_3:\n",
        "  print('El primer número es el mayor.')\n",
        "elif num_2 > num_1 and num_2 > num_3:\n",
        "  print('El segundo número es el mayor.')\n",
        "elif num_3 > num_1 and num_3 > num_2:\n",
        "  print('El tercer número es el mayor')\n",
        "else:\n",
        "  print('Intentalo más tarde')"
      ],
      "metadata": {
        "id": "A0SraJlVRw3T",
        "outputId": "f9a09492-ca9d-4cd1-89ae-72606013b5b6",
        "colab": {
          "base_uri": "https://localhost:8080/"
        }
      },
      "execution_count": null,
      "outputs": [
        {
          "output_type": "stream",
          "name": "stdout",
          "text": [
            "Ingrese el primer número: 1\n",
            "Ingrese el segundo número: 2\n",
            "Ingrese el tercer número: 3\n",
            "El tercer número es el mayor\n"
          ]
        }
      ]
    },
    {
      "cell_type": "code",
      "source": [
        "crecimiento = float(input(\"Introduce el porcentaje de crecimiento anual: \"))\n",
        "\n",
        "if crecimiento >=75:\n",
        "  print (\"El crecimiento es Positivo\")\n",
        "elif crecimiento >50 and crecimiento <75:\n",
        "  print (\"El crecimiento es Moderado\")\n",
        "elif crecimiento >25 and crecimiento <50:\n",
        "  print (\"El crecimiento es Constante\")\n",
        "elif crecimiento >1 and crecimiento <25:\n",
        "  print (\"El crecimiento es Bajo\")\n",
        "elif crecimiento <=0:\n",
        "  print (\"El crecimiento es Negativo\")"
      ],
      "metadata": {
        "id": "96Q7xpf2Rxfi",
        "outputId": "1090d532-cd34-4a5d-de28-f63d0eb7dd51",
        "colab": {
          "base_uri": "https://localhost:8080/"
        }
      },
      "execution_count": null,
      "outputs": [
        {
          "output_type": "stream",
          "name": "stdout",
          "text": [
            "Introduce el porcentaje de crecimiento anual: 75\n",
            "El crecimiento es Positivo\n"
          ]
        }
      ]
    },
    {
      "cell_type": "code",
      "source": [
        "abecedario = ['a', 'e', 'i', 'o', 'u']\n",
        "letra = input(\"Ingrese una letra:\")\n",
        "\n",
        "if letra in abecedario:\n",
        "  print(\"La letra es una vocal\")\n",
        "else:\n",
        "  print (\"La letra no es una vocal\")"
      ],
      "metadata": {
        "id": "ijGNpRWnRxiC",
        "outputId": "2065f66b-a92a-4c26-9d22-b2901d32ea12",
        "colab": {
          "base_uri": "https://localhost:8080/"
        }
      },
      "execution_count": null,
      "outputs": [
        {
          "output_type": "stream",
          "name": "stdout",
          "text": [
            "Ingrese una letra:z\n",
            "La letra no es una vocal\n"
          ]
        }
      ]
    },
    {
      "cell_type": "code",
      "source": [
        "modelo_1 = float(input(\"Ingrese el precio del primer modelo: \"))\n",
        "modelo_2 = float(input(\"Ingrese el precio del segundo modelo: \"))\n",
        "modelo_3 = float(input(\"Ingrese el precio del tercer modelo: \"))\n",
        "\n",
        "if modelo_1 < modelo_2 < modelo_3:\n",
        "  print (\"El primer modelo es el más barato\")\n",
        "elif modelo_2 < modelo_1 < modelo_3:\n",
        "  print (\"El segundo modelo es el más barato\")\n",
        "elif modelo_3 < modelo_1 < modelo_2:\n",
        "  print (\"El tercer modelo es el más barato\")\n",
        "elif modelo_1 > modelo_2 > modelo_3:\n",
        "  print (\"El primer modelo es el más alto\")\n",
        "elif modelo_2 > modelo_3 > modelo_1:\n",
        "  print (\"El segundo modelo es el más alto\")\n",
        "elif modelo_3 > modelo_1 > modelo_2:\n",
        "  print (\"El tercer modelo es el más alto\")"
      ],
      "metadata": {
        "id": "bgeJ8vAWRxkK",
        "outputId": "8fef7c58-bf41-4423-c897-9340bdb1e6f5",
        "colab": {
          "base_uri": "https://localhost:8080/"
        }
      },
      "execution_count": null,
      "outputs": [
        {
          "output_type": "stream",
          "name": "stdout",
          "text": [
            "Ingrese el precio del primer modelo: 1500\n",
            "Ingrese el precio del segundo modelo: 5000.1\n",
            "Ingrese el precio del tercer modelo: 16000.02\n",
            "El primer modelo es el más barato\n"
          ]
        }
      ]
    },
    {
      "cell_type": "code",
      "source": [],
      "metadata": {
        "id": "23P1WnzURxmU"
      },
      "execution_count": null,
      "outputs": []
    },
    {
      "cell_type": "code",
      "source": [],
      "metadata": {
        "id": "TO_tkEr9RxoE"
      },
      "execution_count": null,
      "outputs": []
    },
    {
      "cell_type": "code",
      "source": [],
      "metadata": {
        "id": "PAk8uknWRxqL"
      },
      "execution_count": null,
      "outputs": []
    },
    {
      "cell_type": "code",
      "source": [],
      "metadata": {
        "id": "gITc1odORxsM"
      },
      "execution_count": null,
      "outputs": []
    },
    {
      "cell_type": "code",
      "source": [],
      "metadata": {
        "id": "S3XFscnhRxuK"
      },
      "execution_count": null,
      "outputs": []
    },
    {
      "cell_type": "code",
      "source": [],
      "metadata": {
        "id": "NL6nOz6KRxzq"
      },
      "execution_count": null,
      "outputs": []
    },
    {
      "cell_type": "code",
      "source": [],
      "metadata": {
        "id": "UaAEu8IjRx2K"
      },
      "execution_count": null,
      "outputs": []
    },
    {
      "cell_type": "code",
      "source": [],
      "metadata": {
        "id": "lffcXzZ4Rx4S"
      },
      "execution_count": null,
      "outputs": []
    },
    {
      "cell_type": "code",
      "source": [],
      "metadata": {
        "id": "wevSC_RdRx6Z"
      },
      "execution_count": null,
      "outputs": []
    },
    {
      "cell_type": "code",
      "source": [],
      "metadata": {
        "id": "DuVpMrScRx8b"
      },
      "execution_count": null,
      "outputs": []
    },
    {
      "cell_type": "code",
      "source": [],
      "metadata": {
        "id": "6--ivwCiRx-8"
      },
      "execution_count": null,
      "outputs": []
    },
    {
      "cell_type": "code",
      "source": [],
      "metadata": {
        "id": "4BzcqohzRyA6"
      },
      "execution_count": null,
      "outputs": []
    },
    {
      "cell_type": "code",
      "source": [],
      "metadata": {
        "id": "BOLSEyDRRyDJ"
      },
      "execution_count": null,
      "outputs": []
    },
    {
      "cell_type": "code",
      "source": [],
      "metadata": {
        "id": "nllikeMLRyFL"
      },
      "execution_count": null,
      "outputs": []
    },
    {
      "cell_type": "markdown",
      "source": [
        "# Estructuras de repetición"
      ],
      "metadata": {
        "id": "aL1vJPewvwvz"
      }
    },
    {
      "cell_type": "markdown",
      "source": [
        "Cuando tenemos que ejecutar un mismo bloque de comandos durante varias ocasiones no es nada práctico hacerlo a mano.\n",
        "\n",
        "**Situación**: Nos fue solicitado obtener e imprimir el promedio de 2 notas de **3 estudantes**:"
      ],
      "metadata": {
        "id": "VcPfCa8d-84t"
      }
    },
    {
      "cell_type": "code",
      "source": [
        "nota_1 = float (input(\"Digita la primera nota: \"))\n",
        "nota_2 = float (input(\"Digita la segunda nota: \"))\n",
        "print (f'El promedio del estudiante 1, es: {(nota_1 + nota_2) / 2}')\n",
        "\n",
        "nota_1 = float (input(\"Digita la primera nota: \"))\n",
        "nota_2 = float (input(\"Digita la segunda nota: \"))\n",
        "print (f'El promedio del estudiante 2, es: {(nota_1 + nota_2) / 2}')\n",
        "\n",
        "nota_1 = float (input(\"Digita la primera nota: \"))\n",
        "nota_2 = float (input(\"Digita la segunda nota: \"))\n",
        "print (f'El promedio del estudiante 3, es: {(nota_1 + nota_2) / 2}')"
      ],
      "metadata": {
        "id": "xcx21IGT9qA0",
        "outputId": "a3422826-2a97-4cf0-edef-797cf334aa04",
        "colab": {
          "base_uri": "https://localhost:8080/"
        }
      },
      "execution_count": null,
      "outputs": [
        {
          "output_type": "stream",
          "name": "stdout",
          "text": [
            "Digita la primera nota: 7\n",
            "Digita la segunda nota: 6\n",
            "El promedio del estudiante 1, es: 6.5\n",
            "Digita la primera nota: 3\n",
            "Digita la segunda nota: 10\n",
            "El promedio del estudiante 2, es: 6.5\n",
            "Digita la primera nota: 9\n",
            "Digita la segunda nota: 9.5\n",
            "El promedio del estudiante 3, es: 9.25\n"
          ]
        }
      ]
    },
    {
      "cell_type": "code",
      "source": [],
      "metadata": {
        "id": "Wtbiy9Ay9rGJ"
      },
      "execution_count": null,
      "outputs": []
    },
    {
      "cell_type": "code",
      "source": [],
      "metadata": {
        "id": "Yfyz4anY9rIr"
      },
      "execution_count": null,
      "outputs": []
    },
    {
      "cell_type": "markdown",
      "source": [
        "Ahora imaginemos una situación en que no son tan solo 3 estudiantes, sino 100 estudiantes. No sería nada interesante repetir el mismo código 100 veces, sino **ejecutar el mismo código 100 veces**.\n",
        "\n",
        "¡Esta estructura la logramos construir con lazos de repetición!"
      ],
      "metadata": {
        "id": "9puIuvUbFSFX"
      }
    },
    {
      "cell_type": "markdown",
      "source": [
        "## `WHILE`"
      ],
      "metadata": {
        "id": "uLO9-aE4-wx8"
      }
    },
    {
      "cell_type": "markdown",
      "source": [
        "El lazo `while` es una estructura de control de repetición en Python que permite ejecutar un bloque de código repetidamente mientras que una determinada condición sea verdadera. Su estructura es:\n",
        "\n",
        "\n",
        "\n",
        "```\n",
        "while condicion:\n",
        "    # bloque de codigo\n",
        "```\n",
        "\n",
        "Vamos a construir un ejemplo con un contador de 1 hasta 10.\n"
      ],
      "metadata": {
        "id": "rXZxDMiqHxm9"
      }
    },
    {
      "cell_type": "code",
      "source": [
        "contador = 0\n",
        "while contador <= 10:\n",
        "  print (contador)\n",
        "  contador = contador + 1\n"
      ],
      "metadata": {
        "id": "Hd0ZSWxD9wCD",
        "outputId": "d2267705-a4aa-4a96-b850-e2543980b3df",
        "colab": {
          "base_uri": "https://localhost:8080/"
        }
      },
      "execution_count": null,
      "outputs": [
        {
          "output_type": "stream",
          "name": "stdout",
          "text": [
            "0\n",
            "1\n",
            "2\n",
            "3\n",
            "4\n",
            "5\n",
            "6\n",
            "7\n",
            "8\n",
            "9\n",
            "10\n"
          ]
        }
      ]
    },
    {
      "cell_type": "code",
      "source": [
        "contador = 0\n",
        "while contador <= 10:\n",
        "  print (contador)\n",
        "  # contador = contador + 1\n",
        "  contador += 1"
      ],
      "metadata": {
        "id": "miFHNqp29nOL",
        "outputId": "c1194e31-1395-459f-ccd0-b77daee04273",
        "colab": {
          "base_uri": "https://localhost:8080/"
        }
      },
      "execution_count": null,
      "outputs": [
        {
          "output_type": "stream",
          "name": "stdout",
          "text": [
            "0\n",
            "1\n",
            "2\n",
            "3\n",
            "4\n",
            "5\n",
            "6\n",
            "7\n",
            "8\n",
            "9\n",
            "10\n"
          ]
        }
      ]
    },
    {
      "cell_type": "markdown",
      "source": [
        "Ahora vamos a colectar las notas y promedios de cada alumno dentro del lazo `while`. Haremos un ejemplo con 3 promedios."
      ],
      "metadata": {
        "id": "W4KZPBJuIrut"
      }
    },
    {
      "cell_type": "code",
      "source": [
        "contador = 1\n",
        "while contador <= 3:\n",
        "  nota_1 = float(input (\"Digita la primera nota: \"))\n",
        "  nota_2 = float(input (\"Digita la segunda nota: \"))\n",
        "  print (f'El promedio del estudiante 1, es de: {(nota_1 + nota_2) / 2}')\n",
        "  contador += 1"
      ],
      "metadata": {
        "id": "9T5eCLFx9wk6",
        "outputId": "8b689b93-d73c-4991-bc9c-bc47386622dd",
        "colab": {
          "base_uri": "https://localhost:8080/"
        }
      },
      "execution_count": null,
      "outputs": [
        {
          "output_type": "stream",
          "name": "stdout",
          "text": [
            "Digita la primera nota: 7\n",
            "Digita la segunda nota: 10\n",
            "El promedio del estudiante 1, es de: 8.5\n",
            "Digita la primera nota: 3\n",
            "Digita la segunda nota: 10\n",
            "El promedio del estudiante 1, es de: 6.5\n",
            "Digita la primera nota: 9\n",
            "Digita la segunda nota: 9.5\n",
            "El promedio del estudiante 1, es de: 9.25\n"
          ]
        }
      ]
    },
    {
      "cell_type": "code",
      "source": [
        "def factorial(n):\n",
        "    \"\"\"Calcula el factorial de un número entero positivo.\"\"\"\n",
        "    if n < 0:\n",
        "        raise ValueError(\"El factorial no está definido para números negativos.\")\n",
        "\n",
        "    resultado = 1\n",
        "    contador = 1\n",
        "\n",
        "    while contador <= n:\n",
        "        resultado *= contador\n",
        "        contador += 1\n",
        "\n",
        "    return resultado\n",
        "\n",
        "# Ejemplo de uso\n",
        "numero = float(input(\"Ingrese un número entero positivo: \"))\n",
        "fact = factorial(numero)\n",
        "print(f\"El factorial de {numero} es {fact}\")  # Imprime: El factorial de 5 es 120"
      ],
      "metadata": {
        "id": "P6E0_dW-9lZ9",
        "outputId": "ed793f38-a352-435f-cf1e-58567edf9fb4",
        "colab": {
          "base_uri": "https://localhost:8080/"
        }
      },
      "execution_count": null,
      "outputs": [
        {
          "output_type": "stream",
          "name": "stdout",
          "text": [
            "Ingrese un número entero positivo: 5\n",
            "El factorial de 5.0 es 120\n"
          ]
        }
      ]
    },
    {
      "cell_type": "code",
      "source": [
        "precio = 2.00\n",
        "precio += 3\n",
        "print(precio)"
      ],
      "metadata": {
        "id": "J6fVihbups06",
        "outputId": "4d15c7cd-d619-4381-bd1c-e079e2542bc0",
        "colab": {
          "base_uri": "https://localhost:8080/"
        }
      },
      "execution_count": null,
      "outputs": [
        {
          "output_type": "stream",
          "name": "stdout",
          "text": [
            "5.0\n"
          ]
        }
      ]
    },
    {
      "cell_type": "code",
      "source": [
        "precio = 2.00\n",
        "precio -= 3\n",
        "print (precio)"
      ],
      "metadata": {
        "id": "NfCUj3L0p-Qq",
        "outputId": "194a9d39-62de-44da-a671-2df0e68cf25e",
        "colab": {
          "base_uri": "https://localhost:8080/"
        }
      },
      "execution_count": null,
      "outputs": [
        {
          "output_type": "stream",
          "name": "stdout",
          "text": [
            "-1.0\n"
          ]
        }
      ]
    },
    {
      "cell_type": "code",
      "source": [
        "precio = 2.00\n",
        "precio *= 3\n",
        "print (precio)"
      ],
      "metadata": {
        "id": "M1_-a7Urp-XR",
        "outputId": "2c694d7b-64a7-4a9f-b6dd-ba67d8cec916",
        "colab": {
          "base_uri": "https://localhost:8080/"
        }
      },
      "execution_count": null,
      "outputs": [
        {
          "output_type": "stream",
          "name": "stdout",
          "text": [
            "6.0\n"
          ]
        }
      ]
    },
    {
      "cell_type": "code",
      "source": [
        "precio = 2.00\n",
        "precio /= 3\n",
        "print (precio)"
      ],
      "metadata": {
        "id": "EkAdD77mp-ij",
        "outputId": "e74c000d-b3ba-4667-ec3d-f0d54f0f7292",
        "colab": {
          "base_uri": "https://localhost:8080/"
        }
      },
      "execution_count": null,
      "outputs": [
        {
          "output_type": "stream",
          "name": "stdout",
          "text": [
            "0.6666666666666666\n"
          ]
        }
      ]
    },
    {
      "cell_type": "code",
      "source": [
        "precio = 4.00\n",
        "precio //= 3\n",
        "print (precio)"
      ],
      "metadata": {
        "id": "z0z2nXiTp-op",
        "outputId": "74c4dcae-81db-422f-cc41-162fd605be85",
        "colab": {
          "base_uri": "https://localhost:8080/"
        }
      },
      "execution_count": null,
      "outputs": [
        {
          "output_type": "stream",
          "name": "stdout",
          "text": [
            "1.0\n"
          ]
        }
      ]
    },
    {
      "cell_type": "code",
      "source": [
        "precio =2.00\n",
        "precio %= 3\n",
        "print (precio)"
      ],
      "metadata": {
        "id": "0kRj-C31qz1z",
        "outputId": "0bc14e27-44ab-48b9-8100-1a28426947b6",
        "colab": {
          "base_uri": "https://localhost:8080/"
        }
      },
      "execution_count": null,
      "outputs": [
        {
          "output_type": "stream",
          "name": "stdout",
          "text": [
            "2.0\n"
          ]
        }
      ]
    },
    {
      "cell_type": "code",
      "source": [
        "edad = 25  # La variable 'edad' ahora contiene el valor 25\n",
        "nombre = \"Luri\"  # La variable 'nombre' ahora contiene el texto \"Luri\""
      ],
      "metadata": {
        "id": "urCOP6eHrpiM"
      },
      "execution_count": null,
      "outputs": []
    },
    {
      "cell_type": "code",
      "source": [
        "caramelos = float(input(\"Introduce el total de caramelos: \"))\n",
        "caramelos //= 7  # Caramelos ahora es 3 (25 // 7)\n",
        "print (f\"El valor entero de los caramelos es: {caramelos} \")"
      ],
      "metadata": {
        "id": "AYCQubGsrpkW",
        "outputId": "d818a170-1d5b-42a6-ffda-70f2355a747e",
        "colab": {
          "base_uri": "https://localhost:8080/"
        }
      },
      "execution_count": null,
      "outputs": [
        {
          "output_type": "stream",
          "name": "stdout",
          "text": [
            "Introduce el total de caramelos: 25\n",
            "El valor entero de los caramelos es: 3.0 \n"
          ]
        }
      ]
    },
    {
      "cell_type": "code",
      "source": [
        "caramelos = int(input(\"Introduce el total de caramelos: \"))\n",
        "caramelos %= 7  # Caramelos ahora es 4 (25 % 7)\n",
        "print (f\"El residuo de los caramelos es: {caramelos}\")"
      ],
      "metadata": {
        "id": "Ri01LlHJrpnC",
        "outputId": "59464ff6-500a-429f-9e80-d9fac8b159a2",
        "colab": {
          "base_uri": "https://localhost:8080/"
        }
      },
      "execution_count": null,
      "outputs": [
        {
          "output_type": "stream",
          "name": "stdout",
          "text": [
            "Introduce el total de caramelos: 73\n",
            "El residuo de los caramelos es: 3\n"
          ]
        }
      ]
    },
    {
      "cell_type": "code",
      "source": [
        "precio = float(input(\"Introduce el precio del producto: \"))\n",
        "descuento = 0.2  # 20% de descuento\n",
        "iva = 0.16  # 16% de IVA\n",
        "\n",
        "precio -= precio * descuento  # Aplicar descuento\n",
        "precio += precio * iva  # Agregar IVA\n",
        "\n",
        "print (f'El precio final del producto es: {precio}')"
      ],
      "metadata": {
        "id": "MHkN-RZdrpqj",
        "outputId": "c71af8f5-b37c-4e31-bffb-82cf22fdc408",
        "colab": {
          "base_uri": "https://localhost:8080/"
        }
      },
      "execution_count": null,
      "outputs": [
        {
          "output_type": "stream",
          "name": "stdout",
          "text": [
            "Introduce el precio del producto: 500\n",
            "El precio final del producto es: 464.0\n"
          ]
        }
      ]
    },
    {
      "cell_type": "markdown",
      "source": [
        "## `FOR`"
      ],
      "metadata": {
        "id": "WgAIaENMMfCP"
      }
    },
    {
      "cell_type": "markdown",
      "source": [
        "El lazo `for` es un tipo de estructura de control de flujo en Python que permite iterar sobre un conjunto de elementos. Su estructura es:\n",
        "\n",
        "\n",
        "\n",
        "```\n",
        "for elemento in conjunto:\n",
        "    # codigo a ser ejecutado para cada elemento\n",
        "```\n",
        "\n",
        "El lazo `for` itera sobre cada elemento del conjunto especificado y ejecuta el bloque de código dentro del lazo para cada elemento. Cuando el lazo llega al final del conjunto, este se interrumpe y el programa continúa la ejecución después del lazo.\n",
        "\n"
      ],
      "metadata": {
        "id": "HxrSZoRAMh-x"
      }
    },
    {
      "cell_type": "markdown",
      "source": [
        "El conjunto lo podemos generar con la función incorporada [`range()`](https://docs.python.org/3/library/functions.html#func-range). Se trata de una función capaz de generar una secuencia de números enteros. La estructura de esta función es:\n",
        "\n",
        "```\n",
        "range(inicio, fin, paso)\n",
        "```\n",
        "\n",
        "Según la documentación, `range()` genera una secuencia de números enteros a partir del valor del parámetro `inicio` hasta el valor del parámetro `fin`, de acuerdo con el valor del parámetro `paso`. Si `inicio` no es especificado, el valor por defecto es `0`. Si `paso` no es especificado, el valor por defecto es `1`.\n",
        "\n",
        "\n"
      ],
      "metadata": {
        "id": "6VgjyoQtPHBM"
      }
    },
    {
      "cell_type": "markdown",
      "source": [
        "Vamos a recrear el mismo contador `while` con el lazo `for`."
      ],
      "metadata": {
        "id": "ryn0hfdlUwC8"
      }
    },
    {
      "cell_type": "code",
      "source": [
        "for n in range (1, 11):\n",
        "  print (n)"
      ],
      "metadata": {
        "id": "KkL1wUIj9jL4",
        "outputId": "c0e6127c-9848-4ed1-9356-ac8b3c3401fd",
        "colab": {
          "base_uri": "https://localhost:8080/"
        }
      },
      "execution_count": null,
      "outputs": [
        {
          "output_type": "stream",
          "name": "stdout",
          "text": [
            "1\n",
            "2\n",
            "3\n",
            "4\n",
            "5\n",
            "6\n",
            "7\n",
            "8\n",
            "9\n",
            "10\n"
          ]
        }
      ]
    },
    {
      "cell_type": "code",
      "source": [
        "for numero in range(2, 21, 2):\n",
        "    print (numero)"
      ],
      "metadata": {
        "id": "DFbA5nVH5RzO",
        "outputId": "334cd661-eed1-4966-9598-ffca5f9d56ad",
        "colab": {
          "base_uri": "https://localhost:8080/"
        }
      },
      "execution_count": null,
      "outputs": [
        {
          "output_type": "stream",
          "name": "stdout",
          "text": [
            "2\n",
            "4\n",
            "6\n",
            "8\n",
            "10\n",
            "12\n",
            "14\n",
            "16\n",
            "18\n",
            "20\n"
          ]
        }
      ]
    },
    {
      "cell_type": "code",
      "source": [
        "for numero in range(0, 31, 3):\n",
        "    print (numero)"
      ],
      "metadata": {
        "id": "uXIZnLSr9jOu",
        "outputId": "60588f99-2ee5-40f2-8836-9e58e99aa1af",
        "colab": {
          "base_uri": "https://localhost:8080/"
        }
      },
      "execution_count": null,
      "outputs": [
        {
          "output_type": "stream",
          "name": "stdout",
          "text": [
            "0\n",
            "3\n",
            "6\n",
            "9\n",
            "12\n",
            "15\n",
            "18\n",
            "21\n",
            "24\n",
            "27\n",
            "30\n"
          ]
        }
      ]
    },
    {
      "cell_type": "code",
      "source": [
        "nombres = [\"Ana\", \"Juan\", \"María\"]\n",
        "for nombre in nombres:\n",
        "    print(\"¡Hola, \" + nombre + \"!\")"
      ],
      "metadata": {
        "id": "bHA-cauT5zId",
        "outputId": "aeb83443-9980-4362-e289-a24890b884bb",
        "colab": {
          "base_uri": "https://localhost:8080/"
        }
      },
      "execution_count": null,
      "outputs": [
        {
          "output_type": "stream",
          "name": "stdout",
          "text": [
            "¡Hola, Ana!\n",
            "¡Hola, Juan!\n",
            "¡Hola, María!\n"
          ]
        }
      ]
    },
    {
      "cell_type": "code",
      "source": [
        "numeros = [1, 2, 3, 4, 5]\n",
        "suma = 0\n",
        "for numero in numeros:\n",
        "    suma = suma + numero\n",
        "print(\"La suma es:\", suma)"
      ],
      "metadata": {
        "id": "P70P655S6gUl",
        "outputId": "1b380699-ede3-4f13-c66c-245e93e5e53e",
        "colab": {
          "base_uri": "https://localhost:8080/"
        }
      },
      "execution_count": null,
      "outputs": [
        {
          "output_type": "stream",
          "name": "stdout",
          "text": [
            "La suma es: 15\n"
          ]
        }
      ]
    },
    {
      "cell_type": "code",
      "source": [
        "cantidad_numeros = int(input(\"¿Cuántos números quieres sumar? \"))\n",
        "numeros = []\n",
        "\n",
        "for i in range(cantidad_numeros):\n",
        "    numero = float(input(f\"Ingresa el número {i + 1}: \"))\n",
        "    numeros.append(numero)\n",
        "\n",
        "suma = 0\n",
        "for numero in numeros:\n",
        "    suma += numero\n",
        "\n",
        "print(\"La suma es:\", suma)"
      ],
      "metadata": {
        "id": "aZ_fsI0865PV",
        "outputId": "4afa8f21-53a4-4563-de07-183a2f012bca",
        "colab": {
          "base_uri": "https://localhost:8080/"
        }
      },
      "execution_count": null,
      "outputs": [
        {
          "output_type": "stream",
          "name": "stdout",
          "text": [
            "¿Cuántos números quieres sumar? 10\n",
            "Ingresa el número 1: 1\n",
            "Ingresa el número 2: 2\n",
            "Ingresa el número 3: 3\n",
            "Ingresa el número 4: 4\n",
            "Ingresa el número 5: 5\n",
            "Ingresa el número 6: 6\n",
            "Ingresa el número 7: 7\n",
            "Ingresa el número 8: 8\n",
            "Ingresa el número 9: 9\n",
            "Ingresa el número 10: 10\n",
            "La suma es: 55.0\n"
          ]
        }
      ]
    },
    {
      "cell_type": "code",
      "source": [
        "total_nombres = int(input(\"Cuántos nombres quieres ingresar: \"))\n",
        "nombres = []\n",
        "\n",
        "for i in range (total_nombres):\n",
        "  nombre = input(f'Ingrese el nombre {i + 1}: ')\n",
        "  nombres.append (nombre)\n",
        "\n",
        "for nombre in nombres:\n",
        "  print (\"¡Hola, \" + nombre + \"!\")\n",
        "\n"
      ],
      "metadata": {
        "id": "125_-QgY-q6L",
        "outputId": "b65cdba6-0ef9-49bc-daae-e5c449c5c998",
        "colab": {
          "base_uri": "https://localhost:8080/"
        }
      },
      "execution_count": null,
      "outputs": [
        {
          "output_type": "stream",
          "name": "stdout",
          "text": [
            "Cuántos nombres quieres ingresar: 3\n",
            "Ingrese el nombre 1: Jorge\n",
            "Ingrese el nombre 2: Enrique\n",
            "Ingrese el nombre 3: Alexa\n",
            "¡Hola, Jorge!\n",
            "¡Hola, Enrique!\n",
            "¡Hola, Alexa!\n"
          ]
        }
      ]
    },
    {
      "cell_type": "code",
      "source": [
        "for e in range (1, 4):\n",
        "  nota_1 = float(input(\"Digita la primera nota: \"))\n",
        "  nota_2 = float(input(\"Digita la segunda nota: \"))\n",
        "  print (f'El promedio del estudiante {e}, es de: {(nota_1 + nota_2) /2}')"
      ],
      "metadata": {
        "id": "TmoMMc8zGBRR",
        "outputId": "2de7964d-51e0-4918-8340-6f20e9ac7561",
        "colab": {
          "base_uri": "https://localhost:8080/"
        }
      },
      "execution_count": null,
      "outputs": [
        {
          "output_type": "stream",
          "name": "stdout",
          "text": [
            "Digita la primera nota: 3\n",
            "Digita la segunda nota: 7\n",
            "El promedio del estudiante 1, es de: 5.0\n",
            "Digita la primera nota: 7\n",
            "Digita la segunda nota: 8\n",
            "El promedio del estudiante 2, es de: 7.5\n",
            "Digita la primera nota: 9\n",
            "Digita la segunda nota: 10\n",
            "El promedio del estudiante 3, es de: 9.5\n"
          ]
        }
      ]
    },
    {
      "cell_type": "code",
      "source": [
        "for i in range(1, 6):\n",
        "    if i == 4:\n",
        "        continue\n",
        "    print(i)"
      ],
      "metadata": {
        "id": "zpWmDbEl3EOC",
        "outputId": "5306be7b-b314-43cc-ffb1-e01042a6eec4",
        "colab": {
          "base_uri": "https://localhost:8080/"
        }
      },
      "execution_count": null,
      "outputs": [
        {
          "output_type": "stream",
          "name": "stdout",
          "text": [
            "1\n",
            "2\n",
            "3\n",
            "5\n"
          ]
        }
      ]
    },
    {
      "cell_type": "code",
      "source": [
        "for i in range(1, 6):\n",
        "    if i == 4:\n",
        "        break\n",
        "    print(i)"
      ],
      "metadata": {
        "id": "kNvixB423O_w",
        "outputId": "050a1a7f-77d7-4f23-e59f-1591a4f9a31d",
        "colab": {
          "base_uri": "https://localhost:8080/"
        }
      },
      "execution_count": null,
      "outputs": [
        {
          "output_type": "stream",
          "name": "stdout",
          "text": [
            "1\n",
            "2\n",
            "3\n"
          ]
        }
      ]
    },
    {
      "cell_type": "code",
      "source": [
        "for i in range(1, 11):\n",
        "    if i % 2 == 0:  # Si i es par\n",
        "        continue  # Salta a la siguiente iteración\n",
        "    print(i)  # Imprime solo los números impares"
      ],
      "metadata": {
        "id": "dTvXTcbo4Dh5",
        "outputId": "8f33ed91-22b7-4f32-cb1c-e7fbe42c2201",
        "colab": {
          "base_uri": "https://localhost:8080/"
        }
      },
      "execution_count": null,
      "outputs": [
        {
          "output_type": "stream",
          "name": "stdout",
          "text": [
            "1\n",
            "3\n",
            "5\n",
            "7\n",
            "9\n"
          ]
        }
      ]
    },
    {
      "cell_type": "code",
      "source": [
        "for i in range(1, 11):\n",
        "    if i == 5:  # Si i es igual a 5\n",
        "        break  # Detiene el bucle\n",
        "    print(i)  # Imprime los números del 1 al 4"
      ],
      "metadata": {
        "id": "dwfJSFG14Dka",
        "outputId": "7567ccb9-6d30-40a8-b330-6831d0ae392e",
        "colab": {
          "base_uri": "https://localhost:8080/"
        }
      },
      "execution_count": null,
      "outputs": [
        {
          "output_type": "stream",
          "name": "stdout",
          "text": [
            "1\n",
            "2\n",
            "3\n",
            "4\n"
          ]
        }
      ]
    },
    {
      "cell_type": "code",
      "source": [
        "# 1. Solicitar los números al usuario y convertirlos a enteros\n",
        "num1 = int(input(\"Escribe el primer número entero: \"))\n",
        "num2 = int(input(\"Escribe el segundo número entero: \"))\n",
        "\n",
        "# Aseguramos que 'inicio' sea el número más pequeño y 'fin' el más grande\n",
        "inicio = min(num1, num2)\n",
        "fin = max(num1, num2)\n",
        "\n",
        "# 2. Imprimir un mensaje descriptivo\n",
        "print(f\"Los números enteros entre {inicio} y {fin} son:\")\n",
        "\n",
        "# 3. Usar un bucle 'for' para imprimir los números en el rango\n",
        "#    Empezamos en 'inicio + 1' para no incluir el primer número\n",
        "#    Terminamos en 'fin' porque range() no incluye el último número\n",
        "for numero in range(inicio + 1, fin):\n",
        "    print(numero)"
      ],
      "metadata": {
        "id": "k7AIsLgS6Ha_",
        "colab": {
          "base_uri": "https://localhost:8080/"
        },
        "outputId": "5ae26c00-e613-47ba-8a5f-383f497ca787"
      },
      "execution_count": null,
      "outputs": [
        {
          "output_type": "stream",
          "name": "stdout",
          "text": [
            "Escribe el primer número entero: 0\n",
            "Escribe el segundo número entero: 2\n",
            "Los números enteros entre 0 y 2 son:\n",
            "1\n"
          ]
        }
      ]
    },
    {
      "cell_type": "code",
      "source": [
        "# --- Inicialización de variables ---\n",
        "# Poblaciones iniciales\n",
        "colonia_a = 4\n",
        "colonia_b = 10\n",
        "\n",
        "# Tasas de crecimiento (3% = 1.03, 1.5% = 1.015)\n",
        "crecimiento_a = 1.03\n",
        "crecimiento_b = 1.015\n",
        "\n",
        "# Contador de días\n",
        "dias = 0\n",
        "\n",
        "# --- Bucle de simulación ---\n",
        "# El bucle se ejecuta MIENTRAS la colonia A sea MENOR que la colonia B\n",
        "while colonia_a < colonia_b:\n",
        "    # Incrementamos el contador de días en 1\n",
        "    dias += 1 # Es lo mismo que dias = dias + 1\n",
        "\n",
        "    # Aplicamos el crecimiento a cada colonia\n",
        "    colonia_a *= crecimiento_a # Es lo mismo que colonia_a = colonia_a * crecimiento_a\n",
        "    colonia_b *= crecimiento_b\n",
        "\n",
        "# --- Resultado final ---\n",
        "print(f\"La colonia A superará o igualará a la colonia B en {dias} días.\")\n",
        "print(f\"Población final de A: {int(colonia_a)}\")\n",
        "print(f\"Población final de B: {int(colonia_b)}\")"
      ],
      "metadata": {
        "id": "DyHRh67n6HpH",
        "colab": {
          "base_uri": "https://localhost:8080/"
        },
        "outputId": "e577ecd6-5fe0-4c7f-dfb8-b33856e9b084"
      },
      "execution_count": null,
      "outputs": [
        {
          "output_type": "stream",
          "name": "stdout",
          "text": [
            "La colonia A superará o igualará a la colonia B en 63 días.\n",
            "Población final de A: 25\n",
            "Población final de B: 25\n"
          ]
        }
      ]
    },
    {
      "cell_type": "code",
      "source": [
        "# Lista para guardar las calificaciones válidas\n",
        "calificaciones_validas = []\n",
        "total_calificaciones = 15\n",
        "\n",
        "# El bucle 'for' se asegura de que pidamos 15 datos\n",
        "for i in range(total_calificaciones):\n",
        "\n",
        "    # Bucle 'while' para la validación de CADA dato\n",
        "    while True:\n",
        "        # Solicitamos la calificación\n",
        "        calificacion_str = input(f\"Ingresa la calificación #{i + 1} (de 0 a 5): \")\n",
        "        calificacion = int(calificacion_str)\n",
        "\n",
        "        # Verificamos si es válida\n",
        "        if 0 <= calificacion <= 5:\n",
        "            calificaciones_validas.append(calificacion) # La guardamos\n",
        "            break  # Rompemos el bucle de validación y continuamos con la siguiente calificación\n",
        "        else:\n",
        "            # Si no es válida, mostramos un error y el bucle 'while' se repite\n",
        "            print(\"Error: Valor inválido. La calificación debe estar entre 0 y 5.\")\n",
        "\n",
        "print(\"\\n--- Calificaciones Registradas ---\")\n",
        "print(f\"Se han registrado {len(calificaciones_validas)} calificaciones válidas.\")\n",
        "print(calificaciones_validas)"
      ],
      "metadata": {
        "id": "vLDT6MUB6HrX",
        "colab": {
          "base_uri": "https://localhost:8080/"
        },
        "outputId": "3c60793b-dbf0-46c2-e965-a92e13c288d7"
      },
      "execution_count": null,
      "outputs": [
        {
          "output_type": "stream",
          "name": "stdout",
          "text": [
            "Ingresa la calificación #1 (de 0 a 5): 1\n",
            "Ingresa la calificación #2 (de 0 a 5): 2\n",
            "Ingresa la calificación #3 (de 0 a 5): 3\n",
            "Ingresa la calificación #4 (de 0 a 5): 4\n",
            "Ingresa la calificación #5 (de 0 a 5): 5\n",
            "Ingresa la calificación #6 (de 0 a 5): 0\n",
            "Ingresa la calificación #7 (de 0 a 5): 1\n",
            "Ingresa la calificación #8 (de 0 a 5): 2\n",
            "Ingresa la calificación #9 (de 0 a 5): 3\n",
            "Ingresa la calificación #10 (de 0 a 5): 4\n",
            "Ingresa la calificación #11 (de 0 a 5): 5\n",
            "Ingresa la calificación #12 (de 0 a 5): 0\n",
            "Ingresa la calificación #13 (de 0 a 5): 1\n",
            "Ingresa la calificación #14 (de 0 a 5): 2\n",
            "Ingresa la calificación #15 (de 0 a 5): 6\n",
            "Error: Valor inválido. La calificación debe estar entre 0 y 5.\n",
            "Ingresa la calificación #15 (de 0 a 5): 3\n",
            "\n",
            "--- Calificaciones Registradas ---\n",
            "Se han registrado 15 calificaciones válidas.\n",
            "[1, 2, 3, 4, 5, 0, 1, 2, 3, 4, 5, 0, 1, 2, 3]\n"
          ]
        }
      ]
    },
    {
      "cell_type": "code",
      "source": [
        "# Variables para acumular los datos\n",
        "suma_temperaturas = 0.0  # Usamos float para permitir decimales\n",
        "cantidad_temperaturas = 0\n",
        "valor_parada = -273\n",
        "\n",
        "print(f\"Ingresa las temperaturas en Celsius. Escribe {valor_parada} para terminar.\")\n",
        "\n",
        "# Bucle infinito que se romperá con una condición interna\n",
        "while True:\n",
        "    temperatura = float(input(f\"Temperatura #{cantidad_temperaturas + 1}: \"))\n",
        "\n",
        "    # 1. Primero, verificamos la condición de parada\n",
        "    if temperatura == valor_parada:\n",
        "        break  # Salimos del bucle si el usuario ingresa -273\n",
        "\n",
        "    # 2. Si no es el valor de parada, procesamos el dato\n",
        "    suma_temperaturas += temperatura\n",
        "    cantidad_temperaturas += 1\n",
        "\n",
        "# 3. Calculamos el promedio solo si se ingresó al menos una temperatura\n",
        "if cantidad_temperaturas > 0:\n",
        "    promedio = suma_temperaturas / cantidad_temperaturas\n",
        "    print(\"\\n--- Resultados ---\")\n",
        "    print(f\"Se ingresaron {cantidad_temperaturas} temperaturas válidas.\")\n",
        "    # :.2f formatea el número para mostrar solo 2 decimales\n",
        "    print(f\"El promedio de las temperaturas es: {promedio:.2f}°C\")\n",
        "else:\n",
        "    print(\"\\nNo se ingresaron temperaturas para calcular el promedio.\")"
      ],
      "metadata": {
        "id": "LmKlzAiF6Hta",
        "colab": {
          "base_uri": "https://localhost:8080/"
        },
        "outputId": "cb4ba2b9-7dae-4911-9654-02d12aedf820"
      },
      "execution_count": null,
      "outputs": [
        {
          "output_type": "stream",
          "name": "stdout",
          "text": [
            "Ingresa las temperaturas en Celsius. Escribe -273 para terminar.\n",
            "Temperatura #1: -50.3\n",
            "Temperatura #2: 15\n",
            "Temperatura #3: 78\n",
            "Temperatura #4: 23\n",
            "Temperatura #5: -272\n",
            "Temperatura #6: -273\n",
            "\n",
            "--- Resultados ---\n",
            "Se ingresaron 5 temperaturas válidas.\n",
            "El promedio de las temperaturas es: -41.26°C\n"
          ]
        }
      ]
    },
    {
      "cell_type": "code",
      "source": [
        "# Solicitamos el número al usuario\n",
        "numero = int(input(\"Ingresa un número entero para calcular su factorial: \"))\n",
        "\n",
        "# Variable para guardar el resultado de las multiplicaciones\n",
        "factorial = 1\n",
        "\n",
        "# Verificamos los casos especiales primero\n",
        "if numero < 0:\n",
        "    print(\"El factorial no está definido para números negativos.\")\n",
        "elif numero == 0:\n",
        "    print(\"El factorial de 0 es 1.\")\n",
        "else:\n",
        "    # Bucle for que itera desde el 'numero' hasta 1\n",
        "    # La sintaxis es range(inicio, fin, paso)\n",
        "    for i in range(numero, 0, -1):\n",
        "        factorial *= i # Multiplicamos el valor actual por el número del bucle\n",
        "\n",
        "    print(f\"El factorial de {numero} es: {factorial}\")"
      ],
      "metadata": {
        "id": "A6c0tDYC6Hvc",
        "colab": {
          "base_uri": "https://localhost:8080/"
        },
        "outputId": "9040acbd-fc14-46a8-825d-8d9ca5fd8508"
      },
      "execution_count": null,
      "outputs": [
        {
          "output_type": "stream",
          "name": "stdout",
          "text": [
            "Ingresa un número entero para calcular su factorial: 10\n",
            "El factorial de 10 es: 3628800\n"
          ]
        }
      ]
    },
    {
      "cell_type": "code",
      "source": [
        "# Solicitamos al usuario el número para generar la tabla.\n",
        "numero_tabla = int(input(\"Ingresa un número entero para ver su tabla de multiplicar: \"))\n",
        "\n",
        "# Imprimimos un encabezado para dar formato.\n",
        "print(f\"Tabla de multiplicar del {numero_tabla}:\")\n",
        "\n",
        "# El bucle 'for' recorre los números del 1 al 10.\n",
        "# range(1, 11) genera la secuencia: 1, 2, 3, 4, 5, 6, 7, 8, 9, 10.\n",
        "for i in range(1, 11):\n",
        "    resultado = numero_tabla * i\n",
        "    # Usamos una f-string para imprimir cada línea con el formato solicitado.\n",
        "    print(f\"{numero_tabla} x {i} = {resultado}\")"
      ],
      "metadata": {
        "id": "XSjA8Ren6Hxg",
        "colab": {
          "base_uri": "https://localhost:8080/"
        },
        "outputId": "51df0745-6037-48bb-8bd0-b8dda3bc16ed"
      },
      "execution_count": null,
      "outputs": [
        {
          "output_type": "stream",
          "name": "stdout",
          "text": [
            "Ingresa un número entero para ver su tabla de multiplicar: 100\n",
            "Tabla de multiplicar del 100:\n",
            "100 x 1 = 100\n",
            "100 x 2 = 200\n",
            "100 x 3 = 300\n",
            "100 x 4 = 400\n",
            "100 x 5 = 500\n",
            "100 x 6 = 600\n",
            "100 x 7 = 700\n",
            "100 x 8 = 800\n",
            "100 x 9 = 900\n",
            "100 x 10 = 1000\n"
          ]
        }
      ]
    },
    {
      "cell_type": "code",
      "source": [
        "# Solicitamos un número entero.\n",
        "numero = int(input(\"Ingresa un número entero para saber si es primo: \"))\n",
        "\n",
        "# Creamos una bandera para rastrear si es primo. Por defecto, asumimos que sí.\n",
        "es_primo = True\n",
        "\n",
        "# Los números menores o iguales a 1 no son primos por definición.\n",
        "if numero <= 1:\n",
        "    es_primo = False\n",
        "else:\n",
        "    # Recorremos los posibles divisores desde 2 hasta un número antes del ingresado.\n",
        "    for i in range(2, numero):\n",
        "        # El operador módulo (%) da el residuo de una división.\n",
        "        # Si el residuo es 0, el número es divisible y, por lo tanto, no es primo.\n",
        "        if (numero % i) == 0:\n",
        "            es_primo = False  # Cambiamos la bandera.\n",
        "            break  # Salimos del bucle, no es necesario seguir comprobando.\n",
        "\n",
        "# Al final, verificamos el estado de la bandera para dar el resultado.\n",
        "if es_primo:\n",
        "    print(f\"El número {numero} es primo.\")\n",
        "else:\n",
        "    print(f\"El número {numero} no es primo.\")"
      ],
      "metadata": {
        "id": "3EMx1eZ66Hza",
        "colab": {
          "base_uri": "https://localhost:8080/"
        },
        "outputId": "77c5004c-e597-476e-e8a2-e1d3da56098d"
      },
      "execution_count": null,
      "outputs": [
        {
          "output_type": "stream",
          "name": "stdout",
          "text": [
            "Ingresa un número entero para saber si es primo: 7777\n",
            "El número 7777 no es primo.\n"
          ]
        }
      ]
    },
    {
      "cell_type": "code",
      "source": [
        "# Inicializamos los contadores para cada intervalo.\n",
        "conteo_0_25 = 0\n",
        "conteo_26_50 = 0\n",
        "conteo_51_75 = 0\n",
        "conteo_76_100 = 0\n",
        "\n",
        "print(\"Ingresa las edades. Un número negativo detendrá la entrada de datos.\")\n",
        "\n",
        "# Un bucle \"infinito\" que se romperá desde adentro.\n",
        "while True:\n",
        "    edad = int(input(\"Edad: \"))\n",
        "\n",
        "    # Condición de parada: si la edad es negativa, salimos del bucle.\n",
        "    if edad < 0:\n",
        "        break\n",
        "\n",
        "    # Usamos if/elif para clasificar la edad e incrementar el contador correcto.\n",
        "    if 0 <= edad <= 25:\n",
        "        conteo_0_25 += 1\n",
        "    elif 26 <= edad <= 50:\n",
        "        conteo_26_50 += 1\n",
        "    elif 51 <= edad <= 75:\n",
        "        conteo_51_75 += 1\n",
        "    elif 76 <= edad <= 100:\n",
        "        conteo_76_100 += 1\n",
        "\n",
        "# Imprimimos el resumen final de la distribución.\n",
        "print(\"\\n--- Distribución de Edades ---\")\n",
        "print(f\"Intervalo [0-25]:   {conteo_0_25} personas\")\n",
        "print(f\"Intervalo [26-50]:  {conteo_26_50} personas\")\n",
        "print(f\"Intervalo [51-75]:  {conteo_51_75} personas\")\n",
        "print(f\"Intervalo [76-100]: {conteo_76_100} personas\")"
      ],
      "metadata": {
        "id": "KCkbLNbI6H3o",
        "colab": {
          "base_uri": "https://localhost:8080/"
        },
        "outputId": "2e49ee3a-c04a-4e51-ea98-489e104f4224"
      },
      "execution_count": null,
      "outputs": [
        {
          "output_type": "stream",
          "name": "stdout",
          "text": [
            "Ingresa las edades. Un número negativo detendrá la entrada de datos.\n",
            "Edad: 101\n",
            "Edad: 77\n",
            "Edad: 15\n",
            "Edad: 27\n",
            "Edad: 35\n",
            "Edad: 8\n",
            "Edad: 91\n",
            "Edad: 48\n",
            "Edad: 27\n",
            "Edad: 56\n",
            "Edad: 28\n",
            "Edad: 51\n",
            "Edad: 8\n",
            "Edad: -1\n",
            "\n",
            "--- Distribución de Edades ---\n",
            "Intervalo [0-25]:   3 personas\n",
            "Intervalo [26-50]:  5 personas\n",
            "Intervalo [51-75]:  2 personas\n",
            "Intervalo [76-100]: 2 personas\n"
          ]
        }
      ]
    },
    {
      "cell_type": "code",
      "source": [
        "# Sabemos que son 20 empleados.\n",
        "total_empleados = 20\n",
        "\n",
        "# Inicializamos un contador para cada opción de voto.\n",
        "votos_candidato1 = 0\n",
        "votos_candidato2 = 0\n",
        "votos_candidato3 = 0\n",
        "votos_candidato4 = 0\n",
        "votos_nulos = 0\n",
        "votos_blanco = 0\n",
        "\n",
        "print(\"--- Votación de Gerencia ---\")\n",
        "print(\"Opciones: 1, 2, 3, 4 (Candidatos), 5 (Nulo), 6 (En Blanco)\")\n",
        "\n",
        "# El bucle se repite exactamente 20 veces.\n",
        "for i in range(total_empleados):\n",
        "    # Pedimos el voto de cada empleado.\n",
        "    voto = int(input(f\"Voto del empleado #{i + 1}: \"))\n",
        "\n",
        "    # Incrementamos el contador correspondiente al voto.\n",
        "    if voto == 1:\n",
        "        votos_candidato1 += 1\n",
        "    elif voto == 2:\n",
        "        votos_candidato2 += 1\n",
        "    elif voto == 3:\n",
        "        votos_candidato3 += 1\n",
        "    elif voto == 4:\n",
        "        votos_candidato4 += 1\n",
        "    elif voto == 5:\n",
        "        votos_nulos += 1\n",
        "    elif voto == 6:\n",
        "        votos_blanco += 1\n",
        "    else:\n",
        "        # Si el voto no es una opción válida, se considera nulo.\n",
        "        print(\"Opción inválida. Se registrará como voto nulo.\")\n",
        "        votos_nulos += 1\n",
        "\n",
        "# Calculamos los porcentajes una vez terminada la votación.\n",
        "porcentaje_nulos = (votos_nulos / total_empleados) * 100\n",
        "porcentaje_blanco = (votos_blanco / total_empleados) * 100\n",
        "\n",
        "# Mostramos el resumen de los resultados.\n",
        "print(\"\\n--- Resultados de la Elección ---\")\n",
        "print(f\"Votos para Candidato 1: {votos_candidato1}\")\n",
        "print(f\"Votos para Candidato 2: {votos_candidato2}\")\n",
        "print(f\"Votos para Candidato 3: {votos_candidato3}\")\n",
        "print(f\"Votos para Candidato 4: {votos_candidato4}\")\n",
        "print(\"-\" * 25) # Línea separadora\n",
        "print(f\"Total de votos nulos:   {votos_nulos} ({porcentaje_nulos:.2f}%)\")\n",
        "print(f\"Total de votos en blanco: {votos_blanco} ({porcentaje_blanco:.2f}%)\")"
      ],
      "metadata": {
        "id": "BaAAMYeR6H55",
        "colab": {
          "base_uri": "https://localhost:8080/"
        },
        "outputId": "072e8ad8-bc33-40ce-962f-ab918bfffa19"
      },
      "execution_count": null,
      "outputs": [
        {
          "output_type": "stream",
          "name": "stdout",
          "text": [
            "--- Votación de Gerencia ---\n",
            "Opciones: 1, 2, 3, 4 (Candidatos), 5 (Nulo), 6 (En Blanco)\n",
            "Voto del empleado #1: 1\n",
            "Voto del empleado #2: 2\n",
            "Voto del empleado #3: 3\n",
            "Voto del empleado #4: 4\n",
            "Voto del empleado #5: 5\n",
            "Voto del empleado #6: 6\n",
            "Voto del empleado #7: 7\n",
            "Opción inválida. Se registrará como voto nulo.\n",
            "Voto del empleado #8: 1\n",
            "Voto del empleado #9: 1\n",
            "Voto del empleado #10: 2\n",
            "Voto del empleado #11: 4\n",
            "Voto del empleado #12: 2\n",
            "Voto del empleado #13: 4\n",
            "Voto del empleado #14: 1\n",
            "Voto del empleado #15: 3\n",
            "Voto del empleado #16: 3\n",
            "Voto del empleado #17: 3\n",
            "Voto del empleado #18: 3\n",
            "Voto del empleado #19: 1\n",
            "Voto del empleado #20: 4\n",
            "\n",
            "--- Resultados de la Elección ---\n",
            "Votos para Candidato 1: 5\n",
            "Votos para Candidato 2: 3\n",
            "Votos para Candidato 3: 5\n",
            "Votos para Candidato 4: 4\n",
            "-------------------------\n",
            "Total de votos nulos:   2 (10.00%)\n",
            "Total de votos en blanco: 1 (5.00%)\n"
          ]
        }
      ]
    },
    {
      "cell_type": "code",
      "source": [],
      "metadata": {
        "id": "3oNzcgwL6H9W"
      },
      "execution_count": null,
      "outputs": []
    },
    {
      "cell_type": "code",
      "source": [],
      "metadata": {
        "id": "GT7IGca_6H_Y"
      },
      "execution_count": null,
      "outputs": []
    },
    {
      "cell_type": "code",
      "source": [],
      "metadata": {
        "id": "3yb7VaF86IB4"
      },
      "execution_count": null,
      "outputs": []
    },
    {
      "cell_type": "markdown",
      "source": [
        "# Estructuras de datos"
      ],
      "metadata": {
        "id": "8noP8OJ0Vhux"
      }
    },
    {
      "cell_type": "markdown",
      "source": [
        "Un conjunto de elementos es una colección de items, que son almacenados juntos de manera organizada. Algunos ejemplos de conjuntos de elementos en Python son las listas, los strings y los diccionarios."
      ],
      "metadata": {
        "id": "xpEUkefTu8fY"
      }
    },
    {
      "cell_type": "markdown",
      "source": [
        "## Listas"
      ],
      "metadata": {
        "id": "THSg4KYLwxIb"
      }
    },
    {
      "cell_type": "markdown",
      "source": [
        "Las listas pueden almacenar una colección de items en orden. Ellas son delimitadas por corchetes `[]` y sus elementos son separados por comas.\n",
        "\n",
        "Estas pueden almacenar cualquier tipo de items, incluyendo números, strings, objetos, otras listas, entre otros. También nos permiten almacenar items de tipos de datos diferentes juntos en una única lista."
      ],
      "metadata": {
        "id": "dzpsiqrOyJcK"
      }
    },
    {
      "cell_type": "code",
      "source": [
        "lista = ['Penélope Camacho',9.5,9.0,9.7,True]\n",
        "lista"
      ],
      "metadata": {
        "id": "DO3TBj7nAYeG",
        "colab": {
          "base_uri": "https://localhost:8080/"
        },
        "outputId": "cce2ec8a-f8a8-4f41-9355-19b899759852"
      },
      "execution_count": null,
      "outputs": [
        {
          "output_type": "execute_result",
          "data": {
            "text/plain": [
              "['Penélope Camacho', 9.5, 9.0, 9.7, True]"
            ]
          },
          "metadata": {},
          "execution_count": 24
        }
      ]
    },
    {
      "cell_type": "code",
      "source": [
        "type (lista)"
      ],
      "metadata": {
        "id": "DO2ubP9N9D_2",
        "outputId": "dee9ddc4-0e28-41db-d6c1-de9209a00247",
        "colab": {
          "base_uri": "https://localhost:8080/"
        }
      },
      "execution_count": null,
      "outputs": [
        {
          "output_type": "execute_result",
          "data": {
            "text/plain": [
              "list"
            ]
          },
          "metadata": {},
          "execution_count": 14
        }
      ]
    },
    {
      "cell_type": "markdown",
      "source": [
        "Las listas son organizadas en Python porque **cada elemento de la lista tiene un índice que indica su posición al interior de la lista**. Los índices comienzan en 0 van hasta el tamaño de la lista menos 1."
      ],
      "metadata": {
        "id": "qUz3sJNl6LgK"
      }
    },
    {
      "cell_type": "markdown",
      "source": [
        "Tenemos entonces 5 elementos con índices que varían de 0 a 4, ordenadamente:\n",
        "\n",
        "```\n",
        "#             [0]           [1]   [2]   [3]    [4]\n",
        "lista = ['Penélope Camacho', 9.5 , 9.0 , 9.7 , True]\n",
        "```\n",
        "\n",
        "En Python tenemos también los índices **negativos** que se inician en el último elemento con el valor de `-1` y avanzan en el universo de los negativos hasta llegar al 1° elemento:\n",
        "\n",
        "```\n",
        "#             [-5]         [-4]  [-3]  [-2]   [-1]\n",
        "lista = ['Penélope Camacho', 9.5 , 9.0 , 9.7 , True]\n",
        "```\n",
        "\n",
        "Logramos seleccionar separadamente cada elemento a través de sus respectivos índices. Colocando el nombre de la lista y en seguida el índice que será seleccionado."
      ],
      "metadata": {
        "id": "rLf-Qg526hFD"
      }
    },
    {
      "cell_type": "code",
      "source": [
        "lista [0]"
      ],
      "metadata": {
        "id": "4hco1Zqy88Kw",
        "outputId": "85736b25-cc8d-49ab-f082-fc2f8638ac38",
        "colab": {
          "base_uri": "https://localhost:8080/",
          "height": 36
        }
      },
      "execution_count": null,
      "outputs": [
        {
          "output_type": "execute_result",
          "data": {
            "text/plain": [
              "'Penélope Camacho'"
            ],
            "application/vnd.google.colaboratory.intrinsic+json": {
              "type": "string"
            }
          },
          "metadata": {},
          "execution_count": 15
        }
      ]
    },
    {
      "cell_type": "code",
      "source": [
        "type (lista[0])"
      ],
      "metadata": {
        "id": "M8lH0I2288Ph",
        "outputId": "4451bfb5-fe52-4343-8b1e-07723f6b0849",
        "colab": {
          "base_uri": "https://localhost:8080/"
        }
      },
      "execution_count": null,
      "outputs": [
        {
          "output_type": "execute_result",
          "data": {
            "text/plain": [
              "str"
            ]
          },
          "metadata": {},
          "execution_count": 16
        }
      ]
    },
    {
      "cell_type": "code",
      "source": [
        "lista [-1]"
      ],
      "metadata": {
        "id": "ndYIBpUVDC7h",
        "outputId": "2956757d-7ace-455b-8e0b-91c53719563c",
        "colab": {
          "base_uri": "https://localhost:8080/"
        }
      },
      "execution_count": null,
      "outputs": [
        {
          "output_type": "execute_result",
          "data": {
            "text/plain": [
              "True"
            ]
          },
          "metadata": {},
          "execution_count": 17
        }
      ]
    },
    {
      "cell_type": "code",
      "source": [
        "type (lista[-1])"
      ],
      "metadata": {
        "id": "f5fYyDXeDDBo",
        "outputId": "f135a327-389d-44d4-e25a-43ba569ae1ea",
        "colab": {
          "base_uri": "https://localhost:8080/"
        }
      },
      "execution_count": null,
      "outputs": [
        {
          "output_type": "execute_result",
          "data": {
            "text/plain": [
              "bool"
            ]
          },
          "metadata": {},
          "execution_count": 18
        }
      ]
    },
    {
      "cell_type": "markdown",
      "source": [
        "Una forma más dinámica de trabajar item a item en una lista es utilizando un lazo `for` para leer un elemento a la vez."
      ],
      "metadata": {
        "id": "6TaE1ijmBTCd"
      }
    },
    {
      "cell_type": "code",
      "source": [
        "for elemento in lista:\n",
        "  print (elemento)"
      ],
      "metadata": {
        "id": "rBx4Yu1786Sy",
        "outputId": "683dffe4-fc5e-4d83-9f5b-bfa6a7c42c6c",
        "colab": {
          "base_uri": "https://localhost:8080/"
        }
      },
      "execution_count": null,
      "outputs": [
        {
          "output_type": "stream",
          "name": "stdout",
          "text": [
            "Penélope Camacho\n",
            "9.5\n",
            "9.0\n",
            "9.7\n",
            "True\n"
          ]
        }
      ]
    },
    {
      "cell_type": "markdown",
      "source": [
        "**Situación**: La nota `9.0` de Penélope necesita ser ajustada pues ganó 1 punto en su última nota por participación en clase. Entonces es necesario realizar un cambio en el índice `2` de `9.0` a `10.0`."
      ],
      "metadata": {
        "id": "Dh1_HnIVvucY"
      }
    },
    {
      "cell_type": "code",
      "source": [
        "lista [2] = 10.0"
      ],
      "metadata": {
        "id": "bVPoZg668z3T"
      },
      "execution_count": null,
      "outputs": []
    },
    {
      "cell_type": "code",
      "source": [
        "lista"
      ],
      "metadata": {
        "id": "Jo_PBQ0g8z7D",
        "outputId": "89c1a532-344c-4375-b48e-40795fe85ba1",
        "colab": {
          "base_uri": "https://localhost:8080/"
        }
      },
      "execution_count": null,
      "outputs": [
        {
          "output_type": "execute_result",
          "data": {
            "text/plain": [
              "['Penélope Camacho', 9.5, 10.0, 9.7, True]"
            ]
          },
          "metadata": {},
          "execution_count": 21
        }
      ]
    },
    {
      "cell_type": "markdown",
      "source": [
        "También podemos calcular el promedio del estudiante a partir de los datos que tenemos."
      ],
      "metadata": {
        "id": "53XduzXkycAf"
      }
    },
    {
      "cell_type": "code",
      "source": [
        "promedio = (lista [1] + lista [2] + lista [3]) / 3\n",
        "promedio"
      ],
      "metadata": {
        "id": "SIH61Rrb8yv4",
        "outputId": "551d7f79-972d-4558-c9a9-9a3a26571408",
        "colab": {
          "base_uri": "https://localhost:8080/"
        }
      },
      "execution_count": null,
      "outputs": [
        {
          "output_type": "execute_result",
          "data": {
            "text/plain": [
              "9.733333333333333"
            ]
          },
          "metadata": {},
          "execution_count": 22
        }
      ]
    },
    {
      "cell_type": "code",
      "source": [
        "tareas = [\"Lavar los platos\", \"Hacer la compra\", \"Estudiar Python\", \"Pasear al perro\"]"
      ],
      "metadata": {
        "id": "jDuMisGEFxIY"
      },
      "execution_count": null,
      "outputs": []
    },
    {
      "cell_type": "code",
      "source": [
        "primera_tarea = tareas [0]\n",
        "primera_tarea"
      ],
      "metadata": {
        "id": "Hx3m_R7WFxKw",
        "outputId": "c25ce71d-c60b-41e9-a75d-17c637c968a5",
        "colab": {
          "base_uri": "https://localhost:8080/",
          "height": 36
        }
      },
      "execution_count": null,
      "outputs": [
        {
          "output_type": "execute_result",
          "data": {
            "text/plain": [
              "'Lavar los platos'"
            ],
            "application/vnd.google.colaboratory.intrinsic+json": {
              "type": "string"
            }
          },
          "metadata": {},
          "execution_count": 29
        }
      ]
    },
    {
      "cell_type": "code",
      "source": [
        "tareas [1] = \"Comprar ingredientes para la cena\"\n",
        "# Ahora la lista es: [\"Lavar los platos\", \"Comprar los ingredientes para la cena\", etc]"
      ],
      "metadata": {
        "id": "euRArFqOFxNA"
      },
      "execution_count": null,
      "outputs": []
    },
    {
      "cell_type": "code",
      "source": [
        "tareas.append (\"Limpiar la casa\")\n",
        "# Ahora la lista es: [\"Lavar los platos\", \"Comprar ingredientes para la cena\", \"Estudiar Python\", \"Pasear al perro\", \"Limpiar la casa\"]"
      ],
      "metadata": {
        "id": "USezU-N6GcWh"
      },
      "execution_count": null,
      "outputs": []
    },
    {
      "cell_type": "code",
      "source": [
        "for elemento in tareas:\n",
        "  print (elemento)"
      ],
      "metadata": {
        "id": "KYkPzWGlGz80",
        "outputId": "78816e80-ba20-4730-c62d-28956da5dc53",
        "colab": {
          "base_uri": "https://localhost:8080/"
        }
      },
      "execution_count": null,
      "outputs": [
        {
          "output_type": "stream",
          "name": "stdout",
          "text": [
            "Lavar los platos\n",
            "Comprar ingredientes para la cena\n",
            "Estudiar Python\n",
            "Pasear al perro\n",
            "Limpiar la casa\n"
          ]
        }
      ]
    },
    {
      "cell_type": "code",
      "source": [
        "empresas = [\"OpenAI\", \"SpaceX\", \"Microsoft\", \"Google\", \"Meta\"]"
      ],
      "metadata": {
        "id": "GGHE0CUgM4iC"
      },
      "execution_count": null,
      "outputs": []
    },
    {
      "cell_type": "code",
      "source": [
        "empresas [0]\n"
      ],
      "metadata": {
        "id": "RnTR9f0NNOvI",
        "outputId": "e93ba077-bd55-46f2-fe20-44e9531665c7",
        "colab": {
          "base_uri": "https://localhost:8080/",
          "height": 36
        }
      },
      "execution_count": null,
      "outputs": [
        {
          "output_type": "execute_result",
          "data": {
            "text/plain": [
              "'OpenAI'"
            ],
            "application/vnd.google.colaboratory.intrinsic+json": {
              "type": "string"
            }
          },
          "metadata": {},
          "execution_count": 35
        }
      ]
    },
    {
      "cell_type": "code",
      "source": [
        "empresas [1] = \"Tesla\""
      ],
      "metadata": {
        "id": "8EphQREcNOxX"
      },
      "execution_count": null,
      "outputs": []
    },
    {
      "cell_type": "code",
      "source": [
        "empresas"
      ],
      "metadata": {
        "id": "dSnu8YIWNOzo",
        "outputId": "869420c4-a9f0-4622-dd2c-e59f413c192e",
        "colab": {
          "base_uri": "https://localhost:8080/"
        }
      },
      "execution_count": null,
      "outputs": [
        {
          "output_type": "execute_result",
          "data": {
            "text/plain": [
              "['OpenAI', 'Tesla', 'Microsoft', 'Google', 'Meta']"
            ]
          },
          "metadata": {},
          "execution_count": 39
        }
      ]
    },
    {
      "cell_type": "code",
      "source": [
        "for elemento in empresas:\n",
        "  print (elemento)"
      ],
      "metadata": {
        "id": "G5fkPHtfNtEO",
        "outputId": "23ec0e04-cd4a-46c4-8652-3083c420aa4d",
        "colab": {
          "base_uri": "https://localhost:8080/"
        }
      },
      "execution_count": null,
      "outputs": [
        {
          "output_type": "stream",
          "name": "stdout",
          "text": [
            "OpenAI\n",
            "Tesla\n",
            "Microsoft\n",
            "Google\n",
            "Meta\n"
          ]
        }
      ]
    },
    {
      "cell_type": "code",
      "source": [
        "lenguaje = 'Python'"
      ],
      "metadata": {
        "id": "67fYxEitOWLB"
      },
      "execution_count": null,
      "outputs": []
    },
    {
      "cell_type": "code",
      "source": [
        "print(lenguaje[0], lenguaje[1], lenguaje[2], lenguaje[-3], lenguaje[-2], lenguaje[-1])"
      ],
      "metadata": {
        "id": "cAKoU3ozOWcI",
        "outputId": "6f856716-f1f2-441c-a679-982b75a4ede3",
        "colab": {
          "base_uri": "https://localhost:8080/"
        }
      },
      "execution_count": null,
      "outputs": [
        {
          "output_type": "stream",
          "name": "stdout",
          "text": [
            "P y t h o n\n"
          ]
        }
      ]
    },
    {
      "cell_type": "code",
      "source": [
        "pregunta = '¿Quién vino primero? ¿El huevo? ¿O fue la serpiente?'\n",
        "lista_palabras = pregunta.split('?')\n",
        "print(lista_palabras)"
      ],
      "metadata": {
        "id": "yESa7WqeOWeg",
        "outputId": "1882b692-a341-46b9-8389-2d364a71ca34",
        "colab": {
          "base_uri": "https://localhost:8080/"
        }
      },
      "execution_count": null,
      "outputs": [
        {
          "output_type": "stream",
          "name": "stdout",
          "text": [
            "['¿Quién vino primero', ' ¿El huevo', ' ¿O fue la serpiente', '']\n"
          ]
        }
      ]
    },
    {
      "cell_type": "code",
      "source": [
        "pregunta = '¿Quién vino primero? ¿El huevo? ¿O fue la serpiente?'\n",
        "lista_palabras = pregunta.split()\n",
        "print(lista_palabras)"
      ],
      "metadata": {
        "id": "vV7OvzpfQl51",
        "outputId": "1464673b-1f0f-471e-9474-4d8bc9ed798c",
        "colab": {
          "base_uri": "https://localhost:8080/"
        }
      },
      "execution_count": null,
      "outputs": [
        {
          "output_type": "stream",
          "name": "stdout",
          "text": [
            "['¿Quién', 'vino', 'primero?', '¿El', 'huevo?', '¿O', 'fue', 'la', 'serpiente?']\n"
          ]
        }
      ]
    },
    {
      "cell_type": "code",
      "source": [
        "mezclas = ['Pinturas: rojo, azul y amarillo',\n",
        "            'Verde: mezcla de azul y amarillo',\n",
        "            'Naranja: mezcla de rojo y amarillo',\n",
        "            'Morado: mezcla de rojo y azul']\n",
        "unificador = '. '\n",
        "cadena_mezclas = unificador.join(mezclas)\n",
        "print(cadena_mezclas)"
      ],
      "metadata": {
        "id": "3ihs6y4EQ_Ij",
        "outputId": "e40b032b-f563-48cc-d8df-33366035c9d8",
        "colab": {
          "base_uri": "https://localhost:8080/"
        }
      },
      "execution_count": null,
      "outputs": [
        {
          "output_type": "stream",
          "name": "stdout",
          "text": [
            "Pinturas: rojo, azul y amarillo. Verde: mezcla de azul y amarillo. Naranja: mezcla de rojo y amarillo. Morado: mezcla de rojo y azul\n"
          ]
        }
      ]
    },
    {
      "cell_type": "markdown",
      "source": [
        "## Manipulación de listas\n",
        "\n",
        "Las listas son muy útiles en Python porque nos permiten almacenar y acceder a una colección de items de manera organizada y rápida. Estas también ofrecen muchos métodos útiles para manipular los itens almacenados, como adicionar, remover, clasificar y buscar elementos."
      ],
      "metadata": {
        "id": "d-iYr10-y4qw"
      }
    },
    {
      "cell_type": "markdown",
      "source": [
        "#### Cantidad de elementos\n",
        "\n",
        "Usamos la función [`len()`](https://docs.python.org/3/library/functions.html#len) para descubrir la cantidad de elementos de un conjunto."
      ],
      "metadata": {
        "id": "ZLqx9A97XVB_"
      }
    },
    {
      "cell_type": "code",
      "source": [
        "len (lista)"
      ],
      "metadata": {
        "id": "6q1Tmm7P8wQf",
        "outputId": "ea1a7a97-c258-4aa4-b7db-9559ad8dfa4e",
        "colab": {
          "base_uri": "https://localhost:8080/"
        }
      },
      "execution_count": null,
      "outputs": [
        {
          "output_type": "execute_result",
          "data": {
            "text/plain": [
              "5"
            ]
          },
          "metadata": {},
          "execution_count": 53
        }
      ]
    },
    {
      "cell_type": "markdown",
      "source": [
        "#### Partición\n",
        "\n",
        "La partición de listas por indexación en Python es una técnica muy útil para seleccionar un subconjunto de elementos de una lista. Esta se realiza usando la sintaxis `lista[inicio:fin]`, donde `inicio` es el índice del primer elemento que será incluído en la partición `fin` es el índice del primer elemento que será excluído de la partición."
      ],
      "metadata": {
        "id": "Z5tpstlHJss3"
      }
    },
    {
      "cell_type": "code",
      "source": [
        "lista [0:2]"
      ],
      "metadata": {
        "id": "NctvJTTU8uV9",
        "outputId": "dd663634-62c9-4e73-d6d4-b00160eb8ad2",
        "colab": {
          "base_uri": "https://localhost:8080/"
        }
      },
      "execution_count": null,
      "outputs": [
        {
          "output_type": "execute_result",
          "data": {
            "text/plain": [
              "['Penélope Camacho', 9.5]"
            ]
          },
          "metadata": {},
          "execution_count": 54
        }
      ]
    },
    {
      "cell_type": "code",
      "source": [
        "lista [:3]"
      ],
      "metadata": {
        "id": "bQZUwldj8uY2",
        "outputId": "71428696-6709-495d-bce9-4979eda87e76",
        "colab": {
          "base_uri": "https://localhost:8080/"
        }
      },
      "execution_count": null,
      "outputs": [
        {
          "output_type": "execute_result",
          "data": {
            "text/plain": [
              "['Penélope Camacho', 9.5, 9.0]"
            ]
          },
          "metadata": {},
          "execution_count": 55
        }
      ]
    },
    {
      "cell_type": "code",
      "source": [
        "lista [3:]"
      ],
      "metadata": {
        "id": "c2MygJUeTfNg",
        "outputId": "522d12e9-53f1-41cf-89bb-588450576405",
        "colab": {
          "base_uri": "https://localhost:8080/"
        }
      },
      "execution_count": null,
      "outputs": [
        {
          "output_type": "execute_result",
          "data": {
            "text/plain": [
              "[9.7, True]"
            ]
          },
          "metadata": {},
          "execution_count": 56
        }
      ]
    },
    {
      "cell_type": "code",
      "source": [
        "lista [2] = 10.0"
      ],
      "metadata": {
        "id": "tpIaCnhETyHO"
      },
      "execution_count": null,
      "outputs": []
    },
    {
      "cell_type": "code",
      "source": [
        "lista [:3]"
      ],
      "metadata": {
        "id": "sLghlk6fTyLW",
        "outputId": "74f9f6fa-9a33-4f27-888b-f45eb2127ecc",
        "colab": {
          "base_uri": "https://localhost:8080/"
        }
      },
      "execution_count": null,
      "outputs": [
        {
          "output_type": "execute_result",
          "data": {
            "text/plain": [
              "['Penélope Camacho', 9.5, 10.0]"
            ]
          },
          "metadata": {},
          "execution_count": 58
        }
      ]
    },
    {
      "cell_type": "code",
      "source": [
        "lista [3:]"
      ],
      "metadata": {
        "id": "ZMNjyJmLTyNe",
        "outputId": "cb3c3867-b33a-4e57-b24e-92b961004a05",
        "colab": {
          "base_uri": "https://localhost:8080/"
        }
      },
      "execution_count": null,
      "outputs": [
        {
          "output_type": "execute_result",
          "data": {
            "text/plain": [
              "[9.7, True]"
            ]
          },
          "metadata": {},
          "execution_count": 59
        }
      ]
    },
    {
      "cell_type": "code",
      "source": [
        "lista [:]"
      ],
      "metadata": {
        "id": "6M86ESf0UBuZ",
        "outputId": "2d6d1d63-2f75-4287-fe00-d6e53368db2e",
        "colab": {
          "base_uri": "https://localhost:8080/"
        }
      },
      "execution_count": null,
      "outputs": [
        {
          "output_type": "execute_result",
          "data": {
            "text/plain": [
              "['Penélope Camacho', 9.5, 10.0, 9.7, True]"
            ]
          },
          "metadata": {},
          "execution_count": 60
        }
      ]
    },
    {
      "cell_type": "markdown",
      "source": [
        "#### [`append()`](https://docs.python.org/3/tutorial/datastructures.html#:~:text=of%20list%20objects%3A-,list.append(x),-Add%20an%20item)\n",
        "\n",
        "Añade un elemento al final de la lista."
      ],
      "metadata": {
        "id": "O0RRyabkRzZC"
      }
    },
    {
      "cell_type": "code",
      "source": [
        "lista.append (promedio)"
      ],
      "metadata": {
        "id": "_Q0oODwa8spC"
      },
      "execution_count": null,
      "outputs": []
    },
    {
      "cell_type": "code",
      "source": [
        "lista"
      ],
      "metadata": {
        "id": "RM894r2M8sse",
        "outputId": "b12aab74-63fe-4561-99de-27b70dda486a",
        "colab": {
          "base_uri": "https://localhost:8080/"
        }
      },
      "execution_count": null,
      "outputs": [
        {
          "output_type": "execute_result",
          "data": {
            "text/plain": [
              "['Penélope Camacho', 9.5, 10.0, 9.7, True, 9.733333333333333]"
            ]
          },
          "metadata": {},
          "execution_count": 62
        }
      ]
    },
    {
      "cell_type": "markdown",
      "source": [
        "#### [`extend()`](https://docs.python.org/3/tutorial/datastructures.html#:~:text=list.extend(iterable))\n",
        "\n",
        "Añade varios elementos al final de la lista.\n",
        "\n",
        "Añadiremos las notas `[10.0,8.0,9.0]` En la lista de Penélope Camacho."
      ],
      "metadata": {
        "id": "uQV91XMsUOJD"
      }
    },
    {
      "cell_type": "code",
      "source": [
        "lista.extend ([10.0,8.0,9.0])"
      ],
      "metadata": {
        "id": "6Zk2MpMw8rQc"
      },
      "execution_count": null,
      "outputs": []
    },
    {
      "cell_type": "code",
      "source": [
        "lista"
      ],
      "metadata": {
        "id": "NnoKkoWb8rTQ",
        "outputId": "ce069d69-bf20-4dbf-d7fc-aa9f24207b63",
        "colab": {
          "base_uri": "https://localhost:8080/"
        }
      },
      "execution_count": null,
      "outputs": [
        {
          "output_type": "execute_result",
          "data": {
            "text/plain": [
              "['Penélope Camacho', 9.5, 10.0, 9.7, True, 9.733333333333333, 10.0, 8.0, 9.0]"
            ]
          },
          "metadata": {},
          "execution_count": 64
        }
      ]
    },
    {
      "cell_type": "markdown",
      "source": [
        "*A continuación te mostraremos lo que no puede realizarse con* `append`."
      ],
      "metadata": {
        "id": "IVJvkTwNUk6M"
      }
    },
    {
      "cell_type": "code",
      "source": [
        "lista.append ([10.0,8.0,9.0])"
      ],
      "metadata": {
        "id": "u3Eub2ZL8pp3"
      },
      "execution_count": null,
      "outputs": []
    },
    {
      "cell_type": "code",
      "source": [
        "lista"
      ],
      "metadata": {
        "id": "tsKK5Ne58pvN",
        "outputId": "d88dce56-8597-44f5-f391-862d2080f69a",
        "colab": {
          "base_uri": "https://localhost:8080/"
        }
      },
      "execution_count": null,
      "outputs": [
        {
          "output_type": "execute_result",
          "data": {
            "text/plain": [
              "['Penélope Camacho',\n",
              " 9.5,\n",
              " 10.0,\n",
              " 9.7,\n",
              " True,\n",
              " 9.733333333333333,\n",
              " 10.0,\n",
              " 8.0,\n",
              " 9.0,\n",
              " [10.0, 8.0, 9.0]]"
            ]
          },
          "metadata": {},
          "execution_count": 66
        }
      ]
    },
    {
      "cell_type": "markdown",
      "source": [
        "#### [`remove()`](https://docs.python.org/3/tutorial/datastructures.html#:~:text=append(x).-,list.remove(x),-Remove%20the%20first)\n",
        "\n",
        "Remueve un elemento específico de la lista."
      ],
      "metadata": {
        "id": "dPGM5gpyUX1z"
      }
    },
    {
      "cell_type": "code",
      "source": [
        "lista.remove ([10.0, 8.0, 9.0])"
      ],
      "metadata": {
        "id": "mmboODPc8nd5"
      },
      "execution_count": null,
      "outputs": []
    },
    {
      "cell_type": "code",
      "source": [
        "lista"
      ],
      "metadata": {
        "id": "T_w6vVgV8nh_",
        "outputId": "408d50d3-72bd-4004-a20f-69d35ac9ea07",
        "colab": {
          "base_uri": "https://localhost:8080/"
        }
      },
      "execution_count": null,
      "outputs": [
        {
          "output_type": "execute_result",
          "data": {
            "text/plain": [
              "['Penélope Camacho', 9.5, 10.0, 9.7, True, 9.733333333333333, 10.0, 8.0, 9.0]"
            ]
          },
          "metadata": {},
          "execution_count": 68
        }
      ]
    },
    {
      "cell_type": "code",
      "source": [
        "mi_lista = [1, 2, 3, 4, 5]\n",
        "cantidad_de_elementos = len(mi_lista)\n",
        "print(cantidad_de_elementos)  # Imprime 5"
      ],
      "metadata": {
        "id": "QxG_K2-AXdk3",
        "outputId": "34fd582b-2185-4bc8-8cc5-1b8ffa10cc2e",
        "colab": {
          "base_uri": "https://localhost:8080/"
        }
      },
      "execution_count": null,
      "outputs": [
        {
          "output_type": "stream",
          "name": "stdout",
          "text": [
            "5\n"
          ]
        }
      ]
    },
    {
      "cell_type": "code",
      "source": [
        "mi_lista = [1, 2, 3, 4, 5]\n",
        "subconjunto = mi_lista[1:3]  # Toma los elementos desde el índice 1 hasta el índice 2 (el 3 no se incluye)\n",
        "print(subconjunto)  # Imprime [2, 3]"
      ],
      "metadata": {
        "id": "2V3s7XRgXdnd",
        "outputId": "7bb5b0ef-260f-42bb-8520-12373e027a25",
        "colab": {
          "base_uri": "https://localhost:8080/"
        }
      },
      "execution_count": null,
      "outputs": [
        {
          "output_type": "stream",
          "name": "stdout",
          "text": [
            "[2, 3]\n"
          ]
        }
      ]
    },
    {
      "cell_type": "code",
      "source": [
        "mi_lista = [1, 2, 3]\n",
        "mi_lista.append(4)\n",
        "print(mi_lista)  # Imprime [1, 2, 3, 4]"
      ],
      "metadata": {
        "id": "yqzVVUzwXdrH",
        "outputId": "77ff3658-a140-47f5-fd13-2714a0c675ea",
        "colab": {
          "base_uri": "https://localhost:8080/"
        }
      },
      "execution_count": null,
      "outputs": [
        {
          "output_type": "stream",
          "name": "stdout",
          "text": [
            "[1, 2, 3, 4]\n"
          ]
        }
      ]
    },
    {
      "cell_type": "code",
      "source": [
        "mi_lista = [1, 2, 3]\n",
        "mi_lista.extend([4, 5, 6])\n",
        "print(mi_lista)  # Imprime [1, 2, 3, 4, 5, 6]"
      ],
      "metadata": {
        "id": "dYxzhCrtXdv1",
        "outputId": "d9866356-4a6c-40f6-c147-e3bb5df4a3ec",
        "colab": {
          "base_uri": "https://localhost:8080/"
        }
      },
      "execution_count": null,
      "outputs": [
        {
          "output_type": "stream",
          "name": "stdout",
          "text": [
            "[1, 2, 3, 4, 5, 6]\n"
          ]
        }
      ]
    },
    {
      "cell_type": "code",
      "source": [
        "mi_lista = [1, 2, 3, 4, 5]\n",
        "mi_lista.remove(3)\n",
        "print(mi_lista)  # Imprime [1, 2, 4, 5]"
      ],
      "metadata": {
        "id": "KqITSf7DXdy3",
        "outputId": "9c58b106-139f-4b85-8268-4af10adee710",
        "colab": {
          "base_uri": "https://localhost:8080/"
        }
      },
      "execution_count": null,
      "outputs": [
        {
          "output_type": "stream",
          "name": "stdout",
          "text": [
            "[1, 2, 4, 5]\n"
          ]
        }
      ]
    },
    {
      "cell_type": "code",
      "source": [
        "frutas = [\"manzana\", \"mora azul\", \"melón\"]\n",
        "total_frutas = len(frutas)\n",
        "print (total_frutas)"
      ],
      "metadata": {
        "id": "EVq66BPcbkvK",
        "outputId": "49c7d879-3138-4779-809b-71b84d743859",
        "colab": {
          "base_uri": "https://localhost:8080/"
        }
      },
      "execution_count": null,
      "outputs": [
        {
          "output_type": "stream",
          "name": "stdout",
          "text": [
            "3\n"
          ]
        }
      ]
    },
    {
      "cell_type": "code",
      "source": [
        "frutas [:2]"
      ],
      "metadata": {
        "id": "uNJk1p0Bbkzx",
        "outputId": "21322cc8-36e0-4e01-c46a-4f084e65eebc",
        "colab": {
          "base_uri": "https://localhost:8080/"
        }
      },
      "execution_count": null,
      "outputs": [
        {
          "output_type": "execute_result",
          "data": {
            "text/plain": [
              "['manzana', 'mora azul']"
            ]
          },
          "metadata": {},
          "execution_count": 77
        }
      ]
    },
    {
      "cell_type": "code",
      "source": [
        "frutas.append (\"naranja\")\n",
        "frutas"
      ],
      "metadata": {
        "id": "qNfCmoEybk3x",
        "outputId": "8d138006-6b3f-4c32-8bad-12fc5887a9de",
        "colab": {
          "base_uri": "https://localhost:8080/"
        }
      },
      "execution_count": null,
      "outputs": [
        {
          "output_type": "execute_result",
          "data": {
            "text/plain": [
              "['manzana', 'mora azul', 'melón', 'naranja', 'naranja']"
            ]
          },
          "metadata": {},
          "execution_count": 79
        }
      ]
    },
    {
      "cell_type": "code",
      "source": [
        "frutas.extend ([\"pera\", \"sandía\"])\n",
        "frutas"
      ],
      "metadata": {
        "id": "rvlBuWidbk8B",
        "outputId": "cdee5ac0-ccaf-4f3b-dfd9-f44bafee5069",
        "colab": {
          "base_uri": "https://localhost:8080/"
        }
      },
      "execution_count": null,
      "outputs": [
        {
          "output_type": "execute_result",
          "data": {
            "text/plain": [
              "['manzana', 'mora azul', 'melón', 'naranja', 'naranja', 'pera', 'sandía']"
            ]
          },
          "metadata": {},
          "execution_count": 80
        }
      ]
    },
    {
      "cell_type": "code",
      "source": [
        "frutas.remove ('pera')\n",
        "print (frutas)"
      ],
      "metadata": {
        "id": "i055uY-Rbk_p",
        "outputId": "c5ba27a8-7a12-4edb-b1fd-84e125b1ecd3",
        "colab": {
          "base_uri": "https://localhost:8080/",
          "height": 159
        }
      },
      "execution_count": null,
      "outputs": [
        {
          "output_type": "error",
          "ename": "ValueError",
          "evalue": "list.remove(x): x not in list",
          "traceback": [
            "\u001b[0;31m---------------------------------------------------------------------------\u001b[0m",
            "\u001b[0;31mValueError\u001b[0m                                Traceback (most recent call last)",
            "\u001b[0;32m/tmp/ipython-input-90-1044085734.py\u001b[0m in \u001b[0;36m<cell line: 0>\u001b[0;34m()\u001b[0m\n\u001b[0;32m----> 1\u001b[0;31m \u001b[0mfrutas\u001b[0m\u001b[0;34m.\u001b[0m\u001b[0mremove\u001b[0m \u001b[0;34m(\u001b[0m\u001b[0;34m'pera'\u001b[0m\u001b[0;34m)\u001b[0m\u001b[0;34m\u001b[0m\u001b[0;34m\u001b[0m\u001b[0m\n\u001b[0m\u001b[1;32m      2\u001b[0m \u001b[0mprint\u001b[0m \u001b[0;34m(\u001b[0m\u001b[0mfrutas\u001b[0m\u001b[0;34m)\u001b[0m\u001b[0;34m\u001b[0m\u001b[0;34m\u001b[0m\u001b[0m\n",
            "\u001b[0;31mValueError\u001b[0m: list.remove(x): x not in list"
          ]
        }
      ]
    },
    {
      "cell_type": "code",
      "source": [
        "# Comprueba si 'pera' está en la lista antes de intentar removerla\n",
        "if 'pera' in frutas:\n",
        "    frutas.remove('pera')\n",
        "    print(\"Se eliminó 'pera' de la lista.\")\n",
        "else:\n",
        "    print(\"'pera' ya no se encontraba en la lista.\")\n",
        "\n",
        "print(frutas)"
      ],
      "metadata": {
        "id": "rAJnvKbjblEZ",
        "outputId": "96fa4a80-d26e-4426-e104-a09965c2a2fc",
        "colab": {
          "base_uri": "https://localhost:8080/"
        }
      },
      "execution_count": null,
      "outputs": [
        {
          "output_type": "stream",
          "name": "stdout",
          "text": [
            "'pera' ya no se encontraba en la lista.\n",
            "['manzana', 'mora azul', 'melón', 'naranja', 'naranja', 'sandía']\n"
          ]
        }
      ]
    },
    {
      "cell_type": "code",
      "source": [
        "razas_de_perros = ['Labrador Retriever',\n",
        "                   'Bulldog Francés',\n",
        "                   'Pastor Alemán',\n",
        "                   'Poodle']"
      ],
      "metadata": {
        "id": "NMWKgK8kWZgL"
      },
      "execution_count": null,
      "outputs": []
    },
    {
      "cell_type": "code",
      "source": [
        "razas_de_perros.insert(1, 'Golden Retriever')\n",
        "razas_de_perros"
      ],
      "metadata": {
        "id": "gFltSpJzWlVa",
        "outputId": "e58d0ef7-3ddc-4202-fc5c-268a9d8fb785",
        "colab": {
          "base_uri": "https://localhost:8080/"
        }
      },
      "execution_count": null,
      "outputs": [
        {
          "output_type": "execute_result",
          "data": {
            "text/plain": [
              "['Labrador Retriever',\n",
              " 'Golden Retriever',\n",
              " 'Bulldog Francés',\n",
              " 'Pastor Alemán',\n",
              " 'Poodle']"
            ]
          },
          "metadata": {},
          "execution_count": 40
        }
      ]
    },
    {
      "cell_type": "code",
      "source": [
        "razas_de_perros.pop (1)"
      ],
      "metadata": {
        "id": "psxmTUgfXSsq",
        "outputId": "e174617e-058d-41b8-99e2-c5647e64df6c",
        "colab": {
          "base_uri": "https://localhost:8080/",
          "height": 35
        }
      },
      "execution_count": null,
      "outputs": [
        {
          "output_type": "execute_result",
          "data": {
            "text/plain": [
              "'Golden Retriever'"
            ],
            "application/vnd.google.colaboratory.intrinsic+json": {
              "type": "string"
            }
          },
          "metadata": {},
          "execution_count": 41
        }
      ]
    },
    {
      "cell_type": "code",
      "source": [
        "razas_de_perros.index (\"Pastor Alemán\")"
      ],
      "metadata": {
        "id": "ITIsZ2VIXSvR",
        "outputId": "0febad6a-78a7-46a1-9100-1100ced160b5",
        "colab": {
          "base_uri": "https://localhost:8080/"
        }
      },
      "execution_count": null,
      "outputs": [
        {
          "output_type": "execute_result",
          "data": {
            "text/plain": [
              "2"
            ]
          },
          "metadata": {},
          "execution_count": 42
        }
      ]
    },
    {
      "cell_type": "code",
      "source": [
        "razas_de_perros.sort()\n",
        "razas_de_perros"
      ],
      "metadata": {
        "id": "Qo9du63wXj6w",
        "outputId": "42f80a44-f502-4308-8d73-7232780c06b0",
        "colab": {
          "base_uri": "https://localhost:8080/"
        }
      },
      "execution_count": null,
      "outputs": [
        {
          "output_type": "execute_result",
          "data": {
            "text/plain": [
              "['Bulldog Francés', 'Labrador Retriever', 'Pastor Alemán', 'Poodle']"
            ]
          },
          "metadata": {},
          "execution_count": 43
        }
      ]
    },
    {
      "cell_type": "markdown",
      "source": [
        "## Diccionario"
      ],
      "metadata": {
        "id": "Rc22Vc08YDZ2"
      }
    },
    {
      "cell_type": "markdown",
      "source": [
        "Los diccionarios son un tipo de estructura de datos que almacenan pares de *llave-valor*. Estos son delimitados por llaves `{}` y los pares *llave-valor* son separados por comas.\n",
        "\n",
        "```\n",
        "diccionario = {llave: valor}\n",
        "```\n",
        "\n",
        "La **llave** es un elemento único que identifica a un valor en el diccionario, mientras que el **valor** es el item que será almacenado para la llave. Las llaves y sus respectivos valores se pueden emplear para **cualquier tipo de dato**.\n",
        "\n",
        "Los diccionarios son útiles para almacenar y acceder a los datos de manera organizada y rápida. Se trata de un tipo de conjunto de elementos en Python, pues almacenan una colección de items."
      ],
      "metadata": {
        "id": "PJ-cCKPjeWxL"
      }
    },
    {
      "cell_type": "code",
      "source": [
        "diccionario = {'llave_1':1,\n",
        "               'llave_2':2}\n",
        "\n",
        "diccionario"
      ],
      "metadata": {
        "id": "NDHhzooE8ld5",
        "outputId": "8a721fd6-afcc-4e3f-8acb-7badee50c54a",
        "colab": {
          "base_uri": "https://localhost:8080/"
        }
      },
      "execution_count": 44,
      "outputs": [
        {
          "output_type": "execute_result",
          "data": {
            "text/plain": [
              "{'llave_1': 1, 'llave_2': 2}"
            ]
          },
          "metadata": {},
          "execution_count": 44
        }
      ]
    },
    {
      "cell_type": "code",
      "source": [
        "type (diccionario)"
      ],
      "metadata": {
        "id": "AVOzqzy-8lhh",
        "outputId": "9df62905-2817-4b65-d81b-615a5ffe24ff",
        "colab": {
          "base_uri": "https://localhost:8080/"
        }
      },
      "execution_count": 45,
      "outputs": [
        {
          "output_type": "execute_result",
          "data": {
            "text/plain": [
              "dict"
            ]
          },
          "metadata": {},
          "execution_count": 45
        }
      ]
    },
    {
      "cell_type": "markdown",
      "source": [
        "---\n",
        "**Situación:**\n",
        "\n",
        "Vamos a crear un conjunto de datos con las informaciones de matrícula de un estudiante. Los datos son los siguientes:\n",
        "\n",
        "- matrícula: 2000168933\n",
        "- día de registro: 25\n",
        "- mes de registro: 10\n",
        "- grupo: 2E"
      ],
      "metadata": {
        "id": "_JbQ3KMKfkXU"
      }
    },
    {
      "cell_type": "code",
      "source": [
        "estudiante = {\n",
        "    'matrícula': 2000168933,\n",
        "    'día de registro': 25,\n",
        "    'mes de registro': 10,\n",
        "    'grupo': '2E'\n",
        "             }\n",
        "\n",
        "estudiante"
      ],
      "metadata": {
        "id": "0lfOu_c38jED",
        "outputId": "4b2aee8d-0f83-4cc6-ea3c-fd7cfe5b2feb",
        "colab": {
          "base_uri": "https://localhost:8080/"
        }
      },
      "execution_count": 46,
      "outputs": [
        {
          "output_type": "execute_result",
          "data": {
            "text/plain": [
              "{'matrícula': 2000168933,\n",
              " 'día de registro': 25,\n",
              " 'mes de registro': 10,\n",
              " 'grupo': '2E'}"
            ]
          },
          "metadata": {},
          "execution_count": 46
        }
      ]
    },
    {
      "cell_type": "code",
      "source": [
        "estudiante ['matrícula']"
      ],
      "metadata": {
        "id": "XIuqpTTy8jHV",
        "outputId": "a302bd72-2ca3-4aae-9ebc-02538f7423c0",
        "colab": {
          "base_uri": "https://localhost:8080/"
        }
      },
      "execution_count": 47,
      "outputs": [
        {
          "output_type": "execute_result",
          "data": {
            "text/plain": [
              "2000168933"
            ]
          },
          "metadata": {},
          "execution_count": 47
        }
      ]
    },
    {
      "cell_type": "code",
      "source": [
        "estudiante ['grupo']"
      ],
      "metadata": {
        "id": "K8rk1Xqxb5qB",
        "outputId": "b838a849-ed5f-4a7a-c506-ffe6b5122fd5",
        "colab": {
          "base_uri": "https://localhost:8080/",
          "height": 35
        }
      },
      "execution_count": 48,
      "outputs": [
        {
          "output_type": "execute_result",
          "data": {
            "text/plain": [
              "'2E'"
            ],
            "application/vnd.google.colaboratory.intrinsic+json": {
              "type": "string"
            }
          },
          "metadata": {},
          "execution_count": 48
        }
      ]
    },
    {
      "cell_type": "markdown",
      "source": [
        "Es posible sustituir los valores dentro de una llave. Por ejemplo, recibimos la información de que el grupo del estudiante que registramos cambio a `'2G'` y ahora necesitamos cambiar el valor de la llave `'grupo'`."
      ],
      "metadata": {
        "id": "8ex5pt2ykDd2"
      }
    },
    {
      "cell_type": "code",
      "source": [
        "estudiante ['grupo'] = '2G'\n",
        "estudiante"
      ],
      "metadata": {
        "id": "kQGlp36b8fyP",
        "outputId": "d8fefe81-71ce-4230-f666-d9c5931bc7f0",
        "colab": {
          "base_uri": "https://localhost:8080/"
        }
      },
      "execution_count": 49,
      "outputs": [
        {
          "output_type": "execute_result",
          "data": {
            "text/plain": [
              "{'matrícula': 2000168933,\n",
              " 'día de registro': 25,\n",
              " 'mes de registro': 10,\n",
              " 'grupo': '2G'}"
            ]
          },
          "metadata": {},
          "execution_count": 49
        }
      ]
    },
    {
      "cell_type": "markdown",
      "source": [
        "También podemos añadir otros datos al diccionario. Vamos a añadir la información sobre la modalidad de estudio, nuestro estudiante estudiará inicialemente en la modalidad EAD.\n",
        "\n",
        "Definiremos una llave llamada `'modalidad'` con el valor `'EAD'`."
      ],
      "metadata": {
        "id": "wB0qRb56mQvv"
      }
    },
    {
      "cell_type": "code",
      "source": [
        "estudiante ['modalidad'] = 'EAD'\n",
        "estudiante"
      ],
      "metadata": {
        "id": "EeLYdlIm8d8a",
        "outputId": "d8aaee44-16f4-4926-89cd-e2476dd30a5b",
        "colab": {
          "base_uri": "https://localhost:8080/"
        }
      },
      "execution_count": 50,
      "outputs": [
        {
          "output_type": "execute_result",
          "data": {
            "text/plain": [
              "{'matrícula': 2000168933,\n",
              " 'día de registro': 25,\n",
              " 'mes de registro': 10,\n",
              " 'grupo': '2G',\n",
              " 'modalidad': 'EAD'}"
            ]
          },
          "metadata": {},
          "execution_count": 50
        }
      ]
    },
    {
      "cell_type": "code",
      "source": [
        "len (estudiante)"
      ],
      "metadata": {
        "id": "olDIavsm8d_o",
        "outputId": "d003bd66-9c3b-4a38-f5f4-5087d0d40506",
        "colab": {
          "base_uri": "https://localhost:8080/"
        }
      },
      "execution_count": 51,
      "outputs": [
        {
          "output_type": "execute_result",
          "data": {
            "text/plain": [
              "5"
            ]
          },
          "metadata": {},
          "execution_count": 51
        }
      ]
    },
    {
      "cell_type": "code",
      "source": [
        "diccionario = {\n",
        "    clave1: valor1,\n",
        "    clave2: valor2,\n",
        "    clave3: valor3,\n",
        "    ...\n",
        "}"
      ],
      "metadata": {
        "id": "SgjqUzxNe4er",
        "outputId": "28973eca-cdb0-452a-e6f7-43ffe918f970",
        "colab": {
          "base_uri": "https://localhost:8080/",
          "height": 106
        }
      },
      "execution_count": 52,
      "outputs": [
        {
          "output_type": "error",
          "ename": "SyntaxError",
          "evalue": "':' expected after dictionary key (ipython-input-52-3310230255.py, line 5)",
          "traceback": [
            "\u001b[0;36m  File \u001b[0;32m\"/tmp/ipython-input-52-3310230255.py\"\u001b[0;36m, line \u001b[0;32m5\u001b[0m\n\u001b[0;31m    ...\u001b[0m\n\u001b[0m      ^\u001b[0m\n\u001b[0;31mSyntaxError\u001b[0m\u001b[0;31m:\u001b[0m ':' expected after dictionary key\n"
          ]
        }
      ]
    },
    {
      "cell_type": "code",
      "source": [
        "diccionario_vacio = {}  # o diccionario_vacio = dict()"
      ],
      "metadata": {
        "id": "bR-n_KmUe4mS"
      },
      "execution_count": 53,
      "outputs": []
    },
    {
      "cell_type": "code",
      "source": [
        "estudiante = {\n",
        "    \"matricula\": \"2168933\",\n",
        "    \"dia_registro\": 25,\n",
        "    \"mes_registro\": 10,\n",
        "    \"grupo\": \"2E\"\n",
        "}"
      ],
      "metadata": {
        "id": "WoVtr7kJe4pK"
      },
      "execution_count": 54,
      "outputs": []
    },
    {
      "cell_type": "code",
      "source": [
        "matricula = estudiante[\"matricula\"]  # Accede al valor de la clave \"matricula\"\n",
        "print(matricula)  # Imprime: 2168933"
      ],
      "metadata": {
        "id": "B76RIBppe4rS",
        "outputId": "46b7bb5c-aeae-48df-aa83-7556c7266d38",
        "colab": {
          "base_uri": "https://localhost:8080/"
        }
      },
      "execution_count": 55,
      "outputs": [
        {
          "output_type": "stream",
          "name": "stdout",
          "text": [
            "2168933\n"
          ]
        }
      ]
    },
    {
      "cell_type": "code",
      "source": [
        "estudiante[\"grupo\"] = \"2G\"  # Modifica el valor de la clave \"grupo\"\n",
        "print(estudiante)"
      ],
      "metadata": {
        "id": "wsYjHWWke4ti",
        "outputId": "c58a3725-4e98-4cab-d83f-9d4824e43206",
        "colab": {
          "base_uri": "https://localhost:8080/"
        }
      },
      "execution_count": 56,
      "outputs": [
        {
          "output_type": "stream",
          "name": "stdout",
          "text": [
            "{'matricula': '2168933', 'dia_registro': 25, 'mes_registro': 10, 'grupo': '2G'}\n"
          ]
        }
      ]
    },
    {
      "cell_type": "code",
      "source": [
        "estudiante[\"modalidad\"] = \"educación a distancia\"  # Añade una nueva clave \"modalidad\"\n",
        "estudiante"
      ],
      "metadata": {
        "id": "Ho00C_Nye4vY",
        "outputId": "e2b768ba-708b-43bf-db73-c38c7bd41387",
        "colab": {
          "base_uri": "https://localhost:8080/"
        }
      },
      "execution_count": 58,
      "outputs": [
        {
          "output_type": "execute_result",
          "data": {
            "text/plain": [
              "{'matricula': '2168933',\n",
              " 'dia_registro': 25,\n",
              " 'mes_registro': 10,\n",
              " 'grupo': '2G',\n",
              " 'modalidad': 'educación a distancia'}"
            ]
          },
          "metadata": {},
          "execution_count": 58
        }
      ]
    },
    {
      "cell_type": "code",
      "source": [
        "curso = {\n",
        "    \"nombre\": \"Python para Data Science\",\n",
        "    \"instructor\": \"Álvaro Camacho\",\n",
        "    \"secciones\": [\"Estructuras de datos\", \"Funciones\", \"Librerías\"],\n",
        "    \"evaluacion\": {\n",
        "        \"tareas\": 0.3,\n",
        "        \"examen\": 0.7\n",
        "    }\n",
        "}\n",
        "\n",
        "print(curso[\"nombre\"])  # Imprime: Python para Data Science\n",
        "print(curso[\"evaluacion\"][\"tareas\"])  # Imprime: 0.3\n",
        "\n",
        "curso[\"secciones\"].append(\"Nuevos temas\")  # Añade una nueva sección\n",
        "print(curso[\"secciones\"])  # Imprime: ['Estructuras de datos', 'Func"
      ],
      "metadata": {
        "id": "D-XV0UuWe41q",
        "outputId": "da4b8c95-65be-45ab-83b8-e4673aceee26",
        "colab": {
          "base_uri": "https://localhost:8080/"
        }
      },
      "execution_count": 59,
      "outputs": [
        {
          "output_type": "stream",
          "name": "stdout",
          "text": [
            "Python para Data Science\n",
            "0.3\n",
            "['Estructuras de datos', 'Funciones', 'Librerías', 'Nuevos temas']\n"
          ]
        }
      ]
    },
    {
      "cell_type": "markdown",
      "source": [
        "## Profundizando en diccionarios"
      ],
      "metadata": {
        "id": "LJ3o_inroxg_"
      }
    },
    {
      "cell_type": "markdown",
      "source": [
        "#### [`pop()`](https://python-reference.readthedocs.io/en/latest/docs/dict/pop.html)\n",
        "Remueve un item de un diccionario y lo representa en la salida."
      ],
      "metadata": {
        "id": "2N3GLlkSpBiu"
      }
    },
    {
      "cell_type": "code",
      "source": [],
      "metadata": {
        "id": "ZsSCZx6G8b-T"
      },
      "execution_count": null,
      "outputs": []
    },
    {
      "cell_type": "code",
      "source": [],
      "metadata": {
        "id": "7lQ8_jpi8cBR"
      },
      "execution_count": null,
      "outputs": []
    },
    {
      "cell_type": "markdown",
      "source": [
        "#### [`items()`](https://python-reference.readthedocs.io/en/latest/docs/dict/items.html)\n",
        "Retorna una lista de pares `llave-valor` del diccionario."
      ],
      "metadata": {
        "id": "sYZGvJJYrW_y"
      }
    },
    {
      "cell_type": "code",
      "source": [],
      "metadata": {
        "id": "ncdycLV08an7"
      },
      "execution_count": null,
      "outputs": []
    },
    {
      "cell_type": "markdown",
      "source": [
        "#### [`keys()`](https://python-reference.readthedocs.io/en/latest/docs/dict/keys.html)\n",
        "Retorna una lista de las llaves del diccionario."
      ],
      "metadata": {
        "id": "Lb0utNFGrZBY"
      }
    },
    {
      "cell_type": "code",
      "source": [],
      "metadata": {
        "id": "eZo0biaM8ZVs"
      },
      "execution_count": null,
      "outputs": []
    },
    {
      "cell_type": "markdown",
      "source": [
        "#### [`values()`](https://python-reference.readthedocs.io/en/latest/docs/dict/values.html)\n",
        "Retorna una lista de los valores del diccionario."
      ],
      "metadata": {
        "id": "qKyu3bf9rbtX"
      }
    },
    {
      "cell_type": "code",
      "source": [],
      "metadata": {
        "id": "-NxRT9C18Yvo"
      },
      "execution_count": null,
      "outputs": []
    },
    {
      "cell_type": "markdown",
      "source": [
        "### Lectura de valores con el lazo `for`"
      ],
      "metadata": {
        "id": "e3XVjR8Frp75"
      }
    },
    {
      "cell_type": "code",
      "source": [],
      "metadata": {
        "id": "NYcjU-Ip8Xan"
      },
      "execution_count": null,
      "outputs": []
    },
    {
      "cell_type": "code",
      "source": [],
      "metadata": {
        "id": "aAnpP1Wv8XfJ"
      },
      "execution_count": null,
      "outputs": []
    }
  ]
}